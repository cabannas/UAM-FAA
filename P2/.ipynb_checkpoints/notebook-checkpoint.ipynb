{
 "cells": [
  {
   "cell_type": "markdown",
   "metadata": {},
   "source": [
    "# Práctica 2"
   ]
  },
  {
   "cell_type": "code",
   "execution_count": 1,
   "metadata": {},
   "outputs": [],
   "source": [
    "import Clasificador\n",
    "import EstrategiaParticionado\n",
    "from Datos import Datos\n",
    "from sklearn.model_selection import cross_val_score\n",
    "from sklearn.neighbors import KNeighborsClassifier\n",
    "from sklearn.linear_model import LogisticRegression\n",
    "from plotModel import plotModel\n",
    "import matplotlib.pyplot as plt\n",
    "import pandas as pd"
   ]
  },
  {
   "cell_type": "markdown",
   "metadata": {},
   "source": [
    "## Apartado 1 - Vecinos Próximos"
   ]
  },
  {
   "cell_type": "markdown",
   "metadata": {},
   "source": [
    "### Validación Cruzada (4 particiones) - wdbc.data (datos normalizados)"
   ]
  },
  {
   "cell_type": "code",
   "execution_count": 2,
   "metadata": {
    "scrolled": false
   },
   "outputs": [],
   "source": [
    "# Elegimos el conjunto de datos\n",
    "dataset = Datos('./ConjuntoDatos/wdbc.data')\n",
    "\n",
    "# Elegimos la estrategia de particionado\n",
    "estrategia = EstrategiaParticionado.ValidacionCruzada(numero_particiones=4)\n",
    "\n",
    "# Creamos listas que reuna los resultados\n",
    "lista_knn_valcruzada_norm_indice = []\n",
    "lista_knn_valcruzada_norm_media = []\n",
    "lista_knn_valcruzada_norm_std = []"
   ]
  },
  {
   "cell_type": "markdown",
   "metadata": {},
   "source": [
    "Probamos el conjunto para 1 vecino próximo"
   ]
  },
  {
   "cell_type": "code",
   "execution_count": 3,
   "metadata": {},
   "outputs": [
    {
     "name": "stdout",
     "output_type": "stream",
     "text": [
      "0.04395252634689255\n",
      "0.00920781683560843\n"
     ]
    }
   ],
   "source": [
    "# Elegimos el clasificador\n",
    "clasificador = Clasificador.ClasificadorVecinosProximos(vecinos=1, normalizar=True)\n",
    "\n",
    "# Calculamos el error y la desviación tipica\n",
    "error_media, error_std = clasificador.validacion(estrategia, dataset, clasificador)\n",
    "\n",
    "lista_knn_valcruzada_norm_indice.append(1)\n",
    "lista_knn_valcruzada_norm_media.append(error_media*100)\n",
    "lista_knn_valcruzada_norm_std.append(error_std)\n",
    "\n",
    "print(error_media)\n",
    "print(error_std)"
   ]
  },
  {
   "cell_type": "markdown",
   "metadata": {},
   "source": [
    "Probamos el conjunto para 3 vecinos próximos"
   ]
  },
  {
   "cell_type": "code",
   "execution_count": 4,
   "metadata": {},
   "outputs": [
    {
     "name": "stdout",
     "output_type": "stream",
     "text": [
      "0.036885649561705904\n",
      "0.01673201071405617\n"
     ]
    }
   ],
   "source": [
    "# Elegimos el clasificador\n",
    "clasificador = Clasificador.ClasificadorVecinosProximos(vecinos=3, normalizar=True)\n",
    "\n",
    "# Calculamos el error y la desviación tipica\n",
    "error_media, error_std = clasificador.validacion(estrategia, dataset, clasificador)\n",
    "\n",
    "lista_knn_valcruzada_norm_indice.append(3)\n",
    "lista_knn_valcruzada_norm_media.append(error_media*100)\n",
    "lista_knn_valcruzada_norm_std.append(error_std)\n",
    "\n",
    "print(error_media)\n",
    "print(error_std)"
   ]
  },
  {
   "cell_type": "markdown",
   "metadata": {},
   "source": [
    "Probamos el conjunto para 5 vecinos próximos"
   ]
  },
  {
   "cell_type": "code",
   "execution_count": 5,
   "metadata": {},
   "outputs": [
    {
     "name": "stdout",
     "output_type": "stream",
     "text": [
      "0.038683147838077414\n",
      "0.00793973321904064\n"
     ]
    }
   ],
   "source": [
    "# Elegimos el clasificador\n",
    "clasificador = Clasificador.ClasificadorVecinosProximos(vecinos=5, normalizar=True)\n",
    "\n",
    "# Calculamos el error y la desviación tipica\n",
    "error_media, error_std = clasificador.validacion(estrategia, dataset, clasificador)\n",
    "\n",
    "lista_knn_valcruzada_norm_indice.append(5)\n",
    "lista_knn_valcruzada_norm_media.append(error_media*100)\n",
    "lista_knn_valcruzada_norm_std.append(error_std)\n",
    "\n",
    "print(error_media)\n",
    "print(error_std)"
   ]
  },
  {
   "cell_type": "markdown",
   "metadata": {},
   "source": [
    "Probamos el conjunto para 11 vecinos próximos"
   ]
  },
  {
   "cell_type": "code",
   "execution_count": 6,
   "metadata": {},
   "outputs": [
    {
     "name": "stdout",
     "output_type": "stream",
     "text": [
      "0.043940214714862605\n",
      "0.007692110246507128\n"
     ]
    }
   ],
   "source": [
    "# Elegimos el clasificador\n",
    "clasificador = Clasificador.ClasificadorVecinosProximos(vecinos=11, normalizar=True)\n",
    "\n",
    "# Calculamos el error y la desviación tipica\n",
    "error_media, error_std = clasificador.validacion(estrategia, dataset, clasificador)\n",
    "\n",
    "lista_knn_valcruzada_norm_indice.append(11)\n",
    "lista_knn_valcruzada_norm_media.append(error_media*100)\n",
    "lista_knn_valcruzada_norm_std.append(error_std)\n",
    "\n",
    "print(error_media)\n",
    "print(error_std)"
   ]
  },
  {
   "cell_type": "markdown",
   "metadata": {},
   "source": [
    "Probamos el conjunto para 21 vecinos próximos"
   ]
  },
  {
   "cell_type": "code",
   "execution_count": 7,
   "metadata": {},
   "outputs": [
    {
     "name": "stdout",
     "output_type": "stream",
     "text": [
      "0.04045602285038905\n",
      "0.01891789529412814\n"
     ]
    }
   ],
   "source": [
    "# Elegimos el clasificador\n",
    "clasificador = Clasificador.ClasificadorVecinosProximos(vecinos=21, normalizar=True)\n",
    "\n",
    "# Calculamos el error y la desviación tipica\n",
    "error_media, error_std = clasificador.validacion(estrategia, dataset, clasificador)\n",
    "\n",
    "lista_knn_valcruzada_norm_indice.append(21)\n",
    "lista_knn_valcruzada_norm_media.append(error_media*100)\n",
    "lista_knn_valcruzada_norm_std.append(error_std)\n",
    "\n",
    "print(error_media)\n",
    "print(error_std)"
   ]
  },
  {
   "cell_type": "markdown",
   "metadata": {},
   "source": [
    "Probamos el conjunto para 51 vecinos próximos"
   ]
  },
  {
   "cell_type": "code",
   "execution_count": 8,
   "metadata": {
    "scrolled": false
   },
   "outputs": [
    {
     "name": "stdout",
     "output_type": "stream",
     "text": [
      "0.05095784497192948\n",
      "0.009092713306264428\n"
     ]
    }
   ],
   "source": [
    "# Elegimos el clasificador\n",
    "clasificador = Clasificador.ClasificadorVecinosProximos(vecinos=51, normalizar=True)\n",
    "\n",
    "# Calculamos el error y la desviación tipica\n",
    "error_media, error_std = clasificador.validacion(estrategia, dataset, clasificador)\n",
    "\n",
    "lista_knn_valcruzada_norm_indice.append(51)\n",
    "lista_knn_valcruzada_norm_media.append(error_media*100)\n",
    "lista_knn_valcruzada_norm_std.append(error_std)\n",
    "\n",
    "print(error_media)\n",
    "print(error_std)"
   ]
  },
  {
   "cell_type": "markdown",
   "metadata": {},
   "source": [
    "### Validación Cruzada (4 particiones) - wdbc.data (datos no normalizados)"
   ]
  },
  {
   "cell_type": "code",
   "execution_count": 9,
   "metadata": {
    "scrolled": false
   },
   "outputs": [],
   "source": [
    "# Elegimos el conjunto de datos\n",
    "dataset = Datos('./ConjuntoDatos/wdbc.data')\n",
    "\n",
    "# Elegimos la estrategia de particionado\n",
    "estrategia = EstrategiaParticionado.ValidacionCruzada(numero_particiones=4)\n",
    "\n",
    "# Creamos listas que reuna los resultados\n",
    "lista_knn_valcruzada_indice = []\n",
    "lista_knn_valcruzada_media = []\n",
    "lista_knn_valcruzada_std = []"
   ]
  },
  {
   "cell_type": "markdown",
   "metadata": {},
   "source": [
    "Probamos el conjunto para 1 vecino próximo"
   ]
  },
  {
   "cell_type": "code",
   "execution_count": 10,
   "metadata": {},
   "outputs": [
    {
     "name": "stdout",
     "output_type": "stream",
     "text": [
      "0.0808258642765685\n",
      "0.007660754125335673\n"
     ]
    }
   ],
   "source": [
    "# Elegimos el clasificador\n",
    "clasificador = Clasificador.ClasificadorVecinosProximos(vecinos=1, normalizar=False)\n",
    "\n",
    "# Calculamos el error y la desviación tipica\n",
    "error_media, error_std = clasificador.validacion(estrategia, dataset, clasificador)\n",
    "\n",
    "lista_knn_valcruzada_indice.append(1)\n",
    "lista_knn_valcruzada_media.append(error_media*100)\n",
    "lista_knn_valcruzada_std.append(error_std)\n",
    "\n",
    "print(error_media)\n",
    "print(error_std)"
   ]
  },
  {
   "cell_type": "markdown",
   "metadata": {},
   "source": [
    "Probamos el conjunto para 3 vecinos próximos"
   ]
  },
  {
   "cell_type": "code",
   "execution_count": 11,
   "metadata": {},
   "outputs": [
    {
     "name": "stdout",
     "output_type": "stream",
     "text": [
      "0.08786811779769527\n",
      "0.015313982746123915\n"
     ]
    }
   ],
   "source": [
    "# Elegimos el clasificador\n",
    "clasificador = Clasificador.ClasificadorVecinosProximos(vecinos=3, normalizar=False)\n",
    "\n",
    "# Calculamos el error y la desviación tipica\n",
    "error_media, error_std = clasificador.validacion(estrategia, dataset, clasificador)\n",
    "\n",
    "lista_knn_valcruzada_indice.append(3)\n",
    "lista_knn_valcruzada_media.append(error_media*100)\n",
    "lista_knn_valcruzada_std.append(error_std)\n",
    "\n",
    "print(error_media)\n",
    "print(error_std)"
   ]
  },
  {
   "cell_type": "markdown",
   "metadata": {},
   "source": [
    "Probamos el conjunto para 5 vecinos próximos"
   ]
  },
  {
   "cell_type": "code",
   "execution_count": 12,
   "metadata": {},
   "outputs": [
    {
     "name": "stdout",
     "output_type": "stream",
     "text": [
      "0.07731704914803506\n",
      "0.013098141587011863\n"
     ]
    }
   ],
   "source": [
    "# Elegimos el clasificador\n",
    "clasificador = Clasificador.ClasificadorVecinosProximos(vecinos=5, normalizar=False)\n",
    "\n",
    "# Calculamos el error y la desviación tipica\n",
    "error_media, error_std = clasificador.validacion(estrategia, dataset, clasificador)\n",
    "\n",
    "lista_knn_valcruzada_indice.append(5)\n",
    "lista_knn_valcruzada_media.append(error_media*100)\n",
    "lista_knn_valcruzada_std.append(error_std)\n",
    "\n",
    "print(error_media)\n",
    "print(error_std)"
   ]
  },
  {
   "cell_type": "markdown",
   "metadata": {},
   "source": [
    "Probamos el conjunto para 11 vecinos próximos"
   ]
  },
  {
   "cell_type": "code",
   "execution_count": 13,
   "metadata": {},
   "outputs": [
    {
     "name": "stdout",
     "output_type": "stream",
     "text": [
      "0.07203535900718999\n",
      "0.007437479225488604\n"
     ]
    }
   ],
   "source": [
    "# Elegimos el clasificador\n",
    "clasificador = Clasificador.ClasificadorVecinosProximos(vecinos=11, normalizar=False)\n",
    "\n",
    "# Calculamos el error y la desviación tipica\n",
    "error_media, error_std = clasificador.validacion(estrategia, dataset, clasificador)\n",
    "\n",
    "lista_knn_valcruzada_indice.append(11)\n",
    "lista_knn_valcruzada_media.append(error_media*100)\n",
    "lista_knn_valcruzada_std.append(error_std)\n",
    "\n",
    "print(error_media)\n",
    "print(error_std)"
   ]
  },
  {
   "cell_type": "markdown",
   "metadata": {},
   "source": [
    "Probamos el conjunto para 21 vecinos próximos"
   ]
  },
  {
   "cell_type": "code",
   "execution_count": 14,
   "metadata": {},
   "outputs": [
    {
     "name": "stdout",
     "output_type": "stream",
     "text": [
      "0.07203535900718999\n",
      "0.020061641005170296\n"
     ]
    }
   ],
   "source": [
    "# Elegimos el clasificador\n",
    "clasificador = Clasificador.ClasificadorVecinosProximos(vecinos=21, normalizar=False)\n",
    "\n",
    "# Calculamos el error y la desviación tipica\n",
    "error_media, error_std = clasificador.validacion(estrategia, dataset, clasificador)\n",
    "\n",
    "lista_knn_valcruzada_indice.append(21)\n",
    "lista_knn_valcruzada_media.append(error_media*100)\n",
    "lista_knn_valcruzada_std.append(error_std)\n",
    "\n",
    "print(error_media)\n",
    "print(error_std)"
   ]
  },
  {
   "cell_type": "markdown",
   "metadata": {},
   "source": [
    "Probamos el conjunto para 51 vecinos próximos"
   ]
  },
  {
   "cell_type": "code",
   "execution_count": 15,
   "metadata": {
    "scrolled": true
   },
   "outputs": [
    {
     "name": "stdout",
     "output_type": "stream",
     "text": [
      "0.08791736432581501\n",
      "0.025254980753139027\n"
     ]
    }
   ],
   "source": [
    "# Elegimos el clasificador\n",
    "clasificador = Clasificador.ClasificadorVecinosProximos(vecinos=51, normalizar=False)\n",
    "\n",
    "# Calculamos el error y la desviación tipica\n",
    "error_media, error_std = clasificador.validacion(estrategia, dataset, clasificador)\n",
    "\n",
    "lista_knn_valcruzada_indice.append(51)\n",
    "lista_knn_valcruzada_media.append(error_media*100)\n",
    "lista_knn_valcruzada_std.append(error_std)\n",
    "\n",
    "print(error_media)\n",
    "print(error_std)"
   ]
  },
  {
   "cell_type": "markdown",
   "metadata": {},
   "source": [
    "### Validación Simple (50-50) - online_shoppers.data (datos normalizados)"
   ]
  },
  {
   "cell_type": "markdown",
   "metadata": {},
   "source": [
    "### Importante:\n",
    "\n",
    "Solo probaremos online_shoppers.data con datos normalizados ya que la ejecución del clasificador por cada conjunto de datos online_shoppers.data tarda muchísimo."
   ]
  },
  {
   "cell_type": "code",
   "execution_count": 16,
   "metadata": {
    "scrolled": false
   },
   "outputs": [],
   "source": [
    "# Elegimos el conjunto de datos\n",
    "dataset = Datos('./ConjuntoDatos/online_shoppers.data')\n",
    "\n",
    "# Elegimos la estrategia de particionado\n",
    "estrategia = EstrategiaParticionado.ValidacionSimple(porcentaje_particion=50)\n",
    "\n",
    "# Creamos listas que reuna los resultados\n",
    "lista_knn_valsimple_indice = []\n",
    "lista_knn_valsimple_media = []"
   ]
  },
  {
   "cell_type": "markdown",
   "metadata": {},
   "source": [
    "Probamos el conjunto para 11 vecinos próximos"
   ]
  },
  {
   "cell_type": "code",
   "execution_count": 17,
   "metadata": {},
   "outputs": [
    {
     "name": "stdout",
     "output_type": "stream",
     "text": [
      "0.12003244120032441\n",
      "0\n"
     ]
    }
   ],
   "source": [
    "# Elegimos el clasificador\n",
    "clasificador = Clasificador.ClasificadorVecinosProximos(vecinos=11)\n",
    "\n",
    "# Calculamos el error y la desviación tipica\n",
    "error_media, error_std = clasificador.validacion(estrategia, dataset, clasificador)\n",
    "\n",
    "lista_knn_valsimple_indice.append(11)\n",
    "lista_knn_valsimple_media.append(error_media*100)\n",
    "\n",
    "print(error_media)\n",
    "print(error_std)"
   ]
  },
  {
   "cell_type": "markdown",
   "metadata": {},
   "source": [
    "### Colección de Resultados"
   ]
  },
  {
   "cell_type": "code",
   "execution_count": 18,
   "metadata": {
    "scrolled": true
   },
   "outputs": [
    {
     "name": "stdout",
     "output_type": "stream",
     "text": [
      "-- Conjunto de datos wdbc.data --\n",
      "Resultados para KNN con Validación Cruzada y datos normalizados:\n"
     ]
    },
    {
     "data": {
      "text/html": [
       "<style  type=\"text/css\" >\n",
       "</style><table id=\"T_e5f14900_0d45_11ea_8bff_6b2173bbdbb2\" ><thead>    <tr>        <th class=\"col_heading level0 col0\" >Num Vecinos</th>        <th class=\"col_heading level0 col1\" >Tasa error (%)</th>        <th class=\"col_heading level0 col2\" >Tasa std</th>    </tr></thead><tbody>\n",
       "                <tr>\n",
       "                                <td id=\"T_e5f14900_0d45_11ea_8bff_6b2173bbdbb2row0_col0\" class=\"data row0 col0\" >1</td>\n",
       "                        <td id=\"T_e5f14900_0d45_11ea_8bff_6b2173bbdbb2row0_col1\" class=\"data row0 col1\" >4.39525</td>\n",
       "                        <td id=\"T_e5f14900_0d45_11ea_8bff_6b2173bbdbb2row0_col2\" class=\"data row0 col2\" >0.00920782</td>\n",
       "            </tr>\n",
       "            <tr>\n",
       "                                <td id=\"T_e5f14900_0d45_11ea_8bff_6b2173bbdbb2row1_col0\" class=\"data row1 col0\" >3</td>\n",
       "                        <td id=\"T_e5f14900_0d45_11ea_8bff_6b2173bbdbb2row1_col1\" class=\"data row1 col1\" >3.68856</td>\n",
       "                        <td id=\"T_e5f14900_0d45_11ea_8bff_6b2173bbdbb2row1_col2\" class=\"data row1 col2\" >0.016732</td>\n",
       "            </tr>\n",
       "            <tr>\n",
       "                                <td id=\"T_e5f14900_0d45_11ea_8bff_6b2173bbdbb2row2_col0\" class=\"data row2 col0\" >5</td>\n",
       "                        <td id=\"T_e5f14900_0d45_11ea_8bff_6b2173bbdbb2row2_col1\" class=\"data row2 col1\" >3.86831</td>\n",
       "                        <td id=\"T_e5f14900_0d45_11ea_8bff_6b2173bbdbb2row2_col2\" class=\"data row2 col2\" >0.00793973</td>\n",
       "            </tr>\n",
       "            <tr>\n",
       "                                <td id=\"T_e5f14900_0d45_11ea_8bff_6b2173bbdbb2row3_col0\" class=\"data row3 col0\" >11</td>\n",
       "                        <td id=\"T_e5f14900_0d45_11ea_8bff_6b2173bbdbb2row3_col1\" class=\"data row3 col1\" >4.39402</td>\n",
       "                        <td id=\"T_e5f14900_0d45_11ea_8bff_6b2173bbdbb2row3_col2\" class=\"data row3 col2\" >0.00769211</td>\n",
       "            </tr>\n",
       "            <tr>\n",
       "                                <td id=\"T_e5f14900_0d45_11ea_8bff_6b2173bbdbb2row4_col0\" class=\"data row4 col0\" >21</td>\n",
       "                        <td id=\"T_e5f14900_0d45_11ea_8bff_6b2173bbdbb2row4_col1\" class=\"data row4 col1\" >4.0456</td>\n",
       "                        <td id=\"T_e5f14900_0d45_11ea_8bff_6b2173bbdbb2row4_col2\" class=\"data row4 col2\" >0.0189179</td>\n",
       "            </tr>\n",
       "            <tr>\n",
       "                                <td id=\"T_e5f14900_0d45_11ea_8bff_6b2173bbdbb2row5_col0\" class=\"data row5 col0\" >51</td>\n",
       "                        <td id=\"T_e5f14900_0d45_11ea_8bff_6b2173bbdbb2row5_col1\" class=\"data row5 col1\" >5.09578</td>\n",
       "                        <td id=\"T_e5f14900_0d45_11ea_8bff_6b2173bbdbb2row5_col2\" class=\"data row5 col2\" >0.00909271</td>\n",
       "            </tr>\n",
       "    </tbody></table>"
      ],
      "text/plain": [
       "<pandas.io.formats.style.Styler at 0x7f94fba2ac10>"
      ]
     },
     "metadata": {},
     "output_type": "display_data"
    },
    {
     "name": "stdout",
     "output_type": "stream",
     "text": [
      "Resultados para KNN con Validación Cruzada y datos NO normalizados:\n"
     ]
    },
    {
     "data": {
      "text/html": [
       "<style  type=\"text/css\" >\n",
       "</style><table id=\"T_e5f14901_0d45_11ea_8bff_6b2173bbdbb2\" ><thead>    <tr>        <th class=\"col_heading level0 col0\" >Num Vecinos</th>        <th class=\"col_heading level0 col1\" >Tasa error (%)</th>        <th class=\"col_heading level0 col2\" >Tasa std</th>    </tr></thead><tbody>\n",
       "                <tr>\n",
       "                                <td id=\"T_e5f14901_0d45_11ea_8bff_6b2173bbdbb2row0_col0\" class=\"data row0 col0\" >1</td>\n",
       "                        <td id=\"T_e5f14901_0d45_11ea_8bff_6b2173bbdbb2row0_col1\" class=\"data row0 col1\" >8.08259</td>\n",
       "                        <td id=\"T_e5f14901_0d45_11ea_8bff_6b2173bbdbb2row0_col2\" class=\"data row0 col2\" >0.00766075</td>\n",
       "            </tr>\n",
       "            <tr>\n",
       "                                <td id=\"T_e5f14901_0d45_11ea_8bff_6b2173bbdbb2row1_col0\" class=\"data row1 col0\" >3</td>\n",
       "                        <td id=\"T_e5f14901_0d45_11ea_8bff_6b2173bbdbb2row1_col1\" class=\"data row1 col1\" >8.78681</td>\n",
       "                        <td id=\"T_e5f14901_0d45_11ea_8bff_6b2173bbdbb2row1_col2\" class=\"data row1 col2\" >0.015314</td>\n",
       "            </tr>\n",
       "            <tr>\n",
       "                                <td id=\"T_e5f14901_0d45_11ea_8bff_6b2173bbdbb2row2_col0\" class=\"data row2 col0\" >5</td>\n",
       "                        <td id=\"T_e5f14901_0d45_11ea_8bff_6b2173bbdbb2row2_col1\" class=\"data row2 col1\" >7.7317</td>\n",
       "                        <td id=\"T_e5f14901_0d45_11ea_8bff_6b2173bbdbb2row2_col2\" class=\"data row2 col2\" >0.0130981</td>\n",
       "            </tr>\n",
       "            <tr>\n",
       "                                <td id=\"T_e5f14901_0d45_11ea_8bff_6b2173bbdbb2row3_col0\" class=\"data row3 col0\" >11</td>\n",
       "                        <td id=\"T_e5f14901_0d45_11ea_8bff_6b2173bbdbb2row3_col1\" class=\"data row3 col1\" >7.20354</td>\n",
       "                        <td id=\"T_e5f14901_0d45_11ea_8bff_6b2173bbdbb2row3_col2\" class=\"data row3 col2\" >0.00743748</td>\n",
       "            </tr>\n",
       "            <tr>\n",
       "                                <td id=\"T_e5f14901_0d45_11ea_8bff_6b2173bbdbb2row4_col0\" class=\"data row4 col0\" >21</td>\n",
       "                        <td id=\"T_e5f14901_0d45_11ea_8bff_6b2173bbdbb2row4_col1\" class=\"data row4 col1\" >7.20354</td>\n",
       "                        <td id=\"T_e5f14901_0d45_11ea_8bff_6b2173bbdbb2row4_col2\" class=\"data row4 col2\" >0.0200616</td>\n",
       "            </tr>\n",
       "            <tr>\n",
       "                                <td id=\"T_e5f14901_0d45_11ea_8bff_6b2173bbdbb2row5_col0\" class=\"data row5 col0\" >51</td>\n",
       "                        <td id=\"T_e5f14901_0d45_11ea_8bff_6b2173bbdbb2row5_col1\" class=\"data row5 col1\" >8.79174</td>\n",
       "                        <td id=\"T_e5f14901_0d45_11ea_8bff_6b2173bbdbb2row5_col2\" class=\"data row5 col2\" >0.025255</td>\n",
       "            </tr>\n",
       "    </tbody></table>"
      ],
      "text/plain": [
       "<pandas.io.formats.style.Styler at 0x7f94fba2a950>"
      ]
     },
     "metadata": {},
     "output_type": "display_data"
    },
    {
     "name": "stdout",
     "output_type": "stream",
     "text": [
      "-- Conjunto de datos online_shoppers.data --\n",
      "Resultados para KNN con Validación Simple:\n"
     ]
    },
    {
     "data": {
      "text/html": [
       "<style  type=\"text/css\" >\n",
       "</style><table id=\"T_e5f14902_0d45_11ea_8bff_6b2173bbdbb2\" ><thead>    <tr>        <th class=\"col_heading level0 col0\" >Num Vecinos</th>        <th class=\"col_heading level0 col1\" >Tasa error (%)</th>    </tr></thead><tbody>\n",
       "                <tr>\n",
       "                                <td id=\"T_e5f14902_0d45_11ea_8bff_6b2173bbdbb2row0_col0\" class=\"data row0 col0\" >11</td>\n",
       "                        <td id=\"T_e5f14902_0d45_11ea_8bff_6b2173bbdbb2row0_col1\" class=\"data row0 col1\" >12.0032</td>\n",
       "            </tr>\n",
       "    </tbody></table>"
      ],
      "text/plain": [
       "<pandas.io.formats.style.Styler at 0x7f94fb7762d0>"
      ]
     },
     "metadata": {},
     "output_type": "display_data"
    }
   ],
   "source": [
    "print(\"-- Conjunto de datos wdbc.data --\")\n",
    "print(\"Resultados para KNN con Validación Cruzada y datos normalizados:\")\n",
    "dataFrame = zip(lista_knn_valcruzada_norm_indice, lista_knn_valcruzada_norm_media, lista_knn_valcruzada_norm_std)\n",
    "tabla1 = pd.DataFrame(dataFrame, columns=[\"Num Vecinos\", \"Tasa error (%)\", \"Tasa std\"]).style.hide_index()\n",
    "display(tabla1)\n",
    "\n",
    "print(\"Resultados para KNN con Validación Cruzada y datos NO normalizados:\")\n",
    "dataFrame = zip(lista_knn_valcruzada_indice, lista_knn_valcruzada_media, lista_knn_valcruzada_std)\n",
    "tabla2 = pd.DataFrame(dataFrame, columns=[\"Num Vecinos\", \"Tasa error (%)\", \"Tasa std\"]).style.hide_index()\n",
    "display(tabla2)\n",
    "\n",
    "print(\"-- Conjunto de datos online_shoppers.data --\")\n",
    "print(\"Resultados para KNN con Validación Simple:\")\n",
    "dataFrame = zip(lista_knn_valsimple_indice, lista_knn_valsimple_media)\n",
    "tabla3 = pd.DataFrame(dataFrame, columns=[\"Num Vecinos\", \"Tasa error (%)\"]).style.hide_index()\n",
    "display(tabla3)"
   ]
  },
  {
   "cell_type": "markdown",
   "metadata": {},
   "source": [
    "### Breve Análisis de los Resultados Anteriores"
   ]
  },
  {
   "cell_type": "markdown",
   "metadata": {},
   "source": [
    "Podemos observar una tasa de error de en torno a 3%-5% en validación cruzada para wdbc.data con normalización. Es una tasa de error muy baja e indica unos resultados de clasificación óptimos. Así mismo, vemos que la desviación típica es también muy baja. También observamos que cuanto mayor es el conjunto de vecinos, más impreciso se vuelve el clasificador.\n",
    "\n",
    "\n",
    "Podemos observar una tasa de error de en torno a 6%-8% en validación cruzada para wdbc.data sin normalización. La tasa de error se mantiene baja aunque es mayor que la tasa de datos normalizados.\n",
    "\n",
    "Para el conjunto de datos \"online_shoppers.data\" hemos utilizado 11 vecinos, obteniendo una tasa de error de entre el 16% y el 18%. Es una tasa de error más que aceptable."
   ]
  },
  {
   "cell_type": "markdown",
   "metadata": {},
   "source": [
    "## Apartado 2 - Regresión Logística"
   ]
  },
  {
   "cell_type": "markdown",
   "metadata": {},
   "source": [
    "### Validación Cruzada (4 particiones) - wdbc.data"
   ]
  },
  {
   "cell_type": "code",
   "execution_count": 19,
   "metadata": {
    "scrolled": false
   },
   "outputs": [],
   "source": [
    "# Elegimos el conjunto de datos\n",
    "dataset = Datos('./ConjuntoDatos/wdbc.data')\n",
    "\n",
    "# Elegimos la estrategia de particionado\n",
    "estrategia = EstrategiaParticionado.ValidacionCruzada(numero_particiones=4)\n",
    "\n",
    "# Creamos listas que reuna los resultados\n",
    "lista_rl_valcruzada_fa = []\n",
    "lista_rl_valcruzada_epocas = []\n",
    "lista_rl_valcruzada_media = []\n",
    "lista_rl_valcruzada_std = []"
   ]
  },
  {
   "cell_type": "markdown",
   "metadata": {},
   "source": [
    "Probamos el clasificador con una constante de aprendizaje de 0.1 y 10 épocas:"
   ]
  },
  {
   "cell_type": "code",
   "execution_count": 20,
   "metadata": {},
   "outputs": [
    {
     "name": "stdout",
     "output_type": "stream",
     "text": [
      "0.0368856495617059\n",
      "0.01745728644042944\n"
     ]
    }
   ],
   "source": [
    "# Elegimos el clasificador\n",
    "clasificador = Clasificador.ClasificadorRegresionLogistica(aprendizaje=0.1, epocas=10)\n",
    "\n",
    "# Calculamos el error y la desviación tipica\n",
    "error_media, error_std = clasificador.validacion(estrategia, dataset, clasificador)\n",
    "\n",
    "lista_rl_valcruzada_fa.append(0.1)\n",
    "lista_rl_valcruzada_epocas.append(10)\n",
    "lista_rl_valcruzada_media.append(error_media*100)\n",
    "lista_rl_valcruzada_std.append(error_std)\n",
    "\n",
    "print(error_media)\n",
    "print(error_std)"
   ]
  },
  {
   "cell_type": "markdown",
   "metadata": {},
   "source": [
    "Probamos el clasificador con una constante de aprendizaje de 0.1 y 50 épocas:"
   ]
  },
  {
   "cell_type": "code",
   "execution_count": 21,
   "metadata": {},
   "outputs": [
    {
     "name": "stdout",
     "output_type": "stream",
     "text": [
      "0.03510046291736433\n",
      "0.019762110024853646\n"
     ]
    }
   ],
   "source": [
    "# Elegimos el clasificador\n",
    "clasificador = Clasificador.ClasificadorRegresionLogistica(aprendizaje=0.1, epocas=50)\n",
    "\n",
    "# Calculamos el error y la desviación tipica\n",
    "error_media, error_std = clasificador.validacion(estrategia, dataset, clasificador)\n",
    "\n",
    "lista_rl_valcruzada_fa.append(0.1)\n",
    "lista_rl_valcruzada_epocas.append(50)\n",
    "lista_rl_valcruzada_media.append(error_media*100)\n",
    "lista_rl_valcruzada_std.append(error_std)\n",
    "\n",
    "print(error_media)\n",
    "print(error_std)"
   ]
  },
  {
   "cell_type": "markdown",
   "metadata": {},
   "source": [
    "Probamos el clasificador con una constante de aprendizaje de 0.1 y 100 épocas:"
   ]
  },
  {
   "cell_type": "code",
   "execution_count": 22,
   "metadata": {},
   "outputs": [
    {
     "name": "stdout",
     "output_type": "stream",
     "text": [
      "0.04736284841918645\n",
      "0.03579405183056418\n"
     ]
    }
   ],
   "source": [
    "# Elegimos el clasificador\n",
    "clasificador = Clasificador.ClasificadorRegresionLogistica(aprendizaje=0.1, epocas=100)\n",
    "\n",
    "# Calculamos el error y la desviación tipica\n",
    "error_media, error_std = clasificador.validacion(estrategia, dataset, clasificador)\n",
    "\n",
    "lista_rl_valcruzada_fa.append(0.1)\n",
    "lista_rl_valcruzada_epocas.append(100)\n",
    "lista_rl_valcruzada_media.append(error_media*100)\n",
    "lista_rl_valcruzada_std.append(error_std)\n",
    "\n",
    "print(error_media)\n",
    "print(error_std)"
   ]
  },
  {
   "cell_type": "markdown",
   "metadata": {},
   "source": [
    "Probamos el clasificador con una constante de aprendizaje de 0.5 y 10 épocas:"
   ]
  },
  {
   "cell_type": "code",
   "execution_count": 23,
   "metadata": {},
   "outputs": [
    {
     "name": "stdout",
     "output_type": "stream",
     "text": [
      "0.056227223480744604\n",
      "0.016469351663972804\n"
     ]
    }
   ],
   "source": [
    "# Elegimos el clasificador\n",
    "clasificador = Clasificador.ClasificadorRegresionLogistica(aprendizaje=0.5, epocas=10)\n",
    "\n",
    "# Calculamos el error y la desviación tipica\n",
    "error_media, error_std = clasificador.validacion(estrategia, dataset, clasificador)\n",
    "\n",
    "lista_rl_valcruzada_fa.append(0.5)\n",
    "lista_rl_valcruzada_epocas.append(10)\n",
    "lista_rl_valcruzada_media.append(error_media*100)\n",
    "lista_rl_valcruzada_std.append(error_std)\n",
    "\n",
    "print(error_media)\n",
    "print(error_std)"
   ]
  },
  {
   "cell_type": "markdown",
   "metadata": {},
   "source": [
    "Probamos el clasificador con una constante de aprendizaje de 0.5 y 50 épocas:"
   ]
  },
  {
   "cell_type": "code",
   "execution_count": 24,
   "metadata": {},
   "outputs": [
    {
     "name": "stdout",
     "output_type": "stream",
     "text": [
      "0.04046833448241899\n",
      "0.0160800425046914\n"
     ]
    }
   ],
   "source": [
    "# Elegimos el clasificador\n",
    "clasificador = Clasificador.ClasificadorRegresionLogistica(aprendizaje=0.5, epocas=50)\n",
    "\n",
    "# Calculamos el error y la desviación tipica\n",
    "error_media, error_std = clasificador.validacion(estrategia, dataset, clasificador)\n",
    "\n",
    "lista_rl_valcruzada_fa.append(0.5)\n",
    "lista_rl_valcruzada_epocas.append(50)\n",
    "lista_rl_valcruzada_media.append(error_media*100)\n",
    "lista_rl_valcruzada_std.append(error_std)\n",
    "\n",
    "print(error_media)\n",
    "print(error_std)"
   ]
  },
  {
   "cell_type": "markdown",
   "metadata": {},
   "source": [
    "Probamos el clasificador con una constante de aprendizaje de 0.5 y 100 épocas:"
   ]
  },
  {
   "cell_type": "code",
   "execution_count": 25,
   "metadata": {},
   "outputs": [
    {
     "name": "stdout",
     "output_type": "stream",
     "text": [
      "0.03516202107751404\n",
      "0.017973802157488814\n"
     ]
    }
   ],
   "source": [
    "# Elegimos el clasificador\n",
    "clasificador = Clasificador.ClasificadorRegresionLogistica(aprendizaje=0.5, epocas=100)\n",
    "\n",
    "# Calculamos el error y la desviación tipica\n",
    "error_media, error_std = clasificador.validacion(estrategia, dataset, clasificador)\n",
    "\n",
    "lista_rl_valcruzada_fa.append(0.5)\n",
    "lista_rl_valcruzada_epocas.append(100)\n",
    "lista_rl_valcruzada_media.append(error_media*100)\n",
    "lista_rl_valcruzada_std.append(error_std)\n",
    "\n",
    "print(error_media)\n",
    "print(error_std)"
   ]
  },
  {
   "cell_type": "markdown",
   "metadata": {},
   "source": [
    "Probamos el clasificador con una constante de aprendizaje de 1 y 10 épocas:"
   ]
  },
  {
   "cell_type": "code",
   "execution_count": 26,
   "metadata": {
    "scrolled": true
   },
   "outputs": [
    {
     "name": "stdout",
     "output_type": "stream",
     "text": [
      "0.07739091894021471\n",
      "0.03563493373086132\n"
     ]
    }
   ],
   "source": [
    "# Elegimos el clasificador\n",
    "clasificador = Clasificador.ClasificadorRegresionLogistica(aprendizaje=1, epocas=10)\n",
    "\n",
    "# Calculamos el error y la desviación tipica\n",
    "error_media, error_std = clasificador.validacion(estrategia, dataset, clasificador)\n",
    "\n",
    "lista_rl_valcruzada_fa.append(1)\n",
    "lista_rl_valcruzada_epocas.append(10)\n",
    "lista_rl_valcruzada_media.append(error_media*100)\n",
    "lista_rl_valcruzada_std.append(error_std)\n",
    "\n",
    "print(error_media)\n",
    "print(error_std)"
   ]
  },
  {
   "cell_type": "markdown",
   "metadata": {},
   "source": [
    "Probamos el clasificador con una constante de aprendizaje de 1 y 50 épocas:"
   ]
  },
  {
   "cell_type": "code",
   "execution_count": 27,
   "metadata": {
    "scrolled": true
   },
   "outputs": [
    {
     "name": "stdout",
     "output_type": "stream",
     "text": [
      "0.056202600216684724\n",
      "0.012957985400566393\n"
     ]
    }
   ],
   "source": [
    "# Elegimos el clasificador\n",
    "clasificador = Clasificador.ClasificadorRegresionLogistica(aprendizaje=1, epocas=50)\n",
    "\n",
    "# Calculamos el error y la desviación tipica\n",
    "error_media, error_std = clasificador.validacion(estrategia, dataset, clasificador)\n",
    "\n",
    "lista_rl_valcruzada_fa.append(1)\n",
    "lista_rl_valcruzada_epocas.append(50)\n",
    "lista_rl_valcruzada_media.append(error_media*100)\n",
    "lista_rl_valcruzada_std.append(error_std)\n",
    "\n",
    "print(error_media)\n",
    "print(error_std)"
   ]
  },
  {
   "cell_type": "markdown",
   "metadata": {},
   "source": [
    "Probamos el clasificador con una constante de aprendizaje de 1 y 100 épocas:"
   ]
  },
  {
   "cell_type": "code",
   "execution_count": 28,
   "metadata": {
    "scrolled": true
   },
   "outputs": [
    {
     "name": "stdout",
     "output_type": "stream",
     "text": [
      "0.05097015660395942\n",
      "0.016049646754983802\n"
     ]
    }
   ],
   "source": [
    "# Elegimos el clasificador\n",
    "clasificador = Clasificador.ClasificadorRegresionLogistica(aprendizaje=1, epocas=100)\n",
    "\n",
    "# Calculamos el error y la desviación tipica\n",
    "error_media, error_std = clasificador.validacion(estrategia, dataset, clasificador)\n",
    "\n",
    "lista_rl_valcruzada_fa.append(1)\n",
    "lista_rl_valcruzada_epocas.append(10)\n",
    "lista_rl_valcruzada_media.append(error_media*100)\n",
    "lista_rl_valcruzada_std.append(error_std)\n",
    "\n",
    "print(error_media)\n",
    "print(error_std)"
   ]
  },
  {
   "cell_type": "markdown",
   "metadata": {},
   "source": [
    "### Validación Simple (50-50) - online_shoppers.data"
   ]
  },
  {
   "cell_type": "code",
   "execution_count": 29,
   "metadata": {
    "scrolled": false
   },
   "outputs": [],
   "source": [
    "# Elegimos el conjunto de datos\n",
    "dataset = Datos('./ConjuntoDatos/online_shoppers.data')\n",
    "\n",
    "# Elegimos la estrategia de particionado\n",
    "estrategia = EstrategiaParticionado.ValidacionSimple(porcentaje_particion=50)\n",
    "\n",
    "# Creamos listas que reuna los resultados\n",
    "lista_rl_valsimple_fa = []\n",
    "lista_rl_valsimple_epocas = []\n",
    "lista_rl_valsimple_media = []"
   ]
  },
  {
   "cell_type": "markdown",
   "metadata": {},
   "source": [
    "Probamos el clasificador con una constante de aprendizaje de 0.1 y 10 época:"
   ]
  },
  {
   "cell_type": "code",
   "execution_count": 30,
   "metadata": {
    "scrolled": false
   },
   "outputs": [
    {
     "name": "stdout",
     "output_type": "stream",
     "text": [
      "0.2186536901865369\n",
      "0\n"
     ]
    }
   ],
   "source": [
    "# Elegimos el clasificador\n",
    "clasificador = Clasificador.ClasificadorRegresionLogistica(aprendizaje=0.1, epocas=10)\n",
    "\n",
    "# Calculamos el error y la desviación tipica\n",
    "error_media, error_std = clasificador.validacion(estrategia, dataset, clasificador)\n",
    "\n",
    "lista_rl_valsimple_fa.append(0.1)\n",
    "lista_rl_valsimple_epocas.append(10)\n",
    "lista_rl_valsimple_media.append(error_media*100)\n",
    "\n",
    "print(error_media)\n",
    "print(error_std)"
   ]
  },
  {
   "cell_type": "markdown",
   "metadata": {},
   "source": [
    "### Colección de Resultados"
   ]
  },
  {
   "cell_type": "code",
   "execution_count": 31,
   "metadata": {
    "scrolled": true
   },
   "outputs": [
    {
     "name": "stdout",
     "output_type": "stream",
     "text": [
      "-- Conjunto de datos wdbc.data --\n",
      "Resultados para Regresión Logística con Validación Cruzadas:\n"
     ]
    },
    {
     "data": {
      "text/html": [
       "<style  type=\"text/css\" >\n",
       "</style><table id=\"T_f539e192_0d45_11ea_8bff_6b2173bbdbb2\" ><thead>    <tr>        <th class=\"col_heading level0 col0\" >Factor de Aprendizaje</th>        <th class=\"col_heading level0 col1\" >Num Epocas</th>        <th class=\"col_heading level0 col2\" >Tasa error (%)</th>        <th class=\"col_heading level0 col3\" >Tasa std</th>    </tr></thead><tbody>\n",
       "                <tr>\n",
       "                                <td id=\"T_f539e192_0d45_11ea_8bff_6b2173bbdbb2row0_col0\" class=\"data row0 col0\" >0.1</td>\n",
       "                        <td id=\"T_f539e192_0d45_11ea_8bff_6b2173bbdbb2row0_col1\" class=\"data row0 col1\" >10</td>\n",
       "                        <td id=\"T_f539e192_0d45_11ea_8bff_6b2173bbdbb2row0_col2\" class=\"data row0 col2\" >3.68856</td>\n",
       "                        <td id=\"T_f539e192_0d45_11ea_8bff_6b2173bbdbb2row0_col3\" class=\"data row0 col3\" >0.0174573</td>\n",
       "            </tr>\n",
       "            <tr>\n",
       "                                <td id=\"T_f539e192_0d45_11ea_8bff_6b2173bbdbb2row1_col0\" class=\"data row1 col0\" >0.1</td>\n",
       "                        <td id=\"T_f539e192_0d45_11ea_8bff_6b2173bbdbb2row1_col1\" class=\"data row1 col1\" >50</td>\n",
       "                        <td id=\"T_f539e192_0d45_11ea_8bff_6b2173bbdbb2row1_col2\" class=\"data row1 col2\" >3.51005</td>\n",
       "                        <td id=\"T_f539e192_0d45_11ea_8bff_6b2173bbdbb2row1_col3\" class=\"data row1 col3\" >0.0197621</td>\n",
       "            </tr>\n",
       "            <tr>\n",
       "                                <td id=\"T_f539e192_0d45_11ea_8bff_6b2173bbdbb2row2_col0\" class=\"data row2 col0\" >0.1</td>\n",
       "                        <td id=\"T_f539e192_0d45_11ea_8bff_6b2173bbdbb2row2_col1\" class=\"data row2 col1\" >100</td>\n",
       "                        <td id=\"T_f539e192_0d45_11ea_8bff_6b2173bbdbb2row2_col2\" class=\"data row2 col2\" >4.73628</td>\n",
       "                        <td id=\"T_f539e192_0d45_11ea_8bff_6b2173bbdbb2row2_col3\" class=\"data row2 col3\" >0.0357941</td>\n",
       "            </tr>\n",
       "            <tr>\n",
       "                                <td id=\"T_f539e192_0d45_11ea_8bff_6b2173bbdbb2row3_col0\" class=\"data row3 col0\" >0.5</td>\n",
       "                        <td id=\"T_f539e192_0d45_11ea_8bff_6b2173bbdbb2row3_col1\" class=\"data row3 col1\" >10</td>\n",
       "                        <td id=\"T_f539e192_0d45_11ea_8bff_6b2173bbdbb2row3_col2\" class=\"data row3 col2\" >5.62272</td>\n",
       "                        <td id=\"T_f539e192_0d45_11ea_8bff_6b2173bbdbb2row3_col3\" class=\"data row3 col3\" >0.0164694</td>\n",
       "            </tr>\n",
       "            <tr>\n",
       "                                <td id=\"T_f539e192_0d45_11ea_8bff_6b2173bbdbb2row4_col0\" class=\"data row4 col0\" >0.5</td>\n",
       "                        <td id=\"T_f539e192_0d45_11ea_8bff_6b2173bbdbb2row4_col1\" class=\"data row4 col1\" >50</td>\n",
       "                        <td id=\"T_f539e192_0d45_11ea_8bff_6b2173bbdbb2row4_col2\" class=\"data row4 col2\" >4.04683</td>\n",
       "                        <td id=\"T_f539e192_0d45_11ea_8bff_6b2173bbdbb2row4_col3\" class=\"data row4 col3\" >0.01608</td>\n",
       "            </tr>\n",
       "            <tr>\n",
       "                                <td id=\"T_f539e192_0d45_11ea_8bff_6b2173bbdbb2row5_col0\" class=\"data row5 col0\" >0.5</td>\n",
       "                        <td id=\"T_f539e192_0d45_11ea_8bff_6b2173bbdbb2row5_col1\" class=\"data row5 col1\" >100</td>\n",
       "                        <td id=\"T_f539e192_0d45_11ea_8bff_6b2173bbdbb2row5_col2\" class=\"data row5 col2\" >3.5162</td>\n",
       "                        <td id=\"T_f539e192_0d45_11ea_8bff_6b2173bbdbb2row5_col3\" class=\"data row5 col3\" >0.0179738</td>\n",
       "            </tr>\n",
       "            <tr>\n",
       "                                <td id=\"T_f539e192_0d45_11ea_8bff_6b2173bbdbb2row6_col0\" class=\"data row6 col0\" >1</td>\n",
       "                        <td id=\"T_f539e192_0d45_11ea_8bff_6b2173bbdbb2row6_col1\" class=\"data row6 col1\" >10</td>\n",
       "                        <td id=\"T_f539e192_0d45_11ea_8bff_6b2173bbdbb2row6_col2\" class=\"data row6 col2\" >7.73909</td>\n",
       "                        <td id=\"T_f539e192_0d45_11ea_8bff_6b2173bbdbb2row6_col3\" class=\"data row6 col3\" >0.0356349</td>\n",
       "            </tr>\n",
       "            <tr>\n",
       "                                <td id=\"T_f539e192_0d45_11ea_8bff_6b2173bbdbb2row7_col0\" class=\"data row7 col0\" >1</td>\n",
       "                        <td id=\"T_f539e192_0d45_11ea_8bff_6b2173bbdbb2row7_col1\" class=\"data row7 col1\" >50</td>\n",
       "                        <td id=\"T_f539e192_0d45_11ea_8bff_6b2173bbdbb2row7_col2\" class=\"data row7 col2\" >5.62026</td>\n",
       "                        <td id=\"T_f539e192_0d45_11ea_8bff_6b2173bbdbb2row7_col3\" class=\"data row7 col3\" >0.012958</td>\n",
       "            </tr>\n",
       "            <tr>\n",
       "                                <td id=\"T_f539e192_0d45_11ea_8bff_6b2173bbdbb2row8_col0\" class=\"data row8 col0\" >1</td>\n",
       "                        <td id=\"T_f539e192_0d45_11ea_8bff_6b2173bbdbb2row8_col1\" class=\"data row8 col1\" >10</td>\n",
       "                        <td id=\"T_f539e192_0d45_11ea_8bff_6b2173bbdbb2row8_col2\" class=\"data row8 col2\" >5.09702</td>\n",
       "                        <td id=\"T_f539e192_0d45_11ea_8bff_6b2173bbdbb2row8_col3\" class=\"data row8 col3\" >0.0160496</td>\n",
       "            </tr>\n",
       "    </tbody></table>"
      ],
      "text/plain": [
       "<pandas.io.formats.style.Styler at 0x7f94fb776210>"
      ]
     },
     "metadata": {},
     "output_type": "display_data"
    },
    {
     "name": "stdout",
     "output_type": "stream",
     "text": [
      "-- Conjunto de datos online_shoppers.data --\n",
      "Resultados para Regresión Logística con Validación Simple:\n"
     ]
    },
    {
     "data": {
      "text/html": [
       "<style  type=\"text/css\" >\n",
       "</style><table id=\"T_f539e193_0d45_11ea_8bff_6b2173bbdbb2\" ><thead>    <tr>        <th class=\"col_heading level0 col0\" >Factor de Aprendizaje</th>        <th class=\"col_heading level0 col1\" >Num Epocas</th>        <th class=\"col_heading level0 col2\" >Tasa error (%)</th>    </tr></thead><tbody>\n",
       "                <tr>\n",
       "                                <td id=\"T_f539e193_0d45_11ea_8bff_6b2173bbdbb2row0_col0\" class=\"data row0 col0\" >0.1</td>\n",
       "                        <td id=\"T_f539e193_0d45_11ea_8bff_6b2173bbdbb2row0_col1\" class=\"data row0 col1\" >10</td>\n",
       "                        <td id=\"T_f539e193_0d45_11ea_8bff_6b2173bbdbb2row0_col2\" class=\"data row0 col2\" >21.8654</td>\n",
       "            </tr>\n",
       "    </tbody></table>"
      ],
      "text/plain": [
       "<pandas.io.formats.style.Styler at 0x7f94fbb26250>"
      ]
     },
     "metadata": {},
     "output_type": "display_data"
    }
   ],
   "source": [
    "print(\"-- Conjunto de datos wdbc.data --\")\n",
    "print(\"Resultados para Regresión Logística con Validación Cruzadas:\")\n",
    "dataFrame = zip(lista_rl_valcruzada_fa, lista_rl_valcruzada_epocas, lista_rl_valcruzada_media, lista_rl_valcruzada_std)\n",
    "tabla4 = pd.DataFrame(dataFrame, columns=[\"Factor de Aprendizaje\", \"Num Epocas\" , \"Tasa error (%)\", \"Tasa std\"]).style.hide_index()\n",
    "display(tabla4)\n",
    "\n",
    "\n",
    "print(\"-- Conjunto de datos online_shoppers.data --\")\n",
    "print(\"Resultados para Regresión Logística con Validación Simple:\")\n",
    "dataFrame = zip(lista_rl_valsimple_fa, lista_rl_valsimple_epocas, lista_rl_valsimple_media)\n",
    "tabla5 = pd.DataFrame(dataFrame, columns=[\"Factor de Aprendizaje\", \"Num Epocas\" , \"Tasa error (%)\"]).style.hide_index()\n",
    "display(tabla5)"
   ]
  },
  {
   "cell_type": "markdown",
   "metadata": {},
   "source": [
    "### Breve Análisis de los Resultados Anteriores"
   ]
  },
  {
   "cell_type": "markdown",
   "metadata": {},
   "source": [
    "Podemos observar una tasa de error de en torno a 2.5%-6% en validación cruzada para wdbc.data. La mejor tasa de error se obtiene cuando el número de épocas no es muy alto y el factor de aprendizaje es bajo, ya que si lo fuese el clasificador tendría una tendencia al sobreentrenamiento. La desviación típica también es baja y esto se debe a la normalización de los datos\n",
    "\n",
    "\n",
    "Para el conjunto de online_shoppers.data, la ejecución es más costosa y la predicción es peor. Esto puede deberse al entrenamiento por validación simple o a la distribución de los datos dentro del propio conjunto. Aun así, la tasa de error está en torno al 17%-18%, lo cual indica una clasificación aceptable. Hemos cogido el ejemplo que mejor predice que es con factor de aprendizaje 0.1 y número de epocas igual a 10."
   ]
  },
  {
   "cell_type": "markdown",
   "metadata": {},
   "source": [
    "### Comparación de los Resultados de RL con KNN"
   ]
  },
  {
   "cell_type": "code",
   "execution_count": 32,
   "metadata": {},
   "outputs": [
    {
     "name": "stdout",
     "output_type": "stream",
     "text": [
      "-- Conjunto de datos wdbc.data --\n",
      "Resultados para KNN con Validación Cruzada y datos normalizados:\n"
     ]
    },
    {
     "data": {
      "text/html": [
       "<style  type=\"text/css\" >\n",
       "</style><table id=\"T_f539e194_0d45_11ea_8bff_6b2173bbdbb2\" ><thead>    <tr>        <th class=\"col_heading level0 col0\" >Num Vecinos</th>        <th class=\"col_heading level0 col1\" >Tasa error (%)</th>        <th class=\"col_heading level0 col2\" >Tasa std</th>    </tr></thead><tbody>\n",
       "                <tr>\n",
       "                                <td id=\"T_f539e194_0d45_11ea_8bff_6b2173bbdbb2row0_col0\" class=\"data row0 col0\" >1</td>\n",
       "                        <td id=\"T_f539e194_0d45_11ea_8bff_6b2173bbdbb2row0_col1\" class=\"data row0 col1\" >4.39525</td>\n",
       "                        <td id=\"T_f539e194_0d45_11ea_8bff_6b2173bbdbb2row0_col2\" class=\"data row0 col2\" >0.00920782</td>\n",
       "            </tr>\n",
       "            <tr>\n",
       "                                <td id=\"T_f539e194_0d45_11ea_8bff_6b2173bbdbb2row1_col0\" class=\"data row1 col0\" >3</td>\n",
       "                        <td id=\"T_f539e194_0d45_11ea_8bff_6b2173bbdbb2row1_col1\" class=\"data row1 col1\" >3.68856</td>\n",
       "                        <td id=\"T_f539e194_0d45_11ea_8bff_6b2173bbdbb2row1_col2\" class=\"data row1 col2\" >0.016732</td>\n",
       "            </tr>\n",
       "            <tr>\n",
       "                                <td id=\"T_f539e194_0d45_11ea_8bff_6b2173bbdbb2row2_col0\" class=\"data row2 col0\" >5</td>\n",
       "                        <td id=\"T_f539e194_0d45_11ea_8bff_6b2173bbdbb2row2_col1\" class=\"data row2 col1\" >3.86831</td>\n",
       "                        <td id=\"T_f539e194_0d45_11ea_8bff_6b2173bbdbb2row2_col2\" class=\"data row2 col2\" >0.00793973</td>\n",
       "            </tr>\n",
       "            <tr>\n",
       "                                <td id=\"T_f539e194_0d45_11ea_8bff_6b2173bbdbb2row3_col0\" class=\"data row3 col0\" >11</td>\n",
       "                        <td id=\"T_f539e194_0d45_11ea_8bff_6b2173bbdbb2row3_col1\" class=\"data row3 col1\" >4.39402</td>\n",
       "                        <td id=\"T_f539e194_0d45_11ea_8bff_6b2173bbdbb2row3_col2\" class=\"data row3 col2\" >0.00769211</td>\n",
       "            </tr>\n",
       "            <tr>\n",
       "                                <td id=\"T_f539e194_0d45_11ea_8bff_6b2173bbdbb2row4_col0\" class=\"data row4 col0\" >21</td>\n",
       "                        <td id=\"T_f539e194_0d45_11ea_8bff_6b2173bbdbb2row4_col1\" class=\"data row4 col1\" >4.0456</td>\n",
       "                        <td id=\"T_f539e194_0d45_11ea_8bff_6b2173bbdbb2row4_col2\" class=\"data row4 col2\" >0.0189179</td>\n",
       "            </tr>\n",
       "            <tr>\n",
       "                                <td id=\"T_f539e194_0d45_11ea_8bff_6b2173bbdbb2row5_col0\" class=\"data row5 col0\" >51</td>\n",
       "                        <td id=\"T_f539e194_0d45_11ea_8bff_6b2173bbdbb2row5_col1\" class=\"data row5 col1\" >5.09578</td>\n",
       "                        <td id=\"T_f539e194_0d45_11ea_8bff_6b2173bbdbb2row5_col2\" class=\"data row5 col2\" >0.00909271</td>\n",
       "            </tr>\n",
       "    </tbody></table>"
      ],
      "text/plain": [
       "<pandas.io.formats.style.Styler at 0x7f94fba2ac10>"
      ]
     },
     "metadata": {},
     "output_type": "display_data"
    },
    {
     "name": "stdout",
     "output_type": "stream",
     "text": [
      "Resultados para Regresión Logística con Validación Cruzadas:\n"
     ]
    },
    {
     "data": {
      "text/html": [
       "<style  type=\"text/css\" >\n",
       "</style><table id=\"T_f539e195_0d45_11ea_8bff_6b2173bbdbb2\" ><thead>    <tr>        <th class=\"col_heading level0 col0\" >Factor de Aprendizaje</th>        <th class=\"col_heading level0 col1\" >Num Epocas</th>        <th class=\"col_heading level0 col2\" >Tasa error (%)</th>        <th class=\"col_heading level0 col3\" >Tasa std</th>    </tr></thead><tbody>\n",
       "                <tr>\n",
       "                                <td id=\"T_f539e195_0d45_11ea_8bff_6b2173bbdbb2row0_col0\" class=\"data row0 col0\" >0.1</td>\n",
       "                        <td id=\"T_f539e195_0d45_11ea_8bff_6b2173bbdbb2row0_col1\" class=\"data row0 col1\" >10</td>\n",
       "                        <td id=\"T_f539e195_0d45_11ea_8bff_6b2173bbdbb2row0_col2\" class=\"data row0 col2\" >3.68856</td>\n",
       "                        <td id=\"T_f539e195_0d45_11ea_8bff_6b2173bbdbb2row0_col3\" class=\"data row0 col3\" >0.0174573</td>\n",
       "            </tr>\n",
       "            <tr>\n",
       "                                <td id=\"T_f539e195_0d45_11ea_8bff_6b2173bbdbb2row1_col0\" class=\"data row1 col0\" >0.1</td>\n",
       "                        <td id=\"T_f539e195_0d45_11ea_8bff_6b2173bbdbb2row1_col1\" class=\"data row1 col1\" >50</td>\n",
       "                        <td id=\"T_f539e195_0d45_11ea_8bff_6b2173bbdbb2row1_col2\" class=\"data row1 col2\" >3.51005</td>\n",
       "                        <td id=\"T_f539e195_0d45_11ea_8bff_6b2173bbdbb2row1_col3\" class=\"data row1 col3\" >0.0197621</td>\n",
       "            </tr>\n",
       "            <tr>\n",
       "                                <td id=\"T_f539e195_0d45_11ea_8bff_6b2173bbdbb2row2_col0\" class=\"data row2 col0\" >0.1</td>\n",
       "                        <td id=\"T_f539e195_0d45_11ea_8bff_6b2173bbdbb2row2_col1\" class=\"data row2 col1\" >100</td>\n",
       "                        <td id=\"T_f539e195_0d45_11ea_8bff_6b2173bbdbb2row2_col2\" class=\"data row2 col2\" >4.73628</td>\n",
       "                        <td id=\"T_f539e195_0d45_11ea_8bff_6b2173bbdbb2row2_col3\" class=\"data row2 col3\" >0.0357941</td>\n",
       "            </tr>\n",
       "            <tr>\n",
       "                                <td id=\"T_f539e195_0d45_11ea_8bff_6b2173bbdbb2row3_col0\" class=\"data row3 col0\" >0.5</td>\n",
       "                        <td id=\"T_f539e195_0d45_11ea_8bff_6b2173bbdbb2row3_col1\" class=\"data row3 col1\" >10</td>\n",
       "                        <td id=\"T_f539e195_0d45_11ea_8bff_6b2173bbdbb2row3_col2\" class=\"data row3 col2\" >5.62272</td>\n",
       "                        <td id=\"T_f539e195_0d45_11ea_8bff_6b2173bbdbb2row3_col3\" class=\"data row3 col3\" >0.0164694</td>\n",
       "            </tr>\n",
       "            <tr>\n",
       "                                <td id=\"T_f539e195_0d45_11ea_8bff_6b2173bbdbb2row4_col0\" class=\"data row4 col0\" >0.5</td>\n",
       "                        <td id=\"T_f539e195_0d45_11ea_8bff_6b2173bbdbb2row4_col1\" class=\"data row4 col1\" >50</td>\n",
       "                        <td id=\"T_f539e195_0d45_11ea_8bff_6b2173bbdbb2row4_col2\" class=\"data row4 col2\" >4.04683</td>\n",
       "                        <td id=\"T_f539e195_0d45_11ea_8bff_6b2173bbdbb2row4_col3\" class=\"data row4 col3\" >0.01608</td>\n",
       "            </tr>\n",
       "            <tr>\n",
       "                                <td id=\"T_f539e195_0d45_11ea_8bff_6b2173bbdbb2row5_col0\" class=\"data row5 col0\" >0.5</td>\n",
       "                        <td id=\"T_f539e195_0d45_11ea_8bff_6b2173bbdbb2row5_col1\" class=\"data row5 col1\" >100</td>\n",
       "                        <td id=\"T_f539e195_0d45_11ea_8bff_6b2173bbdbb2row5_col2\" class=\"data row5 col2\" >3.5162</td>\n",
       "                        <td id=\"T_f539e195_0d45_11ea_8bff_6b2173bbdbb2row5_col3\" class=\"data row5 col3\" >0.0179738</td>\n",
       "            </tr>\n",
       "            <tr>\n",
       "                                <td id=\"T_f539e195_0d45_11ea_8bff_6b2173bbdbb2row6_col0\" class=\"data row6 col0\" >1</td>\n",
       "                        <td id=\"T_f539e195_0d45_11ea_8bff_6b2173bbdbb2row6_col1\" class=\"data row6 col1\" >10</td>\n",
       "                        <td id=\"T_f539e195_0d45_11ea_8bff_6b2173bbdbb2row6_col2\" class=\"data row6 col2\" >7.73909</td>\n",
       "                        <td id=\"T_f539e195_0d45_11ea_8bff_6b2173bbdbb2row6_col3\" class=\"data row6 col3\" >0.0356349</td>\n",
       "            </tr>\n",
       "            <tr>\n",
       "                                <td id=\"T_f539e195_0d45_11ea_8bff_6b2173bbdbb2row7_col0\" class=\"data row7 col0\" >1</td>\n",
       "                        <td id=\"T_f539e195_0d45_11ea_8bff_6b2173bbdbb2row7_col1\" class=\"data row7 col1\" >50</td>\n",
       "                        <td id=\"T_f539e195_0d45_11ea_8bff_6b2173bbdbb2row7_col2\" class=\"data row7 col2\" >5.62026</td>\n",
       "                        <td id=\"T_f539e195_0d45_11ea_8bff_6b2173bbdbb2row7_col3\" class=\"data row7 col3\" >0.012958</td>\n",
       "            </tr>\n",
       "            <tr>\n",
       "                                <td id=\"T_f539e195_0d45_11ea_8bff_6b2173bbdbb2row8_col0\" class=\"data row8 col0\" >1</td>\n",
       "                        <td id=\"T_f539e195_0d45_11ea_8bff_6b2173bbdbb2row8_col1\" class=\"data row8 col1\" >10</td>\n",
       "                        <td id=\"T_f539e195_0d45_11ea_8bff_6b2173bbdbb2row8_col2\" class=\"data row8 col2\" >5.09702</td>\n",
       "                        <td id=\"T_f539e195_0d45_11ea_8bff_6b2173bbdbb2row8_col3\" class=\"data row8 col3\" >0.0160496</td>\n",
       "            </tr>\n",
       "    </tbody></table>"
      ],
      "text/plain": [
       "<pandas.io.formats.style.Styler at 0x7f94fb776210>"
      ]
     },
     "metadata": {},
     "output_type": "display_data"
    },
    {
     "name": "stdout",
     "output_type": "stream",
     "text": [
      "-- Conjunto de datos online_shoppers.data --\n",
      "Resultados para KNN con Validación Simple:\n"
     ]
    },
    {
     "data": {
      "text/html": [
       "<style  type=\"text/css\" >\n",
       "</style><table id=\"T_f539e196_0d45_11ea_8bff_6b2173bbdbb2\" ><thead>    <tr>        <th class=\"col_heading level0 col0\" >Num Vecinos</th>        <th class=\"col_heading level0 col1\" >Tasa error (%)</th>    </tr></thead><tbody>\n",
       "                <tr>\n",
       "                                <td id=\"T_f539e196_0d45_11ea_8bff_6b2173bbdbb2row0_col0\" class=\"data row0 col0\" >11</td>\n",
       "                        <td id=\"T_f539e196_0d45_11ea_8bff_6b2173bbdbb2row0_col1\" class=\"data row0 col1\" >12.0032</td>\n",
       "            </tr>\n",
       "    </tbody></table>"
      ],
      "text/plain": [
       "<pandas.io.formats.style.Styler at 0x7f94fb7762d0>"
      ]
     },
     "metadata": {},
     "output_type": "display_data"
    },
    {
     "name": "stdout",
     "output_type": "stream",
     "text": [
      "Resultados para Regresión Logística con Validación Simple:\n"
     ]
    },
    {
     "data": {
      "text/html": [
       "<style  type=\"text/css\" >\n",
       "</style><table id=\"T_f539e197_0d45_11ea_8bff_6b2173bbdbb2\" ><thead>    <tr>        <th class=\"col_heading level0 col0\" >Factor de Aprendizaje</th>        <th class=\"col_heading level0 col1\" >Num Epocas</th>        <th class=\"col_heading level0 col2\" >Tasa error (%)</th>    </tr></thead><tbody>\n",
       "                <tr>\n",
       "                                <td id=\"T_f539e197_0d45_11ea_8bff_6b2173bbdbb2row0_col0\" class=\"data row0 col0\" >0.1</td>\n",
       "                        <td id=\"T_f539e197_0d45_11ea_8bff_6b2173bbdbb2row0_col1\" class=\"data row0 col1\" >10</td>\n",
       "                        <td id=\"T_f539e197_0d45_11ea_8bff_6b2173bbdbb2row0_col2\" class=\"data row0 col2\" >21.8654</td>\n",
       "            </tr>\n",
       "    </tbody></table>"
      ],
      "text/plain": [
       "<pandas.io.formats.style.Styler at 0x7f94fbb26250>"
      ]
     },
     "metadata": {},
     "output_type": "display_data"
    }
   ],
   "source": [
    "print(\"-- Conjunto de datos wdbc.data --\")\n",
    "print(\"Resultados para KNN con Validación Cruzada y datos normalizados:\")\n",
    "display(tabla1)\n",
    "print(\"Resultados para Regresión Logística con Validación Cruzadas:\")\n",
    "display(tabla4)\n",
    "print(\"-- Conjunto de datos online_shoppers.data --\")\n",
    "print(\"Resultados para KNN con Validación Simple:\")\n",
    "display(tabla3)\n",
    "print(\"Resultados para Regresión Logística con Validación Simple:\")\n",
    "display(tabla5)\n",
    "\n",
    "\n"
   ]
  },
  {
   "cell_type": "markdown",
   "metadata": {},
   "source": [
    "Para el conjunto de datos de \"wdbc.data\" se obtienen mejores resultados en Regresión Logística si el factor de aprendizaje y el número de épocas son bajos. Pero los resultados son muy parecidos entre ambos. Los resultados obtenidos son muy buenos resultados, son unas tasas de error muy bajas.\n",
    "\n",
    "Para el conjunto de datos de \"online_shoppers.data\" vemos que los resultados también son muy semejantes, aunque la tasa de error es bastante mayor que la del anterior conjunto. Por lo tanto llegamos a la conclusión de que se debe a la distribución del propio conjunto."
   ]
  },
  {
   "cell_type": "markdown",
   "metadata": {},
   "source": [
    "## Apartado 3 - Algoritmos de Scikit-Learn y comparación de resultados"
   ]
  },
  {
   "cell_type": "markdown",
   "metadata": {},
   "source": [
    "### VECINOS PRÓXIMOS"
   ]
  },
  {
   "cell_type": "code",
   "execution_count": 33,
   "metadata": {},
   "outputs": [],
   "source": [
    "# Elegimos el conjunto de datos\n",
    "dataset = Datos('./ConjuntoDatos/wdbc.data')\n",
    "\n",
    "valores_train = dataset.datos[:, :-1]\n",
    "valores_test = dataset.datos[:, -1]\n",
    "\n",
    "# Creamos listas que reuna los resultados\n",
    "lista_knn_sklearn_indices = []\n",
    "lista_knn_sklearn_error = []\n",
    "lista_knn_sklearn_std = []\n"
   ]
  },
  {
   "cell_type": "markdown",
   "metadata": {},
   "source": [
    "Probamos el conjunto para 1 vecino próximo"
   ]
  },
  {
   "cell_type": "code",
   "execution_count": 34,
   "metadata": {},
   "outputs": [
    {
     "name": "stdout",
     "output_type": "stream",
     "text": [
      "0.08957943464985718\n",
      "0.01715988894793592\n"
     ]
    }
   ],
   "source": [
    "clasificador_knn_sklearn = KNeighborsClassifier(n_neighbors=1, p=2)\n",
    "score = cross_val_score(clasificador_knn_sklearn, valores_train, valores_test, cv=4)\n",
    "media_invertida = score.mean()\n",
    "media = 1 - media_invertida\n",
    "desv = score.std()\n",
    "\n",
    "lista_knn_sklearn_indices.append(1)\n",
    "lista_knn_sklearn_error.append(media*100)\n",
    "lista_knn_sklearn_std.append(desv)\n",
    "\n",
    "print(media)\n",
    "print(desv)"
   ]
  },
  {
   "cell_type": "markdown",
   "metadata": {},
   "source": [
    "Probamos el conjunto para 3 vecinos próximos"
   ]
  },
  {
   "cell_type": "code",
   "execution_count": 35,
   "metadata": {},
   "outputs": [
    {
     "name": "stdout",
     "output_type": "stream",
     "text": [
      "0.07374667585935202\n",
      "0.027224167140619968\n"
     ]
    }
   ],
   "source": [
    "clasificador_knn_sklearn = KNeighborsClassifier(n_neighbors=3, p=2)\n",
    "score = cross_val_score(clasificador_knn_sklearn, valores_train, valores_test, cv=4)\n",
    "media_invertida = score.mean()\n",
    "media = 1 - media_invertida\n",
    "desv = score.std()\n",
    "\n",
    "lista_knn_sklearn_indices.append(3)\n",
    "lista_knn_sklearn_error.append(media*100)\n",
    "lista_knn_sklearn_std.append(desv)\n",
    "\n",
    "print(media)\n",
    "print(desv)"
   ]
  },
  {
   "cell_type": "markdown",
   "metadata": {},
   "source": [
    "Probamos el conjunto para 5 vecinos próximos"
   ]
  },
  {
   "cell_type": "code",
   "execution_count": 36,
   "metadata": {},
   "outputs": [
    {
     "name": "stdout",
     "output_type": "stream",
     "text": [
      "0.0720107357431301\n",
      "0.01725816367595375\n"
     ]
    }
   ],
   "source": [
    "clasificador_knn_sklearn = KNeighborsClassifier(n_neighbors=5, p=2)\n",
    "score = cross_val_score(clasificador_knn_sklearn, valores_train, valores_test, cv=4)\n",
    "media_invertida = score.mean()\n",
    "media = 1 - media_invertida\n",
    "desv = score.std()\n",
    "\n",
    "lista_knn_sklearn_indices.append(5)\n",
    "lista_knn_sklearn_error.append(media*100)\n",
    "lista_knn_sklearn_std.append(desv)\n",
    "\n",
    "print(media)\n",
    "print(desv)"
   ]
  },
  {
   "cell_type": "markdown",
   "metadata": {},
   "source": [
    "Probamos el conjunto para 11 vecinos próximos"
   ]
  },
  {
   "cell_type": "code",
   "execution_count": 37,
   "metadata": {},
   "outputs": [
    {
     "name": "stdout",
     "output_type": "stream",
     "text": [
      "0.06671673397025513\n",
      "0.023317837791204627\n"
     ]
    }
   ],
   "source": [
    "clasificador_knn_sklearn = KNeighborsClassifier(n_neighbors=11, p=2)\n",
    "score = cross_val_score(clasificador_knn_sklearn, valores_train, valores_test, cv=4)\n",
    "media_invertida = score.mean()\n",
    "media = 1 - media_invertida\n",
    "desv = score.std()\n",
    "\n",
    "lista_knn_sklearn_indices.append(11)\n",
    "lista_knn_sklearn_error.append(media*100)\n",
    "lista_knn_sklearn_std.append(desv)\n",
    "\n",
    "print(media)\n",
    "print(desv)"
   ]
  },
  {
   "cell_type": "markdown",
   "metadata": {},
   "source": [
    "Probamos el conjunto para 21 vecinos próximos"
   ]
  },
  {
   "cell_type": "code",
   "execution_count": 38,
   "metadata": {},
   "outputs": [
    {
     "name": "stdout",
     "output_type": "stream",
     "text": [
      "0.07022554909878864\n",
      "0.02555346776287912\n"
     ]
    }
   ],
   "source": [
    "clasificador_knn_sklearn = KNeighborsClassifier(n_neighbors=21, p=2)\n",
    "score = cross_val_score(clasificador_knn_sklearn, valores_train, valores_test, cv=4)\n",
    "media_invertida = score.mean()\n",
    "media = 1 - media_invertida\n",
    "desv = score.std()\n",
    "\n",
    "lista_knn_sklearn_indices.append(21)\n",
    "lista_knn_sklearn_error.append(media*100)\n",
    "lista_knn_sklearn_std.append(desv)\n",
    "\n",
    "print(media)\n",
    "print(desv)"
   ]
  },
  {
   "cell_type": "markdown",
   "metadata": {},
   "source": [
    "Probamos el conjunto para 51 vecinos próximos"
   ]
  },
  {
   "cell_type": "code",
   "execution_count": 39,
   "metadata": {},
   "outputs": [
    {
     "name": "stdout",
     "output_type": "stream",
     "text": [
      "0.08427312124495223\n",
      "0.029068623616263674\n"
     ]
    }
   ],
   "source": [
    "clasificador_knn_sklearn = KNeighborsClassifier(n_neighbors=51, p=2)\n",
    "score = cross_val_score(clasificador_knn_sklearn, valores_train, valores_test, cv=4)\n",
    "media_invertida = score.mean()\n",
    "media = 1 - media_invertida\n",
    "desv = score.std()\n",
    "\n",
    "lista_knn_sklearn_indices.append(51)\n",
    "lista_knn_sklearn_error.append(media*100)\n",
    "lista_knn_sklearn_std.append(desv)\n",
    "\n",
    "print(media)\n",
    "print(desv)"
   ]
  },
  {
   "cell_type": "markdown",
   "metadata": {},
   "source": [
    "### Comparación de KNN con Scikit-Learn KNN"
   ]
  },
  {
   "cell_type": "code",
   "execution_count": 40,
   "metadata": {
    "scrolled": true
   },
   "outputs": [
    {
     "name": "stdout",
     "output_type": "stream",
     "text": [
      "Tabla Scikit-Learn KNN\n"
     ]
    },
    {
     "data": {
      "text/html": [
       "<style  type=\"text/css\" >\n",
       "</style><table id=\"T_f539e198_0d45_11ea_8bff_6b2173bbdbb2\" ><thead>    <tr>        <th class=\"col_heading level0 col0\" >Num Vecinos</th>        <th class=\"col_heading level0 col1\" >Tasa error (%)</th>        <th class=\"col_heading level0 col2\" >Tasa std</th>    </tr></thead><tbody>\n",
       "                <tr>\n",
       "                                <td id=\"T_f539e198_0d45_11ea_8bff_6b2173bbdbb2row0_col0\" class=\"data row0 col0\" >1</td>\n",
       "                        <td id=\"T_f539e198_0d45_11ea_8bff_6b2173bbdbb2row0_col1\" class=\"data row0 col1\" >8.95794</td>\n",
       "                        <td id=\"T_f539e198_0d45_11ea_8bff_6b2173bbdbb2row0_col2\" class=\"data row0 col2\" >0.0171599</td>\n",
       "            </tr>\n",
       "            <tr>\n",
       "                                <td id=\"T_f539e198_0d45_11ea_8bff_6b2173bbdbb2row1_col0\" class=\"data row1 col0\" >3</td>\n",
       "                        <td id=\"T_f539e198_0d45_11ea_8bff_6b2173bbdbb2row1_col1\" class=\"data row1 col1\" >7.37467</td>\n",
       "                        <td id=\"T_f539e198_0d45_11ea_8bff_6b2173bbdbb2row1_col2\" class=\"data row1 col2\" >0.0272242</td>\n",
       "            </tr>\n",
       "            <tr>\n",
       "                                <td id=\"T_f539e198_0d45_11ea_8bff_6b2173bbdbb2row2_col0\" class=\"data row2 col0\" >5</td>\n",
       "                        <td id=\"T_f539e198_0d45_11ea_8bff_6b2173bbdbb2row2_col1\" class=\"data row2 col1\" >7.20107</td>\n",
       "                        <td id=\"T_f539e198_0d45_11ea_8bff_6b2173bbdbb2row2_col2\" class=\"data row2 col2\" >0.0172582</td>\n",
       "            </tr>\n",
       "            <tr>\n",
       "                                <td id=\"T_f539e198_0d45_11ea_8bff_6b2173bbdbb2row3_col0\" class=\"data row3 col0\" >11</td>\n",
       "                        <td id=\"T_f539e198_0d45_11ea_8bff_6b2173bbdbb2row3_col1\" class=\"data row3 col1\" >6.67167</td>\n",
       "                        <td id=\"T_f539e198_0d45_11ea_8bff_6b2173bbdbb2row3_col2\" class=\"data row3 col2\" >0.0233178</td>\n",
       "            </tr>\n",
       "            <tr>\n",
       "                                <td id=\"T_f539e198_0d45_11ea_8bff_6b2173bbdbb2row4_col0\" class=\"data row4 col0\" >21</td>\n",
       "                        <td id=\"T_f539e198_0d45_11ea_8bff_6b2173bbdbb2row4_col1\" class=\"data row4 col1\" >7.02255</td>\n",
       "                        <td id=\"T_f539e198_0d45_11ea_8bff_6b2173bbdbb2row4_col2\" class=\"data row4 col2\" >0.0255535</td>\n",
       "            </tr>\n",
       "            <tr>\n",
       "                                <td id=\"T_f539e198_0d45_11ea_8bff_6b2173bbdbb2row5_col0\" class=\"data row5 col0\" >51</td>\n",
       "                        <td id=\"T_f539e198_0d45_11ea_8bff_6b2173bbdbb2row5_col1\" class=\"data row5 col1\" >8.42731</td>\n",
       "                        <td id=\"T_f539e198_0d45_11ea_8bff_6b2173bbdbb2row5_col2\" class=\"data row5 col2\" >0.0290686</td>\n",
       "            </tr>\n",
       "    </tbody></table>"
      ],
      "text/plain": [
       "<pandas.io.formats.style.Styler at 0x7f94fb774250>"
      ]
     },
     "metadata": {},
     "output_type": "display_data"
    },
    {
     "name": "stdout",
     "output_type": "stream",
     "text": [
      "Tabla de nuestro clasificador KNN\n"
     ]
    },
    {
     "data": {
      "text/html": [
       "<style  type=\"text/css\" >\n",
       "</style><table id=\"T_f539e199_0d45_11ea_8bff_6b2173bbdbb2\" ><thead>    <tr>        <th class=\"col_heading level0 col0\" >Num Vecinos</th>        <th class=\"col_heading level0 col1\" >Tasa error (%)</th>        <th class=\"col_heading level0 col2\" >Tasa std</th>    </tr></thead><tbody>\n",
       "                <tr>\n",
       "                                <td id=\"T_f539e199_0d45_11ea_8bff_6b2173bbdbb2row0_col0\" class=\"data row0 col0\" >1</td>\n",
       "                        <td id=\"T_f539e199_0d45_11ea_8bff_6b2173bbdbb2row0_col1\" class=\"data row0 col1\" >4.39525</td>\n",
       "                        <td id=\"T_f539e199_0d45_11ea_8bff_6b2173bbdbb2row0_col2\" class=\"data row0 col2\" >0.00920782</td>\n",
       "            </tr>\n",
       "            <tr>\n",
       "                                <td id=\"T_f539e199_0d45_11ea_8bff_6b2173bbdbb2row1_col0\" class=\"data row1 col0\" >3</td>\n",
       "                        <td id=\"T_f539e199_0d45_11ea_8bff_6b2173bbdbb2row1_col1\" class=\"data row1 col1\" >3.68856</td>\n",
       "                        <td id=\"T_f539e199_0d45_11ea_8bff_6b2173bbdbb2row1_col2\" class=\"data row1 col2\" >0.016732</td>\n",
       "            </tr>\n",
       "            <tr>\n",
       "                                <td id=\"T_f539e199_0d45_11ea_8bff_6b2173bbdbb2row2_col0\" class=\"data row2 col0\" >5</td>\n",
       "                        <td id=\"T_f539e199_0d45_11ea_8bff_6b2173bbdbb2row2_col1\" class=\"data row2 col1\" >3.86831</td>\n",
       "                        <td id=\"T_f539e199_0d45_11ea_8bff_6b2173bbdbb2row2_col2\" class=\"data row2 col2\" >0.00793973</td>\n",
       "            </tr>\n",
       "            <tr>\n",
       "                                <td id=\"T_f539e199_0d45_11ea_8bff_6b2173bbdbb2row3_col0\" class=\"data row3 col0\" >11</td>\n",
       "                        <td id=\"T_f539e199_0d45_11ea_8bff_6b2173bbdbb2row3_col1\" class=\"data row3 col1\" >4.39402</td>\n",
       "                        <td id=\"T_f539e199_0d45_11ea_8bff_6b2173bbdbb2row3_col2\" class=\"data row3 col2\" >0.00769211</td>\n",
       "            </tr>\n",
       "            <tr>\n",
       "                                <td id=\"T_f539e199_0d45_11ea_8bff_6b2173bbdbb2row4_col0\" class=\"data row4 col0\" >21</td>\n",
       "                        <td id=\"T_f539e199_0d45_11ea_8bff_6b2173bbdbb2row4_col1\" class=\"data row4 col1\" >4.0456</td>\n",
       "                        <td id=\"T_f539e199_0d45_11ea_8bff_6b2173bbdbb2row4_col2\" class=\"data row4 col2\" >0.0189179</td>\n",
       "            </tr>\n",
       "            <tr>\n",
       "                                <td id=\"T_f539e199_0d45_11ea_8bff_6b2173bbdbb2row5_col0\" class=\"data row5 col0\" >51</td>\n",
       "                        <td id=\"T_f539e199_0d45_11ea_8bff_6b2173bbdbb2row5_col1\" class=\"data row5 col1\" >5.09578</td>\n",
       "                        <td id=\"T_f539e199_0d45_11ea_8bff_6b2173bbdbb2row5_col2\" class=\"data row5 col2\" >0.00909271</td>\n",
       "            </tr>\n",
       "    </tbody></table>"
      ],
      "text/plain": [
       "<pandas.io.formats.style.Styler at 0x7f94fba2ac10>"
      ]
     },
     "metadata": {},
     "output_type": "display_data"
    }
   ],
   "source": [
    "dataFrame = zip(lista_knn_sklearn_indices, lista_knn_sklearn_error, lista_knn_sklearn_std)\n",
    "tabla6 = pd.DataFrame(dataFrame, columns=[\"Num Vecinos\", \"Tasa error (%)\", \"Tasa std\"]).style.hide_index()\n",
    "print(\"Tabla Scikit-Learn KNN\")\n",
    "display(tabla6)\n",
    "print(\"Tabla de nuestro clasificador KNN\")\n",
    "display(tabla1)"
   ]
  },
  {
   "cell_type": "markdown",
   "metadata": {},
   "source": [
    "Podemos ver que los resultados obtenidos con el clasificador de la biblioteca Scikit-Learn son también unos buenos resultados, aunque hemos logrado mejorar la eficacia con nuestra implementación"
   ]
  },
  {
   "cell_type": "markdown",
   "metadata": {},
   "source": [
    "### REGRESIÓN LOGÍSTICA"
   ]
  },
  {
   "cell_type": "code",
   "execution_count": 41,
   "metadata": {},
   "outputs": [],
   "source": [
    "# Elegimos el conjunto de datos\n",
    "dataset = Datos('./ConjuntoDatos/wdbc.data')\n",
    "\n",
    "valores_train = dataset.datos[:, :-1]\n",
    "valores_test = dataset.datos[:, -1]\n",
    "\n",
    "# Creamos listas que reuna los resultados\n",
    "lista_rl_sklearn_epocas = []\n",
    "lista_rl_sklearn_error = []\n",
    "lista_rl_sklearn_std = []"
   ]
  },
  {
   "cell_type": "markdown",
   "metadata": {},
   "source": [
    "Probamos el conjunto para 10 épocas"
   ]
  },
  {
   "cell_type": "code",
   "execution_count": 42,
   "metadata": {},
   "outputs": [
    {
     "name": "stdout",
     "output_type": "stream",
     "text": [
      "0.9157268787550478\n",
      "0.029068623616263674\n"
     ]
    }
   ],
   "source": [
    "clasificador_rl_sklearn = LogisticRegression(max_iter=10)\n",
    "score = cross_val_score(clasificador_knn_sklearn, valores_train, valores_test, cv=4)\n",
    "media = score.mean()\n",
    "invertido = 1 - media\n",
    "desv = score.std()\n",
    "\n",
    "lista_rl_sklearn_epocas.append(10)\n",
    "lista_rl_sklearn_error.append(media*100)\n",
    "lista_rl_sklearn_std.append(desv)\n",
    "\n",
    "print(media)\n",
    "print(desv)"
   ]
  },
  {
   "cell_type": "markdown",
   "metadata": {},
   "source": [
    "Probamos el conjunto para 50 épocas"
   ]
  },
  {
   "cell_type": "code",
   "execution_count": 43,
   "metadata": {},
   "outputs": [
    {
     "name": "stdout",
     "output_type": "stream",
     "text": [
      "0.9157268787550478\n",
      "0.029068623616263674\n"
     ]
    }
   ],
   "source": [
    "clasificador_rl_sklearn = LogisticRegression(max_iter=50)\n",
    "score = cross_val_score(clasificador_knn_sklearn, valores_train, valores_test, cv=4)\n",
    "media = score.mean()\n",
    "invertido = 1 - media\n",
    "desv = score.std()\n",
    "\n",
    "lista_rl_sklearn_epocas.append(50)\n",
    "lista_rl_sklearn_error.append(media*100)\n",
    "lista_rl_sklearn_std.append(desv)\n",
    "\n",
    "print(media)\n",
    "print(desv)"
   ]
  },
  {
   "cell_type": "markdown",
   "metadata": {},
   "source": [
    "Probamos el conjunto para 500 épocas"
   ]
  },
  {
   "cell_type": "code",
   "execution_count": 44,
   "metadata": {
    "scrolled": true
   },
   "outputs": [
    {
     "name": "stdout",
     "output_type": "stream",
     "text": [
      "0.9157268787550478\n",
      "0.029068623616263674\n"
     ]
    }
   ],
   "source": [
    "clasificador_rl_sklearn = LogisticRegression(max_iter=100)\n",
    "score = cross_val_score(clasificador_knn_sklearn, valores_train, valores_test, cv=4)\n",
    "media = score.mean()\n",
    "invertido = 1 - media\n",
    "desv = score.std()\n",
    "\n",
    "lista_rl_sklearn_epocas.append(100)\n",
    "lista_rl_sklearn_error.append(media*100)\n",
    "lista_rl_sklearn_std.append(desv)\n",
    "\n",
    "print(media)\n",
    "print(desv)"
   ]
  },
  {
   "cell_type": "markdown",
   "metadata": {},
   "source": [
    "### Comparación de RL con Scikit-Learn RL"
   ]
  },
  {
   "cell_type": "code",
   "execution_count": 45,
   "metadata": {
    "scrolled": false
   },
   "outputs": [
    {
     "name": "stdout",
     "output_type": "stream",
     "text": [
      "Tabla Scikit-Learn RL\n"
     ]
    },
    {
     "data": {
      "text/html": [
       "<style  type=\"text/css\" >\n",
       "</style><table id=\"T_f539e19a_0d45_11ea_8bff_6b2173bbdbb2\" ><thead>    <tr>        <th class=\"col_heading level0 col0\" >Num Épocas</th>        <th class=\"col_heading level0 col1\" >Tasa error (%)</th>        <th class=\"col_heading level0 col2\" >Tasa std</th>    </tr></thead><tbody>\n",
       "                <tr>\n",
       "                                <td id=\"T_f539e19a_0d45_11ea_8bff_6b2173bbdbb2row0_col0\" class=\"data row0 col0\" >10</td>\n",
       "                        <td id=\"T_f539e19a_0d45_11ea_8bff_6b2173bbdbb2row0_col1\" class=\"data row0 col1\" >8.95794</td>\n",
       "                        <td id=\"T_f539e19a_0d45_11ea_8bff_6b2173bbdbb2row0_col2\" class=\"data row0 col2\" >0.0171599</td>\n",
       "            </tr>\n",
       "            <tr>\n",
       "                                <td id=\"T_f539e19a_0d45_11ea_8bff_6b2173bbdbb2row1_col0\" class=\"data row1 col0\" >50</td>\n",
       "                        <td id=\"T_f539e19a_0d45_11ea_8bff_6b2173bbdbb2row1_col1\" class=\"data row1 col1\" >7.37467</td>\n",
       "                        <td id=\"T_f539e19a_0d45_11ea_8bff_6b2173bbdbb2row1_col2\" class=\"data row1 col2\" >0.0272242</td>\n",
       "            </tr>\n",
       "            <tr>\n",
       "                                <td id=\"T_f539e19a_0d45_11ea_8bff_6b2173bbdbb2row2_col0\" class=\"data row2 col0\" >100</td>\n",
       "                        <td id=\"T_f539e19a_0d45_11ea_8bff_6b2173bbdbb2row2_col1\" class=\"data row2 col1\" >7.20107</td>\n",
       "                        <td id=\"T_f539e19a_0d45_11ea_8bff_6b2173bbdbb2row2_col2\" class=\"data row2 col2\" >0.0172582</td>\n",
       "            </tr>\n",
       "    </tbody></table>"
      ],
      "text/plain": [
       "<pandas.io.formats.style.Styler at 0x7f94fbab5a10>"
      ]
     },
     "metadata": {},
     "output_type": "display_data"
    },
    {
     "name": "stdout",
     "output_type": "stream",
     "text": [
      "Tabla de nuestro clasificador RL\n"
     ]
    },
    {
     "data": {
      "text/html": [
       "<style  type=\"text/css\" >\n",
       "</style><table id=\"T_f539e19b_0d45_11ea_8bff_6b2173bbdbb2\" ><thead>    <tr>        <th class=\"col_heading level0 col0\" >Factor de Aprendizaje</th>        <th class=\"col_heading level0 col1\" >Num Epocas</th>        <th class=\"col_heading level0 col2\" >Tasa error (%)</th>        <th class=\"col_heading level0 col3\" >Tasa std</th>    </tr></thead><tbody>\n",
       "                <tr>\n",
       "                                <td id=\"T_f539e19b_0d45_11ea_8bff_6b2173bbdbb2row0_col0\" class=\"data row0 col0\" >0.1</td>\n",
       "                        <td id=\"T_f539e19b_0d45_11ea_8bff_6b2173bbdbb2row0_col1\" class=\"data row0 col1\" >10</td>\n",
       "                        <td id=\"T_f539e19b_0d45_11ea_8bff_6b2173bbdbb2row0_col2\" class=\"data row0 col2\" >3.68856</td>\n",
       "                        <td id=\"T_f539e19b_0d45_11ea_8bff_6b2173bbdbb2row0_col3\" class=\"data row0 col3\" >0.0174573</td>\n",
       "            </tr>\n",
       "            <tr>\n",
       "                                <td id=\"T_f539e19b_0d45_11ea_8bff_6b2173bbdbb2row1_col0\" class=\"data row1 col0\" >0.1</td>\n",
       "                        <td id=\"T_f539e19b_0d45_11ea_8bff_6b2173bbdbb2row1_col1\" class=\"data row1 col1\" >50</td>\n",
       "                        <td id=\"T_f539e19b_0d45_11ea_8bff_6b2173bbdbb2row1_col2\" class=\"data row1 col2\" >3.51005</td>\n",
       "                        <td id=\"T_f539e19b_0d45_11ea_8bff_6b2173bbdbb2row1_col3\" class=\"data row1 col3\" >0.0197621</td>\n",
       "            </tr>\n",
       "            <tr>\n",
       "                                <td id=\"T_f539e19b_0d45_11ea_8bff_6b2173bbdbb2row2_col0\" class=\"data row2 col0\" >0.1</td>\n",
       "                        <td id=\"T_f539e19b_0d45_11ea_8bff_6b2173bbdbb2row2_col1\" class=\"data row2 col1\" >100</td>\n",
       "                        <td id=\"T_f539e19b_0d45_11ea_8bff_6b2173bbdbb2row2_col2\" class=\"data row2 col2\" >4.73628</td>\n",
       "                        <td id=\"T_f539e19b_0d45_11ea_8bff_6b2173bbdbb2row2_col3\" class=\"data row2 col3\" >0.0357941</td>\n",
       "            </tr>\n",
       "            <tr>\n",
       "                                <td id=\"T_f539e19b_0d45_11ea_8bff_6b2173bbdbb2row3_col0\" class=\"data row3 col0\" >0.5</td>\n",
       "                        <td id=\"T_f539e19b_0d45_11ea_8bff_6b2173bbdbb2row3_col1\" class=\"data row3 col1\" >10</td>\n",
       "                        <td id=\"T_f539e19b_0d45_11ea_8bff_6b2173bbdbb2row3_col2\" class=\"data row3 col2\" >5.62272</td>\n",
       "                        <td id=\"T_f539e19b_0d45_11ea_8bff_6b2173bbdbb2row3_col3\" class=\"data row3 col3\" >0.0164694</td>\n",
       "            </tr>\n",
       "            <tr>\n",
       "                                <td id=\"T_f539e19b_0d45_11ea_8bff_6b2173bbdbb2row4_col0\" class=\"data row4 col0\" >0.5</td>\n",
       "                        <td id=\"T_f539e19b_0d45_11ea_8bff_6b2173bbdbb2row4_col1\" class=\"data row4 col1\" >50</td>\n",
       "                        <td id=\"T_f539e19b_0d45_11ea_8bff_6b2173bbdbb2row4_col2\" class=\"data row4 col2\" >4.04683</td>\n",
       "                        <td id=\"T_f539e19b_0d45_11ea_8bff_6b2173bbdbb2row4_col3\" class=\"data row4 col3\" >0.01608</td>\n",
       "            </tr>\n",
       "            <tr>\n",
       "                                <td id=\"T_f539e19b_0d45_11ea_8bff_6b2173bbdbb2row5_col0\" class=\"data row5 col0\" >0.5</td>\n",
       "                        <td id=\"T_f539e19b_0d45_11ea_8bff_6b2173bbdbb2row5_col1\" class=\"data row5 col1\" >100</td>\n",
       "                        <td id=\"T_f539e19b_0d45_11ea_8bff_6b2173bbdbb2row5_col2\" class=\"data row5 col2\" >3.5162</td>\n",
       "                        <td id=\"T_f539e19b_0d45_11ea_8bff_6b2173bbdbb2row5_col3\" class=\"data row5 col3\" >0.0179738</td>\n",
       "            </tr>\n",
       "            <tr>\n",
       "                                <td id=\"T_f539e19b_0d45_11ea_8bff_6b2173bbdbb2row6_col0\" class=\"data row6 col0\" >1</td>\n",
       "                        <td id=\"T_f539e19b_0d45_11ea_8bff_6b2173bbdbb2row6_col1\" class=\"data row6 col1\" >10</td>\n",
       "                        <td id=\"T_f539e19b_0d45_11ea_8bff_6b2173bbdbb2row6_col2\" class=\"data row6 col2\" >7.73909</td>\n",
       "                        <td id=\"T_f539e19b_0d45_11ea_8bff_6b2173bbdbb2row6_col3\" class=\"data row6 col3\" >0.0356349</td>\n",
       "            </tr>\n",
       "            <tr>\n",
       "                                <td id=\"T_f539e19b_0d45_11ea_8bff_6b2173bbdbb2row7_col0\" class=\"data row7 col0\" >1</td>\n",
       "                        <td id=\"T_f539e19b_0d45_11ea_8bff_6b2173bbdbb2row7_col1\" class=\"data row7 col1\" >50</td>\n",
       "                        <td id=\"T_f539e19b_0d45_11ea_8bff_6b2173bbdbb2row7_col2\" class=\"data row7 col2\" >5.62026</td>\n",
       "                        <td id=\"T_f539e19b_0d45_11ea_8bff_6b2173bbdbb2row7_col3\" class=\"data row7 col3\" >0.012958</td>\n",
       "            </tr>\n",
       "            <tr>\n",
       "                                <td id=\"T_f539e19b_0d45_11ea_8bff_6b2173bbdbb2row8_col0\" class=\"data row8 col0\" >1</td>\n",
       "                        <td id=\"T_f539e19b_0d45_11ea_8bff_6b2173bbdbb2row8_col1\" class=\"data row8 col1\" >10</td>\n",
       "                        <td id=\"T_f539e19b_0d45_11ea_8bff_6b2173bbdbb2row8_col2\" class=\"data row8 col2\" >5.09702</td>\n",
       "                        <td id=\"T_f539e19b_0d45_11ea_8bff_6b2173bbdbb2row8_col3\" class=\"data row8 col3\" >0.0160496</td>\n",
       "            </tr>\n",
       "    </tbody></table>"
      ],
      "text/plain": [
       "<pandas.io.formats.style.Styler at 0x7f94fb776210>"
      ]
     },
     "metadata": {},
     "output_type": "display_data"
    }
   ],
   "source": [
    "dataFrame = zip(lista_rl_sklearn_epocas, lista_knn_sklearn_error, lista_knn_sklearn_std)\n",
    "tabla7 = pd.DataFrame(dataFrame, columns=[\"Num Épocas\", \"Tasa error (%)\", \"Tasa std\"]).style.hide_index()\n",
    "print(\"Tabla Scikit-Learn RL\")\n",
    "display(tabla7)\n",
    "print(\"Tabla de nuestro clasificador RL\")\n",
    "display(tabla4)"
   ]
  },
  {
   "cell_type": "markdown",
   "metadata": {},
   "source": [
    "Observamos que también obtenemos mejores resultados en nuestro clasificador de Regresión Logística para llos distintos tipos de factores de aprendizaje aplicados."
   ]
  },
  {
   "cell_type": "markdown",
   "metadata": {},
   "source": [
    "### PLOT MODEL"
   ]
  },
  {
   "cell_type": "markdown",
   "metadata": {},
   "source": [
    "### Conjunto de datos \"example1.data\""
   ]
  },
  {
   "cell_type": "code",
   "execution_count": 46,
   "metadata": {
    "scrolled": true
   },
   "outputs": [
    {
     "data": {
      "image/png": "[encoded data removed]",
      "text/plain": [
       "<Figure size 432x288 with 1 Axes>"
      ]
     },
     "metadata": {
      "needs_background": "light"
     },
     "output_type": "display_data"
    }
   ],
   "source": [
    "# Elegimos el conjunto de datos\n",
    "dataset = Datos('./ConjuntoDatos/example1.data')\n",
    "\n",
    "# Elegimos la estrategia de particionado\n",
    "# estrategia = EstrategiaParticionado.ValidacionSimple(porcentaje_particion=50)\n",
    "estrategia = EstrategiaParticionado.ValidacionCruzada(numero_particiones=4)\n",
    "\n",
    "# Elegimos el clasificador\n",
    "clasificador = Clasificador.ClasificadorVecinosProximos(vecinos=3, normalizar=True)\n",
    "# clasificador = Clasificador.ClasificadorRegresionLogistica(aprendizaje=0.5, epocas=10)\n",
    "\n",
    "# Calculamos el error y la desviación tipica\n",
    "error_media, error_std = clasificador.validacion(estrategia, dataset, clasificador)\n",
    "\n",
    "ii=estrategia.particiones[-1].indicesTrain\n",
    "\n",
    "plotModel(dataset.datos[ii,0],dataset.datos[ii,1],dataset.datos[ii,-1]!=0,clasificador,\"example1, KNN con K = 3\",dataset.diccionarios)\n",
    "\n",
    "plt.plot(dataset.datos[dataset.datos[:,-1]==0,0],dataset.datos[dataset.datos[:,-1]==0,1],'ro')\n",
    "plt.plot(dataset.datos[dataset.datos[:,-1]==1,0],dataset.datos[dataset.datos[:,-1]==1,1],'bo')\n",
    "plt.show()"
   ]
  },
  {
   "cell_type": "markdown",
   "metadata": {},
   "source": [
    "Como podemos observar, el modelo clasifica correctamente las esquinas, ya que no existen puntos de distintas clases en estas. A medida que nos vamos acercando al centro, el modelo empieza a fallar debido a la variacion de clases en el conjunto de puntos del centro."
   ]
  },
  {
   "cell_type": "code",
   "execution_count": 47,
   "metadata": {
    "scrolled": true
   },
   "outputs": [
    {
     "data": {
      "image/png": "[encoded data removed]",
      "text/plain": [
       "<Figure size 432x288 with 1 Axes>"
      ]
     },
     "metadata": {
      "needs_background": "light"
     },
     "output_type": "display_data"
    }
   ],
   "source": [
    "# Elegimos el conjunto de datos\n",
    "dataset = Datos('./ConjuntoDatos/example1.data')\n",
    "\n",
    "# Elegimos la estrategia de particionado\n",
    "# estrategia = EstrategiaParticionado.ValidacionSimple(porcentaje_particion=50)\n",
    "estrategia = EstrategiaParticionado.ValidacionCruzada(numero_particiones=4)\n",
    "\n",
    "# Elegimos el clasificador\n",
    "# clasificador = Clasificador.ClasificadorVecinosProximos(vecinos=3, normalizar=True)\n",
    "clasificador = Clasificador.ClasificadorRegresionLogistica(aprendizaje=0.1, epocas=10)\n",
    "\n",
    "# Calculamos el error y la desviación tipica\n",
    "error_media, error_std = clasificador.validacion(estrategia, dataset, clasificador)\n",
    "\n",
    "ii=estrategia.particiones[-1].indicesTrain\n",
    "\n",
    "plotModel(dataset.datos[ii,0],dataset.datos[ii,1],dataset.datos[ii,-1]!=0,clasificador,\"example1, RL con fa= 0.1 y epocas = 10\",dataset.diccionarios)\n",
    "\n",
    "plt.plot(dataset.datos[dataset.datos[:,-1]==0,0],dataset.datos[dataset.datos[:,-1]==0,1],'ro')\n",
    "plt.plot(dataset.datos[dataset.datos[:,-1]==1,0],dataset.datos[dataset.datos[:,-1]==1,1],'bo')\n",
    "plt.show()"
   ]
  },
  {
   "cell_type": "markdown",
   "metadata": {},
   "source": [
    "Debido a la distribución de los datos en este ejemplo, el clasificador no es capaz de clasificar con mucha precisión. Obtiene unos buenos resultados para uno de los dos conjuntos, pero falla demasiado para el otro."
   ]
  },
  {
   "cell_type": "markdown",
   "metadata": {},
   "source": [
    "### Conjunto de datos \"example2.data\""
   ]
  },
  {
   "cell_type": "code",
   "execution_count": 48,
   "metadata": {
    "scrolled": true
   },
   "outputs": [
    {
     "data": {
      "image/png": "[encoded data removed]",
      "text/plain": [
       "<Figure size 432x288 with 1 Axes>"
      ]
     },
     "metadata": {
      "needs_background": "light"
     },
     "output_type": "display_data"
    }
   ],
   "source": [
    "# Elegimos el conjunto de datos\n",
    "dataset = Datos('./ConjuntoDatos/example2.data')\n",
    "\n",
    "# Elegimos la estrategia de particionado\n",
    "# estrategia = EstrategiaParticionado.ValidacionSimple(porcentaje_particion=50)\n",
    "estrategia = EstrategiaParticionado.ValidacionCruzada(numero_particiones=4)\n",
    "\n",
    "# Elegimos el clasificador\n",
    "clasificador = Clasificador.ClasificadorVecinosProximos(vecinos=3, normalizar=True)\n",
    "# clasificador = Clasificador.ClasificadorRegresionLogistica(aprendizaje=0.5, epocas=10)\n",
    "\n",
    "# Calculamos el error y la desviación tipica\n",
    "error_media, error_std = clasificador.validacion(estrategia, dataset, clasificador)\n",
    "\n",
    "ii=estrategia.particiones[-1].indicesTrain\n",
    "\n",
    "plotModel(dataset.datos[ii,0],dataset.datos[ii,1],dataset.datos[ii,-1]!=0,clasificador,\"example2, KNN con K = 3\",dataset.diccionarios)\n",
    "\n",
    "plt.plot(dataset.datos[dataset.datos[:,-1]==0,0],dataset.datos[dataset.datos[:,-1]==0,1],'ro')\n",
    "plt.plot(dataset.datos[dataset.datos[:,-1]==1,0],dataset.datos[dataset.datos[:,-1]==1,1],'bo')\n",
    "plt.show()"
   ]
  },
  {
   "cell_type": "markdown",
   "metadata": {},
   "source": [
    "El clasificador es capaz de clasificar correctamente los 4 puntos. Es un ejemplo muy sencillo de clasificar para Vecinos Próximos"
   ]
  },
  {
   "cell_type": "code",
   "execution_count": 49,
   "metadata": {
    "scrolled": true
   },
   "outputs": [
    {
     "data": {
      "image/png": "[encoded data removed]",
      "text/plain": [
       "<Figure size 432x288 with 1 Axes>"
      ]
     },
     "metadata": {
      "needs_background": "light"
     },
     "output_type": "display_data"
    }
   ],
   "source": [
    "# Elegimos el conjunto de datos\n",
    "dataset = Datos('./ConjuntoDatos/example2.data')\n",
    "\n",
    "# Elegimos la estrategia de particionado\n",
    "# estrategia = EstrategiaParticionado.ValidacionSimple(porcentaje_particion=50)\n",
    "estrategia = EstrategiaParticionado.ValidacionCruzada(numero_particiones=4)\n",
    "\n",
    "# Elegimos el clasificador\n",
    "# clasificador = Clasificador.ClasificadorVecinosProximos(vecinos=3, normalizar=True)\n",
    "clasificador = Clasificador.ClasificadorRegresionLogistica(aprendizaje=0.1, epocas=10)\n",
    "\n",
    "# Calculamos el error y la desviación tipica\n",
    "error_media, error_std = clasificador.validacion(estrategia, dataset, clasificador)\n",
    "\n",
    "ii=estrategia.particiones[-1].indicesTrain\n",
    "\n",
    "plotModel(dataset.datos[ii,0],dataset.datos[ii,1],dataset.datos[ii,-1]!=0,clasificador,\"example2, RL con fa= 0.1 y epocas = 10\",dataset.diccionarios)\n",
    "\n",
    "plt.plot(dataset.datos[dataset.datos[:,-1]==0,0],dataset.datos[dataset.datos[:,-1]==0,1],'ro')\n",
    "plt.plot(dataset.datos[dataset.datos[:,-1]==1,0],dataset.datos[dataset.datos[:,-1]==1,1],'bo')\n",
    "plt.show()"
   ]
  },
  {
   "cell_type": "markdown",
   "metadata": {},
   "source": [
    "Al estar los puntos de la misma clase en las esquinas opuestas, el clasificador no puede crear una frontera que sea capaz de clasificarlos."
   ]
  },
  {
   "cell_type": "markdown",
   "metadata": {},
   "source": [
    "### Conjunto de datos \"example3.data\""
   ]
  },
  {
   "cell_type": "code",
   "execution_count": 50,
   "metadata": {
    "scrolled": true
   },
   "outputs": [
    {
     "data": {
      "image/png": "[encoded data removed]",
      "text/plain": [
       "<Figure size 432x288 with 1 Axes>"
      ]
     },
     "metadata": {
      "needs_background": "light"
     },
     "output_type": "display_data"
    }
   ],
   "source": [
    "# Elegimos el conjunto de datos\n",
    "dataset = Datos('./ConjuntoDatos/example3.data')\n",
    "\n",
    "# Elegimos la estrategia de particionado\n",
    "# estrategia = EstrategiaParticionado.ValidacionSimple(porcentaje_particion=50)\n",
    "estrategia = EstrategiaParticionado.ValidacionCruzada(numero_particiones=4)\n",
    "\n",
    "# Elegimos el clasificador\n",
    "clasificador = Clasificador.ClasificadorVecinosProximos(vecinos=3, normalizar=True)\n",
    "# clasificador = Clasificador.ClasificadorRegresionLogistica(aprendizaje=0.5, epocas=10)\n",
    "\n",
    "# Calculamos el error y la desviación tipica\n",
    "error_media, error_std = clasificador.validacion(estrategia, dataset, clasificador)\n",
    "\n",
    "ii=estrategia.particiones[-1].indicesTrain\n",
    "\n",
    "plotModel(dataset.datos[ii,0],dataset.datos[ii,1],dataset.datos[ii,-1]!=0,clasificador,\"example3, KNN con K = 3\",dataset.diccionarios)\n",
    "\n",
    "plt.plot(dataset.datos[dataset.datos[:,-1]==0,0],dataset.datos[dataset.datos[:,-1]==0,1],'ro')\n",
    "plt.plot(dataset.datos[dataset.datos[:,-1]==1,0],dataset.datos[dataset.datos[:,-1]==1,1],'bo')\n",
    "plt.show()"
   ]
  },
  {
   "cell_type": "markdown",
   "metadata": {},
   "source": [
    "Podemos observar que el clasificador es capaz de clasificar casi a la perfección, fallando en las fronteras creadas debido a la densidad de puntos de estas."
   ]
  },
  {
   "cell_type": "code",
   "execution_count": 51,
   "metadata": {
    "scrolled": false
   },
   "outputs": [
    {
     "data": {
      "image/png": "[encoded data removed]",
      "text/plain": [
       "<Figure size 432x288 with 1 Axes>"
      ]
     },
     "metadata": {
      "needs_background": "light"
     },
     "output_type": "display_data"
    }
   ],
   "source": [
    "# Elegimos el conjunto de datos\n",
    "dataset = Datos('./ConjuntoDatos/example3.data')\n",
    "\n",
    "# Elegimos la estrategia de particionado\n",
    "# estrategia = EstrategiaParticionado.ValidacionSimple(porcentaje_particion=50)\n",
    "estrategia = EstrategiaParticionado.ValidacionCruzada(numero_particiones=4)\n",
    "\n",
    "# Elegimos el clasificador\n",
    "# clasificador = Clasificador.ClasificadorVecinosProximos(vecinos=3, normalizar=True)\n",
    "clasificador = Clasificador.ClasificadorRegresionLogistica(aprendizaje=0.1, epocas=10)\n",
    "\n",
    "# Calculamos el error y la desviación tipica\n",
    "error_media, error_std = clasificador.validacion(estrategia, dataset, clasificador)\n",
    "\n",
    "ii=estrategia.particiones[-1].indicesTrain\n",
    "\n",
    "plotModel(dataset.datos[ii,0],dataset.datos[ii,1],dataset.datos[ii,-1]!=0,clasificador,\"example3, RL con fa= 0.1 y epocas = 10\",dataset.diccionarios)\n",
    "\n",
    "plt.plot(dataset.datos[dataset.datos[:,-1]==0,0],dataset.datos[dataset.datos[:,-1]==0,1],'ro')\n",
    "plt.plot(dataset.datos[dataset.datos[:,-1]==1,0],dataset.datos[dataset.datos[:,-1]==1,1],'bo')\n",
    "plt.show()"
   ]
  },
  {
   "cell_type": "markdown",
   "metadata": {},
   "source": [
    "Como se trata de otro conjunto con datos cuyos puntos están distribuidos en esquinas opuestas, Regresión logística sigue sin ser capaz de ofrecer una frontera útil. Realiza la frontera que más puntos recoge de una de las dos clases."
   ]
  },
  {
   "cell_type": "markdown",
   "metadata": {},
   "source": [
    "#### Conjunto de datos \"example4.data\""
   ]
  },
  {
   "cell_type": "code",
   "execution_count": 52,
   "metadata": {
    "scrolled": true
   },
   "outputs": [
    {
     "data": {
      "image/png": "[encoded data removed]",
      "text/plain": [
       "<Figure size 432x288 with 1 Axes>"
      ]
     },
     "metadata": {
      "needs_background": "light"
     },
     "output_type": "display_data"
    }
   ],
   "source": [
    "# Elegimos el conjunto de datos\n",
    "dataset = Datos('./ConjuntoDatos/example4.data')\n",
    "\n",
    "# Elegimos la estrategia de particionado\n",
    "# estrategia = EstrategiaParticionado.ValidacionSimple(porcentaje_particion=50)\n",
    "estrategia = EstrategiaParticionado.ValidacionCruzada(numero_particiones=4)\n",
    "\n",
    "# Elegimos el clasificador\n",
    "clasificador = Clasificador.ClasificadorVecinosProximos(vecinos=3, normalizar=True)\n",
    "# clasificador = Clasificador.ClasificadorRegresionLogistica(aprendizaje=0.5, epocas=10)\n",
    "\n",
    "# Calculamos el error y la desviación tipica\n",
    "error_media, error_std = clasificador.validacion(estrategia, dataset, clasificador)\n",
    "\n",
    "ii=estrategia.particiones[-1].indicesTrain\n",
    "\n",
    "plotModel(dataset.datos[ii,0],dataset.datos[ii,1],dataset.datos[ii,-1]!=0,clasificador,\"example4, KNN con K = 3\",dataset.diccionarios)\n",
    "\n",
    "plt.plot(dataset.datos[dataset.datos[:,-1]==0,0],dataset.datos[dataset.datos[:,-1]==0,1],'ro')\n",
    "plt.plot(dataset.datos[dataset.datos[:,-1]==1,0],dataset.datos[dataset.datos[:,-1]==1,1],'bo')\n",
    "plt.show()"
   ]
  },
  {
   "cell_type": "markdown",
   "metadata": {},
   "source": [
    "Al estar las clases separadas, KNN es capaz de clasificar con completa facilidad."
   ]
  },
  {
   "cell_type": "code",
   "execution_count": 53,
   "metadata": {
    "scrolled": false
   },
   "outputs": [
    {
     "data": {
      "image/png": "[encoded data removed]",
      "text/plain": [
       "<Figure size 432x288 with 1 Axes>"
      ]
     },
     "metadata": {
      "needs_background": "light"
     },
     "output_type": "display_data"
    }
   ],
   "source": [
    "# Elegimos el conjunto de datos\n",
    "dataset = Datos('./ConjuntoDatos/example4.data')\n",
    "\n",
    "# Elegimos la estrategia de particionado\n",
    "# estrategia = EstrategiaParticionado.ValidacionSimple(porcentaje_particion=50)\n",
    "estrategia = EstrategiaParticionado.ValidacionCruzada(numero_particiones=4)\n",
    "\n",
    "# Elegimos el clasificador\n",
    "# clasificador = Clasificador.ClasificadorVecinosProximos(vecinos=3, normalizar=True)\n",
    "clasificador = Clasificador.ClasificadorRegresionLogistica(aprendizaje=0.1, epocas=10)\n",
    "\n",
    "# Calculamos el error y la desviación tipica\n",
    "error_media, error_std = clasificador.validacion(estrategia, dataset, clasificador)\n",
    "\n",
    "ii=estrategia.particiones[-1].indicesTrain\n",
    "\n",
    "plotModel(dataset.datos[ii,0],dataset.datos[ii,1],dataset.datos[ii,-1]!=0,clasificador,\"example4, RL con fa= 0.1 y epocas = 10\",dataset.diccionarios)\n",
    "\n",
    "plt.plot(dataset.datos[dataset.datos[:,-1]==0,0],dataset.datos[dataset.datos[:,-1]==0,1],'ro')\n",
    "plt.plot(dataset.datos[dataset.datos[:,-1]==1,0],dataset.datos[dataset.datos[:,-1]==1,1],'bo')\n",
    "plt.show()"
   ]
  },
  {
   "cell_type": "markdown",
   "metadata": {},
   "source": [
    "Este conjunto es el único que contiene el conjunto de puntos de cada clase bien diferenciado, por ello Regresión Logística es capaz de trazar una frontera correcta"
   ]
  },
  {
   "cell_type": "code",
   "execution_count": null,
   "metadata": {},
   "outputs": [],
   "source": []
  }
 ],
 "metadata": {
  "kernelspec": {
   "display_name": "Python 3",
   "language": "python",
   "name": "python3"
  },
  "language_info": {
   "codemirror_mode": {
    "name": "ipython",
    "version": 3
   },
   "file_extension": ".py",
   "mimetype": "text/x-python",
   "name": "python",
   "nbconvert_exporter": "python",
   "pygments_lexer": "ipython3",
   "version": "3.7.5rc1"
  }
 },
 "nbformat": 4,
 "nbformat_minor": 2
}
