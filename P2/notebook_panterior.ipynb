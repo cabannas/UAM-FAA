{
 "cells": [
  {
   "cell_type": "markdown",
   "metadata": {},
   "source": [
    "# Práctica 1"
   ]
  },
  {
   "cell_type": "code",
   "execution_count": 1,
   "metadata": {},
   "outputs": [],
   "source": [
    "import Clasificador\n",
    "import EstrategiaParticionado\n",
    "from Datos import Datos\n",
    "from sklearn import preprocessing as pp\n",
    "from sklearn.model_selection import cross_val_score\n",
    "from sklearn.naive_bayes import GaussianNB\n",
    "from sklearn.naive_bayes import MultinomialNB\n",
    "from sklearn.model_selection import train_test_split"
   ]
  },
  {
   "cell_type": "markdown",
   "metadata": {},
   "source": [
    "## Apartado 1 - Particionado"
   ]
  },
  {
   "cell_type": "markdown",
   "metadata": {},
   "source": [
    "### Validación Simple"
   ]
  },
  {
   "cell_type": "code",
   "execution_count": 2,
   "metadata": {},
   "outputs": [],
   "source": [
    "# Elegimos el conjunto de datos\n",
    "# dataset = Datos('./datos/german.data')\n",
    "# dataset = Datos('./datos/lenses.data')\n",
    "dataset = Datos('./datos/tic-tac-toe.data')\n",
    "\n",
    "\n",
    "# Elegimos la estrategia de particionado\n",
    "estrategia = EstrategiaParticionado.ValidacionSimple()\n",
    "\n",
    "# Creamos las particiones\n",
    "\n",
    "lista_particiones = estrategia.creaParticiones(dataset.datos)\n"
   ]
  },
  {
   "cell_type": "markdown",
   "metadata": {},
   "source": [
    "Validación Simple crea una lista de particiones con una única partición, la cual contiene las tablas de índices 'indicesTrain' e 'indicesTest'. Estos indices están en un orden aleatorizado, para poder generar subconjuntos aleatorios útiles con los que poder trabajar y comparar.\n",
    "\n",
    "La partición se crea en función al porcentaje que se le pase por argumento (50% por defecto). Las tablas contienen los índices que se utilizarán junto con la función 'extraeDatos' de Datos.py para crear nuevos subconjuntos de datos con los que poder entrenar y probar los clasificadores."
   ]
  },
  {
   "cell_type": "markdown",
   "metadata": {},
   "source": [
    "### Validación Cruzada"
   ]
  },
  {
   "cell_type": "code",
   "execution_count": 3,
   "metadata": {},
   "outputs": [],
   "source": [
    "# Elegimos el conjunto de datos\n",
    "dataset = Datos('./datos/german.data')\n",
    "# dataset = Datos('./datos/lenses.data')\n",
    "# dataset = Datos('./datos/tic-tac-toe.data')\n",
    "\n",
    "\n",
    "# Elegimos la estrategia de particionado\n",
    "estrategia = EstrategiaParticionado.ValidacionCruzada(numero_particiones = 4)\n",
    "\n",
    "# Creamos las particiones\n",
    "\n",
    "lista_particiones = estrategia.creaParticiones(dataset.datos)"
   ]
  },
  {
   "cell_type": "markdown",
   "metadata": {},
   "source": [
    "Validación Cruzada crea una lista de particiones con N particiones (siendo N el argumento de número de particiones, que en su defecto es 2), las cuales contienen cada una de ellas las tablas de índices 'indicesTrain' e 'indicesTest'.\n",
    "\n",
    "Las particiones de validación cruzada constan de N-1 (siendo N el numero de párticiones) segmentos del total de índices que forman la tabla de índices de entrenamiento, y de un segmento para la tabla de índices de prueba. En cada partición, el segmento de prueba rota, y los segmentos de entrenamiento son los N-1 restantes. Así se consiguen N particiones distíntas para poder entrenar y probar clasificadores.\n",
    "\n",
    "Las particiones se crean de manera equitativa (por ejemplo: en un conjunto de 100 datos y 4 particiones, las particiones serán de tamaño igual a 25). Las tablas contienen los índices que se utilizarán junto con la función 'extraeDatos' de Datos.py para crear nuevos subconjuntos de datos con los que poder entrenar y probar los clasificadores."
   ]
  },
  {
   "cell_type": "markdown",
   "metadata": {},
   "source": [
    "## Apartado 2 - Clasificador Naïve Bayes"
   ]
  },
  {
   "cell_type": "markdown",
   "metadata": {},
   "source": [
    "### Conjunto de Datos german.data"
   ]
  },
  {
   "cell_type": "code",
   "execution_count": 4,
   "metadata": {},
   "outputs": [],
   "source": [
    "dataset = Datos('./datos/german.data')\n",
    "# Elegimos la estrategia de particionado\n",
    "estrategia = EstrategiaParticionado.ValidacionSimple()\n",
    "# Elegimos el clasificados (actualmente solo tenemos naive bayes\n",
    "clasificador = Clasificador.ClasificadorNaiveBayes(laplace=False)\n",
    "# Calculamos el error y la desviación tipica\n",
    "error_media, error_std = clasificador.validacion(estrategia, dataset, clasificador)"
   ]
  },
  {
   "cell_type": "markdown",
   "metadata": {},
   "source": [
    "Validación Simple - Sin Corrección de Laplace"
   ]
  },
  {
   "cell_type": "code",
   "execution_count": 5,
   "metadata": {},
   "outputs": [
    {
     "name": "stdout",
     "output_type": "stream",
     "text": [
      "0.288\n",
      "0\n"
     ]
    }
   ],
   "source": [
    "print(error_media)\n",
    "print(error_std)"
   ]
  },
  {
   "cell_type": "code",
   "execution_count": 6,
   "metadata": {},
   "outputs": [],
   "source": [
    "dataset = Datos('./datos/german.data')\n",
    "# Elegimos la estrategia de particionado\n",
    "estrategia = EstrategiaParticionado.ValidacionSimple()\n",
    "# Elegimos el clasificados (actualmente solo tenemos naive bayes\n",
    "clasificador = Clasificador.ClasificadorNaiveBayes(laplace=True)\n",
    "# Calculamos el error y la desviación tipica\n",
    "error_media, error_std = clasificador.validacion(estrategia, dataset, clasificador)"
   ]
  },
  {
   "cell_type": "markdown",
   "metadata": {},
   "source": [
    "Validación Simple - Con Corrección de Laplace"
   ]
  },
  {
   "cell_type": "code",
   "execution_count": 7,
   "metadata": {},
   "outputs": [
    {
     "name": "stdout",
     "output_type": "stream",
     "text": [
      "0.242\n",
      "0\n"
     ]
    }
   ],
   "source": [
    "print(error_media)\n",
    "print(error_std)"
   ]
  },
  {
   "cell_type": "code",
   "execution_count": 8,
   "metadata": {},
   "outputs": [],
   "source": [
    "dataset = Datos('./datos/german.data')\n",
    "# Elegimos la estrategia de particionado\n",
    "estrategia = EstrategiaParticionado.ValidacionCruzada(numero_particiones = 4)\n",
    "# Elegimos el clasificados (actualmente solo tenemos naive bayes\n",
    "clasificador = Clasificador.ClasificadorNaiveBayes(laplace=False)\n",
    "# Calculamos el error y la desviación tipica\n",
    "error_media, error_std = clasificador.validacion(estrategia, dataset, clasificador)"
   ]
  },
  {
   "cell_type": "markdown",
   "metadata": {},
   "source": [
    "Validación Cruzada - Sin Corrección de Laplace"
   ]
  },
  {
   "cell_type": "code",
   "execution_count": 9,
   "metadata": {
    "scrolled": true
   },
   "outputs": [
    {
     "name": "stdout",
     "output_type": "stream",
     "text": [
      "0.24\n",
      "0.030724582991474427\n"
     ]
    }
   ],
   "source": [
    "print(error_media)\n",
    "print(error_std)"
   ]
  },
  {
   "cell_type": "code",
   "execution_count": 10,
   "metadata": {},
   "outputs": [],
   "source": [
    "dataset = Datos('./datos/german.data')\n",
    "# Elegimos la estrategia de particionado\n",
    "estrategia = EstrategiaParticionado.ValidacionCruzada(numero_particiones = 4)\n",
    "# Elegimos el clasificados (actualmente solo tenemos naive bayes\n",
    "clasificador = Clasificador.ClasificadorNaiveBayes(laplace=True)\n",
    "# Calculamos el error y la desviación tipica\n",
    "error_media, error_std = clasificador.validacion(estrategia, dataset, clasificador)"
   ]
  },
  {
   "cell_type": "markdown",
   "metadata": {},
   "source": [
    "Validación Cruzada - Con Corrección de Laplace"
   ]
  },
  {
   "cell_type": "code",
   "execution_count": 11,
   "metadata": {
    "scrolled": true
   },
   "outputs": [
    {
     "name": "stdout",
     "output_type": "stream",
     "text": [
      "0.237\n",
      "0.024228082879171442\n"
     ]
    }
   ],
   "source": [
    "print(error_media)\n",
    "print(error_std)"
   ]
  },
  {
   "cell_type": "markdown",
   "metadata": {},
   "source": [
    "### Conjunto de Datos lenses.data"
   ]
  },
  {
   "cell_type": "code",
   "execution_count": 12,
   "metadata": {},
   "outputs": [],
   "source": [
    "dataset = Datos('./datos/lenses.data')\n",
    "# Elegimos la estrategia de particionado\n",
    "estrategia = EstrategiaParticionado.ValidacionSimple()\n",
    "# Elegimos el clasificados (actualmente solo tenemos naive bayes\n",
    "clasificador = Clasificador.ClasificadorNaiveBayes(laplace=False)\n",
    "# Calculamos el error y la desviación tipica\n",
    "error_media, error_std = clasificador.validacion(estrategia, dataset, clasificador)"
   ]
  },
  {
   "cell_type": "markdown",
   "metadata": {},
   "source": [
    "Validación Simple - Sin Corrección de Laplace"
   ]
  },
  {
   "cell_type": "code",
   "execution_count": 13,
   "metadata": {},
   "outputs": [
    {
     "name": "stdout",
     "output_type": "stream",
     "text": [
      "0.3333333333333333\n",
      "0\n"
     ]
    }
   ],
   "source": [
    "print(error_media)\n",
    "print(error_std)"
   ]
  },
  {
   "cell_type": "code",
   "execution_count": 14,
   "metadata": {},
   "outputs": [],
   "source": [
    "dataset = Datos('./datos/lenses.data')\n",
    "# Elegimos la estrategia de particionado\n",
    "estrategia = EstrategiaParticionado.ValidacionSimple()\n",
    "# Elegimos el clasificados (actualmente solo tenemos naive bayes\n",
    "clasificador = Clasificador.ClasificadorNaiveBayes(laplace=True)\n",
    "# Calculamos el error y la desviación tipica\n",
    "error_media, error_std = clasificador.validacion(estrategia, dataset, clasificador)"
   ]
  },
  {
   "cell_type": "markdown",
   "metadata": {},
   "source": [
    "Validación Simple - Con Corrección de Laplace"
   ]
  },
  {
   "cell_type": "code",
   "execution_count": 15,
   "metadata": {},
   "outputs": [
    {
     "name": "stdout",
     "output_type": "stream",
     "text": [
      "0.25\n",
      "0\n"
     ]
    }
   ],
   "source": [
    "print(error_media)\n",
    "print(error_std)"
   ]
  },
  {
   "cell_type": "code",
   "execution_count": 16,
   "metadata": {},
   "outputs": [],
   "source": [
    "dataset = Datos('./datos/lenses.data')\n",
    "# Elegimos la estrategia de particionado\n",
    "estrategia = EstrategiaParticionado.ValidacionCruzada(numero_particiones = 4)\n",
    "# Elegimos el clasificados (actualmente solo tenemos naive bayes\n",
    "clasificador = Clasificador.ClasificadorNaiveBayes(laplace=False)\n",
    "# Calculamos el error y la desviación tipica\n",
    "error_media, error_std = clasificador.validacion(estrategia, dataset, clasificador)"
   ]
  },
  {
   "cell_type": "markdown",
   "metadata": {},
   "source": [
    "Validación Cruzada - Sin Corrección de Laplace"
   ]
  },
  {
   "cell_type": "code",
   "execution_count": 17,
   "metadata": {
    "scrolled": true
   },
   "outputs": [
    {
     "name": "stdout",
     "output_type": "stream",
     "text": [
      "0.16666666666666666\n",
      "0.2041241452319315\n"
     ]
    }
   ],
   "source": [
    "print(error_media)\n",
    "print(error_std)"
   ]
  },
  {
   "cell_type": "code",
   "execution_count": 18,
   "metadata": {},
   "outputs": [],
   "source": [
    "dataset = Datos('./datos/lenses.data')\n",
    "# Elegimos la estrategia de particionado\n",
    "estrategia = EstrategiaParticionado.ValidacionCruzada(numero_particiones = 4)\n",
    "# Elegimos el clasificados (actualmente solo tenemos naive bayes\n",
    "clasificador = Clasificador.ClasificadorNaiveBayes(laplace=True)\n",
    "# Calculamos el error y la desviación tipica\n",
    "error_media, error_std = clasificador.validacion(estrategia, dataset, clasificador)"
   ]
  },
  {
   "cell_type": "markdown",
   "metadata": {},
   "source": [
    "Validación Cruzada - Con Corrección de Laplace"
   ]
  },
  {
   "cell_type": "code",
   "execution_count": 19,
   "metadata": {
    "scrolled": false
   },
   "outputs": [
    {
     "name": "stdout",
     "output_type": "stream",
     "text": [
      "0.125\n",
      "0.13819269959814165\n"
     ]
    }
   ],
   "source": [
    "print(error_media)\n",
    "print(error_std)"
   ]
  },
  {
   "cell_type": "markdown",
   "metadata": {},
   "source": [
    "### Conjunto de Datos tic-tac-toe.data"
   ]
  },
  {
   "cell_type": "code",
   "execution_count": 20,
   "metadata": {},
   "outputs": [],
   "source": [
    "dataset = Datos('./datos/tic-tac-toe.data')\n",
    "# Elegimos la estrategia de particionado\n",
    "estrategia = EstrategiaParticionado.ValidacionSimple()\n",
    "# Elegimos el clasificados (actualmente solo tenemos naive bayes\n",
    "clasificador = Clasificador.ClasificadorNaiveBayes(laplace=False)\n",
    "# Calculamos el error y la desviación tipica\n",
    "error_media, error_std = clasificador.validacion(estrategia, dataset, clasificador)"
   ]
  },
  {
   "cell_type": "markdown",
   "metadata": {},
   "source": [
    "Validación Simple - Sin Corrección de Laplace"
   ]
  },
  {
   "cell_type": "code",
   "execution_count": 21,
   "metadata": {},
   "outputs": [
    {
     "name": "stdout",
     "output_type": "stream",
     "text": [
      "0.27348643006263046\n",
      "0\n"
     ]
    }
   ],
   "source": [
    "print(error_media)\n",
    "print(error_std)"
   ]
  },
  {
   "cell_type": "code",
   "execution_count": 22,
   "metadata": {},
   "outputs": [],
   "source": [
    "dataset = Datos('./datos/tic-tac-toe.data')\n",
    "# Elegimos la estrategia de particionado\n",
    "estrategia = EstrategiaParticionado.ValidacionSimple()\n",
    "# Elegimos el clasificados (actualmente solo tenemos naive bayes\n",
    "clasificador = Clasificador.ClasificadorNaiveBayes(laplace=True)\n",
    "# Calculamos el error y la desviación tipica\n",
    "error_media, error_std = clasificador.validacion(estrategia, dataset, clasificador)"
   ]
  },
  {
   "cell_type": "markdown",
   "metadata": {},
   "source": [
    "Validación Simple - Con Corrección de Laplace"
   ]
  },
  {
   "cell_type": "code",
   "execution_count": 23,
   "metadata": {},
   "outputs": [
    {
     "name": "stdout",
     "output_type": "stream",
     "text": [
      "0.2881002087682672\n",
      "0\n"
     ]
    }
   ],
   "source": [
    "print(error_media)\n",
    "print(error_std)"
   ]
  },
  {
   "cell_type": "code",
   "execution_count": 24,
   "metadata": {},
   "outputs": [],
   "source": [
    "dataset = Datos('./datos/tic-tac-toe.data')\n",
    "# Elegimos la estrategia de particionado\n",
    "estrategia = EstrategiaParticionado.ValidacionCruzada(numero_particiones = 4)\n",
    "# Elegimos el clasificados (actualmente solo tenemos naive bayes\n",
    "clasificador = Clasificador.ClasificadorNaiveBayes(laplace=False)\n",
    "# Calculamos el error y la desviación tipica\n",
    "error_media, error_std = clasificador.validacion(estrategia, dataset, clasificador)"
   ]
  },
  {
   "cell_type": "markdown",
   "metadata": {},
   "source": [
    "Validación Cruzada - Sin Corrección de Laplace"
   ]
  },
  {
   "cell_type": "code",
   "execution_count": 25,
   "metadata": {
    "scrolled": true
   },
   "outputs": [
    {
     "name": "stdout",
     "output_type": "stream",
     "text": [
      "0.27658211297071134\n",
      "0.021691417543591267\n"
     ]
    }
   ],
   "source": [
    "print(error_media)\n",
    "print(error_std)"
   ]
  },
  {
   "cell_type": "code",
   "execution_count": 26,
   "metadata": {},
   "outputs": [],
   "source": [
    "dataset = Datos('./datos/tic-tac-toe.data')\n",
    "# Elegimos la estrategia de particionado\n",
    "estrategia = EstrategiaParticionado.ValidacionCruzada(numero_particiones = 4)\n",
    "# Elegimos el clasificados (actualmente solo tenemos naive bayes\n",
    "clasificador = Clasificador.ClasificadorNaiveBayes(laplace=True)\n",
    "# Calculamos el error y la desviación tipica\n",
    "error_media, error_std = clasificador.validacion(estrategia, dataset, clasificador)"
   ]
  },
  {
   "cell_type": "markdown",
   "metadata": {},
   "source": [
    "Validación Cruzada - Con Corrección de Laplace"
   ]
  },
  {
   "cell_type": "code",
   "execution_count": 27,
   "metadata": {
    "scrolled": false
   },
   "outputs": [
    {
     "name": "stdout",
     "output_type": "stream",
     "text": [
      "0.2776499302649931\n",
      "0.023160924551072402\n"
     ]
    }
   ],
   "source": [
    "print(error_media)\n",
    "print(error_std)"
   ]
  },
  {
   "cell_type": "markdown",
   "metadata": {},
   "source": [
    "### Breve Análisis de los Resultados Anteriores"
   ]
  },
  {
   "cell_type": "markdown",
   "metadata": {},
   "source": [
    "Cuando aplicamos validación simple, no obtenemos desviación típica.\n",
    "\n",
    "Laplace corrige en algunas ocasiones, pero al ser estos conjuntos de datos muy grandes y manejar muy pocos ceros, no suele afectar de forma determinante. Se observa que la desviación típica para validación cruzada si es afectada por Laplace, siendo esta menor en la mayoría de los casos.\n",
    "\n",
    "Si ejecutamos el código, al estar realizado con particiones aleatorias, obtendremos distintos resultados, pero suelen ser siempre muy semejantes.\n",
    "\n",
    "El conjunto de datos 'lenses.data' es muy pequeño y por ello suele generar resultados con unas variaciones muy grandes entre sus ejecuciones.\n",
    "También es el más afectado por Laplace debido a la distribución de datos.\n",
    "\n",
    "El conjunto más estable es 'lenses.data' con validación cruzada y con corrección de Laplace.\n",
    "La peor predicción la produce también 'lenses.data' pero con validación simple, con o sin correción de Laplace.\n",
    "Se puede entender que es debido a su reducido tamaño de datos.\n",
    "Su tasa de error varia de un 50% a un 10% en función de que estrategia de particionado usemos y si aplicamos Laplace o no.\n",
    "\n",
    "El conjunto 'german.data' es el único que posee atributos continuos. También es bastante estable en sus resultados. Su tasa de error se encuentra en torno al 26%.\n",
    "\n",
    "El conjunto 'tic-tac-toe.data' produce buenos resultados con una tasa de error de en torno al 30%.\n",
    "\n",
    "\n",
    "\n"
   ]
  },
  {
   "cell_type": "markdown",
   "metadata": {},
   "source": [
    "## Apartado 3 - Scikit Learn"
   ]
  },
  {
   "cell_type": "markdown",
   "metadata": {},
   "source": [
    "### GaussianNB, german.data"
   ]
  },
  {
   "cell_type": "code",
   "execution_count": 28,
   "metadata": {
    "scrolled": true
   },
   "outputs": [],
   "source": [
    "dataset = Datos('./datos/german.data')\n",
    "\n",
    "g = GaussianNB()\n",
    "data = dataset.datos[:, :-1]\n",
    "data_class = dataset.datos[:, -1]\n"
   ]
  },
  {
   "cell_type": "markdown",
   "metadata": {},
   "source": [
    "Validación Simple"
   ]
  },
  {
   "cell_type": "code",
   "execution_count": 29,
   "metadata": {},
   "outputs": [
    {
     "name": "stdout",
     "output_type": "stream",
     "text": [
      "0.258\n"
     ]
    }
   ],
   "source": [
    "data_train, data_test, data_class_train, data_class_test = train_test_split(data, data_class,\n",
    "                                                                            test_size=0.5)\n",
    "g.fit(data_train, data_class_train)\n",
    "score = g.score(data_test, data_class_test)\n",
    "invertido = 1 - score\n",
    "print(invertido)"
   ]
  },
  {
   "cell_type": "markdown",
   "metadata": {},
   "source": [
    "Validación Cruzada"
   ]
  },
  {
   "cell_type": "code",
   "execution_count": 30,
   "metadata": {
    "scrolled": true
   },
   "outputs": [
    {
     "name": "stdout",
     "output_type": "stream",
     "text": [
      "0.266 0.024248711305964305\n"
     ]
    }
   ],
   "source": [
    "score = cross_val_score(g, data, data_class, cv=4)\n",
    "media = score.mean()\n",
    "invertido = 1 - media\n",
    "desv = score.std()\n",
    "print(invertido, desv)"
   ]
  },
  {
   "cell_type": "markdown",
   "metadata": {},
   "source": [
    "### GaussianNB, tic-tac-toe.data"
   ]
  },
  {
   "cell_type": "code",
   "execution_count": 31,
   "metadata": {
    "scrolled": true
   },
   "outputs": [],
   "source": [
    "dataset = Datos('./datos/tic-tac-toe.data')\n",
    "\n",
    "g = GaussianNB()\n",
    "data = dataset.datos[:, :-1]\n",
    "data_class = dataset.datos[:, -1]\n"
   ]
  },
  {
   "cell_type": "markdown",
   "metadata": {},
   "source": [
    "Validación Simple"
   ]
  },
  {
   "cell_type": "code",
   "execution_count": 32,
   "metadata": {},
   "outputs": [
    {
     "name": "stdout",
     "output_type": "stream",
     "text": [
      "0.3152400835073069\n"
     ]
    }
   ],
   "source": [
    "data_train, data_test, data_class_train, data_class_test = train_test_split(data, data_class,\n",
    "                                                                            test_size=0.5)\n",
    "g.fit(data_train, data_class_train)\n",
    "score = g.score(data_test, data_class_test)\n",
    "invertido = 1 - score\n",
    "print(invertido)"
   ]
  },
  {
   "cell_type": "markdown",
   "metadata": {},
   "source": [
    "Validación Cruzada"
   ]
  },
  {
   "cell_type": "code",
   "execution_count": 33,
   "metadata": {
    "scrolled": true
   },
   "outputs": [
    {
     "name": "stdout",
     "output_type": "stream",
     "text": [
      "0.42071565550906553 0.10340656571229914\n"
     ]
    }
   ],
   "source": [
    "score = cross_val_score(g, data, data_class, cv=4)\n",
    "media = score.mean()\n",
    "invertido = 1 - media\n",
    "desv = score.std()\n",
    "print(invertido, desv)"
   ]
  },
  {
   "cell_type": "markdown",
   "metadata": {},
   "source": [
    "### GaussianNB, lenses.data"
   ]
  },
  {
   "cell_type": "code",
   "execution_count": 34,
   "metadata": {
    "scrolled": true
   },
   "outputs": [],
   "source": [
    "dataset = Datos('./datos/lenses.data')\n",
    "\n",
    "g = GaussianNB()\n",
    "data = dataset.datos[:, :-1]\n",
    "data_class = dataset.datos[:, -1]\n"
   ]
  },
  {
   "cell_type": "markdown",
   "metadata": {},
   "source": [
    "Validación Simple"
   ]
  },
  {
   "cell_type": "code",
   "execution_count": 35,
   "metadata": {},
   "outputs": [
    {
     "name": "stdout",
     "output_type": "stream",
     "text": [
      "0.25\n"
     ]
    }
   ],
   "source": [
    "data_train, data_test, data_class_train, data_class_test = train_test_split(data, data_class,\n",
    "                                                                            test_size=0.5)\n",
    "g.fit(data_train, data_class_train)\n",
    "score = g.score(data_test, data_class_test)\n",
    "invertido = 1 - score\n",
    "print(invertido)"
   ]
  },
  {
   "cell_type": "markdown",
   "metadata": {},
   "source": [
    "Validación Cruzada"
   ]
  },
  {
   "cell_type": "code",
   "execution_count": 36,
   "metadata": {
    "scrolled": true
   },
   "outputs": [
    {
     "name": "stdout",
     "output_type": "stream",
     "text": [
      "0.17500000000000004 0.11873172373979174\n"
     ]
    }
   ],
   "source": [
    "score = cross_val_score(g, data, data_class, cv=4)\n",
    "media = score.mean()\n",
    "invertido = 1 - media\n",
    "desv = score.std()\n",
    "print(invertido, desv)"
   ]
  },
  {
   "cell_type": "markdown",
   "metadata": {},
   "source": [
    "### MultiNomialNB, german.data"
   ]
  },
  {
   "cell_type": "code",
   "execution_count": 37,
   "metadata": {
    "scrolled": true
   },
   "outputs": [],
   "source": [
    "dataset = Datos('./datos/german.data')\n",
    "\n",
    "m = MultinomialNB(alpha=1.0)\n",
    "data = dataset.datos[:, :-1]\n",
    "data_class = dataset.datos[:, -1]\n"
   ]
  },
  {
   "cell_type": "markdown",
   "metadata": {},
   "source": [
    "Validación Simple"
   ]
  },
  {
   "cell_type": "code",
   "execution_count": 38,
   "metadata": {},
   "outputs": [
    {
     "name": "stdout",
     "output_type": "stream",
     "text": [
      "0.36\n"
     ]
    }
   ],
   "source": [
    "data_train, data_test, data_class_train, data_class_test = train_test_split(data, data_class,\n",
    "                                                                            test_size=0.5)\n",
    "m.fit(data_train, data_class_train)\n",
    "score = m.score(data_test, data_class_test)\n",
    "invertido = 1 - score\n",
    "print(invertido)"
   ]
  },
  {
   "cell_type": "markdown",
   "metadata": {},
   "source": [
    "Validación Cruzada"
   ]
  },
  {
   "cell_type": "code",
   "execution_count": 39,
   "metadata": {},
   "outputs": [
    {
     "name": "stdout",
     "output_type": "stream",
     "text": [
      "0.36 0.030066592756745846\n"
     ]
    }
   ],
   "source": [
    "score = cross_val_score(m, data, data_class, cv=4)\n",
    "media = score.mean()\n",
    "invertido = 1 - media\n",
    "desv = score.std()\n",
    "print(invertido, desv)"
   ]
  },
  {
   "cell_type": "markdown",
   "metadata": {},
   "source": [
    "### MultiNomialNB, tic-tac-toe.data"
   ]
  },
  {
   "cell_type": "code",
   "execution_count": 40,
   "metadata": {
    "scrolled": true
   },
   "outputs": [],
   "source": [
    "dataset = Datos('./datos/tic-tac-toe.data')\n",
    "\n",
    "m = MultinomialNB(alpha=1.0)\n",
    "data = dataset.datos[:, :-1]\n",
    "data_class = dataset.datos[:, -1]\n"
   ]
  },
  {
   "cell_type": "markdown",
   "metadata": {},
   "source": [
    "Validación Simple"
   ]
  },
  {
   "cell_type": "code",
   "execution_count": 41,
   "metadata": {},
   "outputs": [
    {
     "name": "stdout",
     "output_type": "stream",
     "text": [
      "0.32776617954070986\n"
     ]
    }
   ],
   "source": [
    "data_train, data_test, data_class_train, data_class_test = train_test_split(data, data_class,\n",
    "                                                                            test_size=0.5)\n",
    "m.fit(data_train, data_class_train)\n",
    "score = m.score(data_test, data_class_test)\n",
    "invertido = 1 - score\n",
    "print(invertido)"
   ]
  },
  {
   "cell_type": "markdown",
   "metadata": {},
   "source": [
    "Validación Cruzada"
   ]
  },
  {
   "cell_type": "code",
   "execution_count": 42,
   "metadata": {},
   "outputs": [
    {
     "name": "stdout",
     "output_type": "stream",
     "text": [
      "0.3507017085076708 0.014643056198736864\n"
     ]
    }
   ],
   "source": [
    "score = cross_val_score(m, data, data_class, cv=4)\n",
    "media = score.mean()\n",
    "invertido = 1 - media\n",
    "desv = score.std()\n",
    "print(invertido, desv)"
   ]
  },
  {
   "cell_type": "markdown",
   "metadata": {},
   "source": [
    "### MultiNomialNB, lenses.data"
   ]
  },
  {
   "cell_type": "code",
   "execution_count": 43,
   "metadata": {
    "scrolled": true
   },
   "outputs": [],
   "source": [
    "dataset = Datos('./datos/lenses.data')\n",
    "\n",
    "m = MultinomialNB(alpha=1.0)\n",
    "data = dataset.datos[:, :-1]\n",
    "data_class = dataset.datos[:, -1]\n"
   ]
  },
  {
   "cell_type": "markdown",
   "metadata": {},
   "source": [
    "Validación Simple"
   ]
  },
  {
   "cell_type": "code",
   "execution_count": 44,
   "metadata": {},
   "outputs": [
    {
     "name": "stdout",
     "output_type": "stream",
     "text": [
      "0.25\n"
     ]
    }
   ],
   "source": [
    "data_train, data_test, data_class_train, data_class_test = train_test_split(data, data_class,\n",
    "                                                                            test_size=0.5)\n",
    "m.fit(data_train, data_class_train)\n",
    "score = m.score(data_test, data_class_test)\n",
    "invertido = 1 - score\n",
    "print(invertido)"
   ]
  },
  {
   "cell_type": "markdown",
   "metadata": {},
   "source": [
    "Validación Cruzada"
   ]
  },
  {
   "cell_type": "code",
   "execution_count": 45,
   "metadata": {},
   "outputs": [
    {
     "name": "stdout",
     "output_type": "stream",
     "text": [
      "0.3380952380952381 0.04068573212055968\n"
     ]
    }
   ],
   "source": [
    "score = cross_val_score(m, data, data_class, cv=4)\n",
    "media = score.mean()\n",
    "invertido = 1 - media\n",
    "desv = score.std()\n",
    "print(invertido, desv)"
   ]
  },
  {
   "cell_type": "markdown",
   "metadata": {},
   "source": [
    "### Breve Análisis de los Resultados Anteriores"
   ]
  },
  {
   "cell_type": "markdown",
   "metadata": {},
   "source": [
    "Observamos que los resultados obtenidos con GaussianNB son muy parecidos a los obtenidos con nuestro clasificador Naïve Bayes.\n",
    "En el conjunto de datos 'german.data' observamos que el porcentaje de error se encuentra también en torno a un 26%.\n",
    "En el conjunto de datos 'tic-tac-toe.data' observamos que el porcentaje de error se encuentra también en torno a un 30%, aunque este conjunto es más variable.\n",
    "En el conjunto de datos 'lenses.data' observamos que el porcentaje de error varía exactamente igual que en nuestro clasificador, consiguiendo resultados optimos al utilizar validación cruzada y no tan optimos con validación simple.\n",
    "\n",
    "Para MultinomialNB los resultados son levemente peores en los tres conjuntos de datos, pero estos resultados también son mucho más estables que los anteriores.\n",
    "\n"
   ]
  },
  {
   "cell_type": "raw",
   "metadata": {},
   "source": []
  }
 ],
 "metadata": {
  "kernelspec": {
   "display_name": "Python 3",
   "language": "python",
   "name": "python3"
  },
  "language_info": {
   "codemirror_mode": {
    "name": "ipython",
    "version": 3
   },
   "file_extension": ".py",
   "mimetype": "text/x-python",
   "name": "python",
   "nbconvert_exporter": "python",
   "pygments_lexer": "ipython3",
   "version": "3.7.5rc1"
  }
 },
 "nbformat": 4,
 "nbformat_minor": 2
}
