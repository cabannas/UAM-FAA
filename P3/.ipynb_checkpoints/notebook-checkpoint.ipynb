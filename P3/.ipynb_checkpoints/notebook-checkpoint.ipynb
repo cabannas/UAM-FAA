{
 "cells": [
  {
   "cell_type": "markdown",
   "metadata": {},
   "source": [
    "# Práctica 3"
   ]
  },
  {
   "cell_type": "code",
   "execution_count": 1,
   "metadata": {},
   "outputs": [],
   "source": [
    "import Clasificador\n",
    "import EstrategiaParticionado\n",
    "from Datos import Datos\n",
    "import pandas as pd\n",
    "import matplotlib.pyplot as plt"
   ]
  },
  {
   "cell_type": "markdown",
   "metadata": {},
   "source": [
    "## Apartado 1"
   ]
  },
  {
   "cell_type": "markdown",
   "metadata": {},
   "source": [
    "Breve descripción de algunos detalles de la implementación. Solo\n",
    "es necesario especificar los siguientes aspectos:"
   ]
  },
  {
   "cell_type": "markdown",
   "metadata": {},
   "source": [
    "### a) Generación de la población inicial con especial indicación del número de reglas por individuo consideradas"
   ]
  },
  {
   "cell_type": "markdown",
   "metadata": {},
   "source": [
    "Hemos implementado una función dentro de la clase 'ClasificadorAlgoritmoGenentico' llamada 'generar_poblacion_inicial'. Esta función devuelve una población de individuos inicial en función a los parámetros con los que se instancia el clasificador. La función únicamente recibe el diccionario de los datos para saber la estructura de los individuos. Los parámetros condicionantes de la población son: \n",
    "- El tamaño de la población.\n",
    "- El número máximo de reglas de cada individuo (cada individuo tendrá un número de reglas aleatorio entre 1 y el máximo de reglas definido por este parámetro).\n",
    "\n",
    "Generaremos tantos individuos como el tamaño de la población nos dicte, y los guardaremos en una lista llamada 'poblacion_inicial', que será lo que devuelva la función 'generar_poblacion_inicial'.\n",
    "\n",
    "Los individuos son una lista de reglas (como ya hemos dicho antes, el número de reglas es aleatorio entre 1 y el parámetro establecido). Las reglas son una lista de atributos más una clase como elemento final de la lista (la clase se representa con un bit, 1 ó 0). Los atributos son una lista de valores (bits) de longitud igual al número de posibilidades dentro de cada atributo. Es decir, si un atributo tiene 3 posibilidades distintas, la lista 'atributo' (correspondiente a ese atributo) dentro de la regla tendrá 3 bits.\n",
    "Tanto los bits de los valores dentro de los atributos como el bit de la clase son generados aleatoriamente.\n"
   ]
  },
  {
   "cell_type": "markdown",
   "metadata": {},
   "source": [
    "### b) Mecanismo de cruce implementado"
   ]
  },
  {
   "cell_type": "markdown",
   "metadata": {},
   "source": [
    "El mecanismo de cruce que hemos implementado es el siguiente:\n",
    "\n",
    "Se trata de un mecanismo de cruce total. Vamos recorriendo el número de individuos de 2 en 2, y según una probabilidad aleatoria condicionada por el parámetro del clasificador 'prob_cruce', los pares de individuos podrán cruzarse o no, generando en el primero de los casos 2 hijos que les sustituirán.\n",
    "\n",
    "El cruce funciona de la siguiente forma: \n",
    "\n",
    "- Elegimos aleatoriamente uno de los dos padres, y obtenemos el número máximo de reglas de éste (por ejemplo, 5 reglas). Entonces el hijo tendrá un número de reglas aleatorio entre 1 y el número de reglas máximo del padre seleccionado (p.e. un número aleatorio entre 1 y 5 -> 3).\n",
    "- Para cada regla del hijo, eligiremos una regla aleatoria de cada padre (p.e. el primer padre tiene 5 reglas y elegimos su regla 3, el segundo padre solo tiene una regla asi que elegimos esta regla).\n",
    "- Ahora eligiremos aleatoriamente cada bit de una de las reglas seleccionadas de los padres, incluyendo el bit de la clase. Es por esto que consideramos que el cruce es total, puesto que en vez de realizarse un cruce parcial en algún punto del cromosoma de bits, nosotros aplicamos un cruce aleatorio por cada bit.\n",
    "\n",
    "Este proceso lo repetimos de forma completa una segunda vez para un segundo hijo, y posteriormente sustituimos los dos padres por los dos hijos."
   ]
  },
  {
   "cell_type": "markdown",
   "metadata": {},
   "source": [
    "### c) Mecanismo de mutación implementado"
   ]
  },
  {
   "cell_type": "markdown",
   "metadata": {},
   "source": [
    "El mecanismo de cruce que hemos implementado es secuencial al de cruce (es decir, se aplica a la población resultante de la opearción de cruce) es el siguiente:\n",
    "\n",
    "Recorremos cada individuo, y  según una probabilidad aleatoria condicionada por el parámetro del clasificador 'prob_mutacion', los individuos podrán mutar o no.\n",
    "\n",
    "La mutación funciona de la siguiente forma:\n",
    "\n",
    "- Elegimos una regla aleatoria del individuo\n",
    "\n",
    "- Elegimos aleatoriamente un bit de entre todos los bits del cromosoma (incluyendo el último bit de la clase) y cambiamos su valor (realizamos un bitflip, si vale 0 lo cambiamos a 1 y viceversa)."
   ]
  },
  {
   "cell_type": "markdown",
   "metadata": {},
   "source": [
    "### d) Mecanismo de clasificación implementado"
   ]
  },
  {
   "cell_type": "markdown",
   "metadata": {},
   "source": [
    "El mecanismo de que utlizamos en esta práctica para clasificar los datos es el siguiente:\n",
    "\n",
    "Después de entrenar nuestra población durante una serie de generaciones (el entrenamiento se detiene cuando llegamos al número de épocas establecidas por el párametro 'num_epocas' o cuando se llega al número de generaciones sin mejorar establecido por el parámetro 'no_mejora') obtenemos el individuo con mejor fitness de la población.\n",
    "Utilizamos entonces este individuo únicamente para clasificar los datos de test desde la funcion 'clasifica', la cual devuelve una lista de predicciones de clase como el resto de clasificadores.\n"
   ]
  },
  {
   "cell_type": "markdown",
   "metadata": {},
   "source": [
    "## Apartado 2"
   ]
  },
  {
   "cell_type": "markdown",
   "metadata": {},
   "source": [
    "### Conjunto de datos 'tic-tac-toe.data'"
   ]
  },
  {
   "cell_type": "code",
   "execution_count": 2,
   "metadata": {},
   "outputs": [],
   "source": [
    "# Elegimos el conjunto de datos\n",
    "dataset = Datos('./DatasetEjemplo/tic-tac-toe.data')\n",
    "\n",
    "# Definimos una serie de listas para guardar los resultados que compararemos más adelante\n",
    "lista_resultados_tictactoe = []\n",
    "lista_indices_tictactoe = []\n",
    "lista_num_pop_tictactoe = []\n",
    "lista_epocas_tictactoe = []"
   ]
  },
  {
   "cell_type": "markdown",
   "metadata": {},
   "source": [
    "Con 100 individuos y 100 épocas:"
   ]
  },
  {
   "cell_type": "code",
   "execution_count": 3,
   "metadata": {},
   "outputs": [
    {
     "name": "stdout",
     "output_type": "stream",
     "text": [
      "Error:\n",
      "0.34237995824634654\n",
      "[[1, 1, 1], [1, 1, 1], [1, 1, 1], [1, 1, 1], [1, 1, 1], [1, 1, 1], [1, 1, 1], [1, 1, 1], [1, 1, 1], 1]\n",
      "[[1, 1, 1], [1, 1, 1], [1, 1, 1], [1, 1, 1], [1, 1, 1], [1, 1, 1], [1, 1, 1], [1, 1, 1], [1, 1, 1], 1]\n"
     ]
    }
   ],
   "source": [
    "# Elegimos la estrategia de particionado\n",
    "estrategia = EstrategiaParticionado.ValidacionSimple(porcentaje_particion=50)\n",
    "\n",
    "# Elegimos el clasificador\n",
    "clasificador = Clasificador.ClasificadorAlgoritmoGenetico(tam_poblacion=100, num_epocas=100,\n",
    "                                                          num_reglas_individuo=5,\n",
    "                                                          prob_cruce=85, prob_mutacion=10,\n",
    "                                                          prob_elitismo=5,no_mejora=100)\n",
    "# Calculamos el error y la desviación tipica\n",
    "error_media, error_std = clasificador.validacion(estrategia, dataset, clasificador)\n",
    "\n",
    "lista_resultados_tictactoe.append(error_media)\n",
    "lista_indices_tictactoe.append(1)\n",
    "lista_num_pop_tictactoe.append(100)\n",
    "lista_epocas_tictactoe.append(100)\n",
    "\n",
    "print(\"Error:\")\n",
    "print(error_media)\n",
    "\n",
    "clasificador.mejor_individuo()\n",
    "\n",
    "tic_tac_toe_mejores_fitness = clasificador.mejores_fitness\n",
    "tic_tac_toe_medios_fitness = clasificador.medios_fitness"
   ]
  },
  {
   "cell_type": "markdown",
   "metadata": {},
   "source": [
    "Con 100 individuos y 300 épocas:"
   ]
  },
  {
   "cell_type": "code",
   "execution_count": 4,
   "metadata": {},
   "outputs": [
    {
     "name": "stdout",
     "output_type": "stream",
     "text": [
      "Error:\n",
      "0.3235908141962422\n",
      "[[1, 1, 1], [1, 1, 1], [1, 1, 1], [1, 1, 1], [1, 1, 1], [1, 1, 1], [1, 1, 1], [1, 1, 1], [1, 1, 1], 1]\n"
     ]
    },
    {
     "data": {
      "text/plain": [
       "[[[1, 1, 1],\n",
       "  [1, 1, 1],\n",
       "  [1, 1, 1],\n",
       "  [1, 1, 1],\n",
       "  [1, 1, 1],\n",
       "  [1, 1, 1],\n",
       "  [1, 1, 1],\n",
       "  [1, 1, 1],\n",
       "  [1, 1, 1],\n",
       "  1]]"
      ]
     },
     "execution_count": 4,
     "metadata": {},
     "output_type": "execute_result"
    }
   ],
   "source": [
    "# Elegimos la estrategia de particionado\n",
    "estrategia = EstrategiaParticionado.ValidacionSimple(porcentaje_particion=50)\n",
    "\n",
    "# Elegimos el clasificador\n",
    "clasificador = Clasificador.ClasificadorAlgoritmoGenetico(tam_poblacion=100, num_epocas=300,\n",
    "                                                          num_reglas_individuo=5,\n",
    "                                                          prob_cruce=85, prob_mutacion=10,\n",
    "                                                          prob_elitismo=5,no_mejora=300)\n",
    "# Calculamos el error y la desviación tipica\n",
    "error_media, error_std = clasificador.validacion(estrategia, dataset, clasificador)\n",
    "\n",
    "lista_resultados_tictactoe.append(error_media)\n",
    "lista_indices_tictactoe.append(2)\n",
    "lista_num_pop_tictactoe.append(100)\n",
    "lista_epocas_tictactoe.append(300)\n",
    "\n",
    "print(\"Error:\")\n",
    "print(error_media)\n",
    "\n",
    "clasificador.mejor_individuo()"
   ]
  },
  {
   "cell_type": "markdown",
   "metadata": {},
   "source": [
    "Con 200 individuos y 100 épocas:"
   ]
  },
  {
   "cell_type": "code",
   "execution_count": 5,
   "metadata": {},
   "outputs": [
    {
     "name": "stdout",
     "output_type": "stream",
     "text": [
      "Error:\n",
      "0.35073068893528186\n",
      "[[1, 1, 1], [1, 1, 1], [1, 1, 1], [1, 1, 1], [1, 1, 1], [1, 1, 1], [1, 1, 1], [1, 1, 1], [1, 1, 1], 1]\n"
     ]
    },
    {
     "data": {
      "text/plain": [
       "[[[1, 1, 1],\n",
       "  [1, 1, 1],\n",
       "  [1, 1, 1],\n",
       "  [1, 1, 1],\n",
       "  [1, 1, 1],\n",
       "  [1, 1, 1],\n",
       "  [1, 1, 1],\n",
       "  [1, 1, 1],\n",
       "  [1, 1, 1],\n",
       "  1]]"
      ]
     },
     "execution_count": 5,
     "metadata": {},
     "output_type": "execute_result"
    }
   ],
   "source": [
    "# Elegimos la estrategia de particionado\n",
    "estrategia = EstrategiaParticionado.ValidacionSimple(porcentaje_particion=50)\n",
    "\n",
    "# Elegimos el clasificador\n",
    "clasificador = Clasificador.ClasificadorAlgoritmoGenetico(tam_poblacion=200, num_epocas=100,\n",
    "                                                          num_reglas_individuo=5,\n",
    "                                                          prob_cruce=85, prob_mutacion=10,\n",
    "                                                          prob_elitismo=5,no_mejora=100)\n",
    "# Calculamos el error y la desviación tipica\n",
    "error_media, error_std = clasificador.validacion(estrategia, dataset, clasificador)\n",
    "\n",
    "lista_resultados_tictactoe.append(error_media)\n",
    "lista_indices_tictactoe.append(3)\n",
    "lista_num_pop_tictactoe.append(200)\n",
    "lista_epocas_tictactoe.append(100)\n",
    "\n",
    "print(\"Error:\")\n",
    "print(error_media)\n",
    "\n",
    "clasificador.mejor_individuo()"
   ]
  },
  {
   "cell_type": "markdown",
   "metadata": {},
   "source": [
    "Con 200 individuos y 300 épocas:"
   ]
  },
  {
   "cell_type": "code",
   "execution_count": 6,
   "metadata": {},
   "outputs": [
    {
     "name": "stdout",
     "output_type": "stream",
     "text": [
      "Error:\n",
      "0.35281837160751567\n",
      "[[1, 1, 1], [1, 1, 1], [1, 1, 1], [1, 1, 1], [1, 1, 1], [1, 1, 1], [1, 1, 1], [1, 1, 1], [1, 1, 1], 1]\n"
     ]
    },
    {
     "data": {
      "text/plain": [
       "[[[1, 1, 1],\n",
       "  [1, 1, 1],\n",
       "  [1, 1, 1],\n",
       "  [1, 1, 1],\n",
       "  [1, 1, 1],\n",
       "  [1, 1, 1],\n",
       "  [1, 1, 1],\n",
       "  [1, 1, 1],\n",
       "  [1, 1, 1],\n",
       "  1]]"
      ]
     },
     "execution_count": 6,
     "metadata": {},
     "output_type": "execute_result"
    }
   ],
   "source": [
    "# Elegimos la estrategia de particionado\n",
    "estrategia = EstrategiaParticionado.ValidacionSimple(porcentaje_particion=50)\n",
    "\n",
    "# Elegimos el clasificador\n",
    "clasificador = Clasificador.ClasificadorAlgoritmoGenetico(tam_poblacion=200, num_epocas=300,\n",
    "                                                          num_reglas_individuo=5,\n",
    "                                                          prob_cruce=85, prob_mutacion=10,\n",
    "                                                          prob_elitismo=5,no_mejora=300)\n",
    "# Calculamos el error y la desviación tipica\n",
    "error_media, error_std = clasificador.validacion(estrategia, dataset, clasificador)\n",
    "\n",
    "lista_resultados_tictactoe.append(error_media)\n",
    "lista_indices_tictactoe.append(4)\n",
    "lista_num_pop_tictactoe.append(200)\n",
    "lista_epocas_tictactoe.append(300)\n",
    "\n",
    "print(\"Error:\")\n",
    "print(error_media)\n",
    "\n",
    "clasificador.mejor_individuo()"
   ]
  },
  {
   "cell_type": "code",
   "execution_count": 7,
   "metadata": {},
   "outputs": [
    {
     "data": {
      "text/html": [
       "<style  type=\"text/css\" >\n",
       "</style><table id=\"T_9186a1c8_2292_11ea_bc7b_37ca7fec546a\" ><thead>    <tr>        <th class=\"col_heading level0 col0\" >Número</th>        <th class=\"col_heading level0 col1\" >Tasa error (%)</th>        <th class=\"col_heading level0 col2\" >Tamaño de la población</th>        <th class=\"col_heading level0 col3\" >Número de épocas</th>    </tr></thead><tbody>\n",
       "                <tr>\n",
       "                                <td id=\"T_9186a1c8_2292_11ea_bc7b_37ca7fec546arow0_col0\" class=\"data row0 col0\" >1</td>\n",
       "                        <td id=\"T_9186a1c8_2292_11ea_bc7b_37ca7fec546arow0_col1\" class=\"data row0 col1\" >0.34238</td>\n",
       "                        <td id=\"T_9186a1c8_2292_11ea_bc7b_37ca7fec546arow0_col2\" class=\"data row0 col2\" >100</td>\n",
       "                        <td id=\"T_9186a1c8_2292_11ea_bc7b_37ca7fec546arow0_col3\" class=\"data row0 col3\" >100</td>\n",
       "            </tr>\n",
       "            <tr>\n",
       "                                <td id=\"T_9186a1c8_2292_11ea_bc7b_37ca7fec546arow1_col0\" class=\"data row1 col0\" >2</td>\n",
       "                        <td id=\"T_9186a1c8_2292_11ea_bc7b_37ca7fec546arow1_col1\" class=\"data row1 col1\" >0.323591</td>\n",
       "                        <td id=\"T_9186a1c8_2292_11ea_bc7b_37ca7fec546arow1_col2\" class=\"data row1 col2\" >100</td>\n",
       "                        <td id=\"T_9186a1c8_2292_11ea_bc7b_37ca7fec546arow1_col3\" class=\"data row1 col3\" >300</td>\n",
       "            </tr>\n",
       "            <tr>\n",
       "                                <td id=\"T_9186a1c8_2292_11ea_bc7b_37ca7fec546arow2_col0\" class=\"data row2 col0\" >3</td>\n",
       "                        <td id=\"T_9186a1c8_2292_11ea_bc7b_37ca7fec546arow2_col1\" class=\"data row2 col1\" >0.350731</td>\n",
       "                        <td id=\"T_9186a1c8_2292_11ea_bc7b_37ca7fec546arow2_col2\" class=\"data row2 col2\" >200</td>\n",
       "                        <td id=\"T_9186a1c8_2292_11ea_bc7b_37ca7fec546arow2_col3\" class=\"data row2 col3\" >100</td>\n",
       "            </tr>\n",
       "            <tr>\n",
       "                                <td id=\"T_9186a1c8_2292_11ea_bc7b_37ca7fec546arow3_col0\" class=\"data row3 col0\" >4</td>\n",
       "                        <td id=\"T_9186a1c8_2292_11ea_bc7b_37ca7fec546arow3_col1\" class=\"data row3 col1\" >0.352818</td>\n",
       "                        <td id=\"T_9186a1c8_2292_11ea_bc7b_37ca7fec546arow3_col2\" class=\"data row3 col2\" >200</td>\n",
       "                        <td id=\"T_9186a1c8_2292_11ea_bc7b_37ca7fec546arow3_col3\" class=\"data row3 col3\" >300</td>\n",
       "            </tr>\n",
       "    </tbody></table>"
      ],
      "text/plain": [
       "<pandas.io.formats.style.Styler at 0x7f0a128a8150>"
      ]
     },
     "metadata": {},
     "output_type": "display_data"
    }
   ],
   "source": [
    "dataFrame = zip(lista_indices_tictactoe, lista_resultados_tictactoe, lista_num_pop_tictactoe, lista_epocas_tictactoe)\n",
    "tabla1 = pd.DataFrame(dataFrame, columns=[\"Número\", \"Tasa error (%)\", \"Tamaño de la población\", \"Número de épocas\"]).style.hide_index()\n",
    "display(tabla1)"
   ]
  },
  {
   "cell_type": "markdown",
   "metadata": {},
   "source": [
    "### Breve Análisis de los Resultados Anteriores"
   ]
  },
  {
   "cell_type": "markdown",
   "metadata": {},
   "source": [
    "Podemos observar que la tasa de error suele ser similar en cualquiera de los 4 casos (en torno a un 33%-35% de error) .\n",
    "\n",
    "Esto se debe a que el individuo que mejor clasifica suele construirse con pocas reglas (1 ó 2 aunque el máximo de reglas está definido a 5) y todos los valores de las reglas están a 1 (indicando que aceptan cualquier posibilidad) incluyendo la clase (lo cual indica que la gran mayoría de los datos en nuestro conjunto clasifican a 1). Por ello este tipo de individuos tienden a ser los mejores."
   ]
  },
  {
   "cell_type": "markdown",
   "metadata": {},
   "source": [
    "### Conjunto de datos 'ejemplo1.data'"
   ]
  },
  {
   "cell_type": "code",
   "execution_count": 8,
   "metadata": {},
   "outputs": [],
   "source": [
    "# Elegimos el conjunto de datos\n",
    "dataset = Datos('./DatasetEjemplo/ejemplo1.data')\n",
    "\n",
    "# Definimos una serie de listas para guardar los resultados que compararemos más adelante\n",
    "lista_resultados_tictactoe = []\n",
    "lista_indices_tictactoe = []\n",
    "lista_num_pop_tictactoe = []\n",
    "lista_epocas_tictactoe = []"
   ]
  },
  {
   "cell_type": "markdown",
   "metadata": {},
   "source": [
    "Con 100 individuos y 100 épocas:"
   ]
  },
  {
   "cell_type": "code",
   "execution_count": 9,
   "metadata": {},
   "outputs": [
    {
     "name": "stdout",
     "output_type": "stream",
     "text": [
      "Error:\n",
      "0.0\n",
      "[[1, 0], [0, 1], 0]\n",
      "[[1, 1], [0, 0], 0]\n",
      "[[1, 0], [1, 0], 1]\n",
      "[[0, 1], [0, 1], 1]\n",
      "[[0, 1], [1, 0], 0]\n"
     ]
    }
   ],
   "source": [
    "# Elegimos la estrategia de particionado\n",
    "estrategia = EstrategiaParticionado.ValidacionSimple(porcentaje_particion=50)\n",
    "\n",
    "# Elegimos el clasificador\n",
    "clasificador = Clasificador.ClasificadorAlgoritmoGenetico(tam_poblacion=100, num_epocas=100,\n",
    "                                                          num_reglas_individuo=5,\n",
    "                                                          prob_cruce=85, prob_mutacion=10,\n",
    "                                                          prob_elitismo=5,no_mejora=100)\n",
    "# Calculamos el error y la desviación tipica\n",
    "error_media, error_std = clasificador.validacion(estrategia, dataset, clasificador)\n",
    "\n",
    "lista_resultados_tictactoe.append(error_media)\n",
    "lista_indices_tictactoe.append(1)\n",
    "lista_num_pop_tictactoe.append(100)\n",
    "lista_epocas_tictactoe.append(100)\n",
    "\n",
    "print(\"Error:\")\n",
    "print(error_media)\n",
    "\n",
    "clasificador.mejor_individuo()\n",
    "\n",
    "\n",
    "ejemplo1_mejores_fitness = clasificador.mejores_fitness\n",
    "ejemplo1_medios_fitness = clasificador.medios_fitness"
   ]
  },
  {
   "cell_type": "markdown",
   "metadata": {},
   "source": [
    "Con 100 individuos y 300 épocas:"
   ]
  },
  {
   "cell_type": "code",
   "execution_count": 10,
   "metadata": {},
   "outputs": [
    {
     "name": "stdout",
     "output_type": "stream",
     "text": [
      "Error:\n",
      "0.52\n",
      "[[1, 1], [1, 0], 0]\n",
      "[[1, 1], [0, 1], 1]\n"
     ]
    },
    {
     "data": {
      "text/plain": [
       "[[[1, 1], [1, 0], 0], [[1, 1], [0, 1], 1]]"
      ]
     },
     "execution_count": 10,
     "metadata": {},
     "output_type": "execute_result"
    }
   ],
   "source": [
    "# Elegimos la estrategia de particionado\n",
    "estrategia = EstrategiaParticionado.ValidacionSimple(porcentaje_particion=50)\n",
    "\n",
    "# Elegimos el clasificador\n",
    "clasificador = Clasificador.ClasificadorAlgoritmoGenetico(tam_poblacion=100, num_epocas=300,\n",
    "                                                          num_reglas_individuo=5,\n",
    "                                                          prob_cruce=85, prob_mutacion=10,\n",
    "                                                          prob_elitismo=5,no_mejora=300)\n",
    "# Calculamos el error y la desviación tipica\n",
    "error_media, error_std = clasificador.validacion(estrategia, dataset, clasificador)\n",
    "\n",
    "lista_resultados_tictactoe.append(error_media)\n",
    "lista_indices_tictactoe.append(2)\n",
    "lista_num_pop_tictactoe.append(100)\n",
    "lista_epocas_tictactoe.append(300)\n",
    "\n",
    "print(\"Error:\")\n",
    "print(error_media)\n",
    "\n",
    "clasificador.mejor_individuo()"
   ]
  },
  {
   "cell_type": "markdown",
   "metadata": {},
   "source": [
    "Con 200 individuos y 100 épocas:"
   ]
  },
  {
   "cell_type": "code",
   "execution_count": 11,
   "metadata": {},
   "outputs": [
    {
     "name": "stdout",
     "output_type": "stream",
     "text": [
      "Error:\n",
      "0.325\n",
      "[[1, 0], [0, 1], 0]\n",
      "[[0, 1], [1, 0], 0]\n",
      "[[1, 0], [1, 0], 1]\n"
     ]
    },
    {
     "data": {
      "text/plain": [
       "[[[1, 0], [0, 1], 0], [[0, 1], [1, 0], 0], [[1, 0], [1, 0], 1]]"
      ]
     },
     "execution_count": 11,
     "metadata": {},
     "output_type": "execute_result"
    }
   ],
   "source": [
    "# Elegimos la estrategia de particionado\n",
    "estrategia = EstrategiaParticionado.ValidacionSimple(porcentaje_particion=50)\n",
    "\n",
    "# Elegimos el clasificador\n",
    "clasificador = Clasificador.ClasificadorAlgoritmoGenetico(tam_poblacion=200, num_epocas=100,\n",
    "                                                          num_reglas_individuo=5,\n",
    "                                                          prob_cruce=85, prob_mutacion=10,\n",
    "                                                          prob_elitismo=5,no_mejora=100)\n",
    "# Calculamos el error y la desviación tipica\n",
    "error_media, error_std = clasificador.validacion(estrategia, dataset, clasificador)\n",
    "\n",
    "lista_resultados_tictactoe.append(error_media)\n",
    "lista_indices_tictactoe.append(3)\n",
    "lista_num_pop_tictactoe.append(200)\n",
    "lista_epocas_tictactoe.append(100)\n",
    "\n",
    "print(\"Error:\")\n",
    "print(error_media)\n",
    "\n",
    "clasificador.mejor_individuo()"
   ]
  },
  {
   "cell_type": "markdown",
   "metadata": {},
   "source": [
    "Con 200 individuos y 300 épocas:"
   ]
  },
  {
   "cell_type": "code",
   "execution_count": 12,
   "metadata": {},
   "outputs": [
    {
     "name": "stdout",
     "output_type": "stream",
     "text": [
      "Error:\n",
      "0.555\n",
      "[[1, 1], [1, 1], 0]\n"
     ]
    },
    {
     "data": {
      "text/plain": [
       "[[[1, 1], [1, 1], 0]]"
      ]
     },
     "execution_count": 12,
     "metadata": {},
     "output_type": "execute_result"
    }
   ],
   "source": [
    "# Elegimos la estrategia de particionado\n",
    "estrategia = EstrategiaParticionado.ValidacionSimple(porcentaje_particion=50)\n",
    "\n",
    "# Elegimos el clasificador\n",
    "clasificador = Clasificador.ClasificadorAlgoritmoGenetico(tam_poblacion=200, num_epocas=300,\n",
    "                                                          num_reglas_individuo=5,\n",
    "                                                          prob_cruce=85, prob_mutacion=10,\n",
    "                                                          prob_elitismo=5,no_mejora=300)\n",
    "# Calculamos el error y la desviación tipica\n",
    "error_media, error_std = clasificador.validacion(estrategia, dataset, clasificador)\n",
    "\n",
    "lista_resultados_tictactoe.append(error_media)\n",
    "lista_indices_tictactoe.append(4)\n",
    "lista_num_pop_tictactoe.append(200)\n",
    "lista_epocas_tictactoe.append(300)\n",
    "\n",
    "print(\"Error:\")\n",
    "print(error_media)\n",
    "\n",
    "clasificador.mejor_individuo()"
   ]
  },
  {
   "cell_type": "code",
   "execution_count": 13,
   "metadata": {},
   "outputs": [
    {
     "data": {
      "text/html": [
       "<style  type=\"text/css\" >\n",
       "</style><table id=\"T_c8ec9ffa_2292_11ea_bc7b_37ca7fec546a\" ><thead>    <tr>        <th class=\"col_heading level0 col0\" >Número</th>        <th class=\"col_heading level0 col1\" >Tasa error (%)</th>        <th class=\"col_heading level0 col2\" >Tamaño de la población</th>        <th class=\"col_heading level0 col3\" >Número de épocas</th>    </tr></thead><tbody>\n",
       "                <tr>\n",
       "                                <td id=\"T_c8ec9ffa_2292_11ea_bc7b_37ca7fec546arow0_col0\" class=\"data row0 col0\" >1</td>\n",
       "                        <td id=\"T_c8ec9ffa_2292_11ea_bc7b_37ca7fec546arow0_col1\" class=\"data row0 col1\" >0</td>\n",
       "                        <td id=\"T_c8ec9ffa_2292_11ea_bc7b_37ca7fec546arow0_col2\" class=\"data row0 col2\" >100</td>\n",
       "                        <td id=\"T_c8ec9ffa_2292_11ea_bc7b_37ca7fec546arow0_col3\" class=\"data row0 col3\" >100</td>\n",
       "            </tr>\n",
       "            <tr>\n",
       "                                <td id=\"T_c8ec9ffa_2292_11ea_bc7b_37ca7fec546arow1_col0\" class=\"data row1 col0\" >2</td>\n",
       "                        <td id=\"T_c8ec9ffa_2292_11ea_bc7b_37ca7fec546arow1_col1\" class=\"data row1 col1\" >0.52</td>\n",
       "                        <td id=\"T_c8ec9ffa_2292_11ea_bc7b_37ca7fec546arow1_col2\" class=\"data row1 col2\" >100</td>\n",
       "                        <td id=\"T_c8ec9ffa_2292_11ea_bc7b_37ca7fec546arow1_col3\" class=\"data row1 col3\" >300</td>\n",
       "            </tr>\n",
       "            <tr>\n",
       "                                <td id=\"T_c8ec9ffa_2292_11ea_bc7b_37ca7fec546arow2_col0\" class=\"data row2 col0\" >3</td>\n",
       "                        <td id=\"T_c8ec9ffa_2292_11ea_bc7b_37ca7fec546arow2_col1\" class=\"data row2 col1\" >0.325</td>\n",
       "                        <td id=\"T_c8ec9ffa_2292_11ea_bc7b_37ca7fec546arow2_col2\" class=\"data row2 col2\" >200</td>\n",
       "                        <td id=\"T_c8ec9ffa_2292_11ea_bc7b_37ca7fec546arow2_col3\" class=\"data row2 col3\" >100</td>\n",
       "            </tr>\n",
       "            <tr>\n",
       "                                <td id=\"T_c8ec9ffa_2292_11ea_bc7b_37ca7fec546arow3_col0\" class=\"data row3 col0\" >4</td>\n",
       "                        <td id=\"T_c8ec9ffa_2292_11ea_bc7b_37ca7fec546arow3_col1\" class=\"data row3 col1\" >0.555</td>\n",
       "                        <td id=\"T_c8ec9ffa_2292_11ea_bc7b_37ca7fec546arow3_col2\" class=\"data row3 col2\" >200</td>\n",
       "                        <td id=\"T_c8ec9ffa_2292_11ea_bc7b_37ca7fec546arow3_col3\" class=\"data row3 col3\" >300</td>\n",
       "            </tr>\n",
       "    </tbody></table>"
      ],
      "text/plain": [
       "<pandas.io.formats.style.Styler at 0x7f0a1175ea10>"
      ]
     },
     "metadata": {},
     "output_type": "display_data"
    }
   ],
   "source": [
    "dataFrame = zip(lista_indices_tictactoe, lista_resultados_tictactoe, lista_num_pop_tictactoe, lista_epocas_tictactoe)\n",
    "tabla1 = pd.DataFrame(dataFrame, columns=[\"Número\", \"Tasa error (%)\", \"Tamaño de la población\", \"Número de épocas\"]).style.hide_index()\n",
    "display(tabla1)"
   ]
  },
  {
   "cell_type": "markdown",
   "metadata": {},
   "source": [
    "### Breve Análisis de los Resultados Anteriores"
   ]
  },
  {
   "cell_type": "markdown",
   "metadata": {},
   "source": [
    "Podemos observar que la tasa de error suele encontrarse en torno al 25%-28% aunque en ocasiones puede variar tanto a mejor como a peor. Esto se debe a la complejidad del conjunto de datos, que no es tan alta como la de 'tic-tac-toe.data'\n",
    "\n",
    "En general son unos buenos resultados, y podemos observar que son distintos individuos con distintos números de reglas los que consiguen clasificar mejor, indicando que hay variedad."
   ]
  },
  {
   "cell_type": "markdown",
   "metadata": {},
   "source": [
    "### Conjunto de datos 'ejemplo2.data'"
   ]
  },
  {
   "cell_type": "code",
   "execution_count": 14,
   "metadata": {},
   "outputs": [],
   "source": [
    "# Elegimos el conjunto de datos\n",
    "dataset = Datos('./DatasetEjemplo/ejemplo2.data')\n",
    "\n",
    "# Definimos una serie de listas para guardar los resultados que compararemos más adelante\n",
    "lista_resultados_tictactoe = []\n",
    "lista_indices_tictactoe = []\n",
    "lista_num_pop_tictactoe = []\n",
    "lista_epocas_tictactoe = []"
   ]
  },
  {
   "cell_type": "markdown",
   "metadata": {},
   "source": [
    "Con 100 individuos y 100 épocas:"
   ]
  },
  {
   "cell_type": "code",
   "execution_count": 15,
   "metadata": {},
   "outputs": [
    {
     "name": "stdout",
     "output_type": "stream",
     "text": [
      "Error:\n",
      "0.0\n",
      "[[0, 1], [1, 1], 1]\n",
      "[[1, 0], [1, 1], 0]\n"
     ]
    }
   ],
   "source": [
    "# Elegimos la estrategia de particionado\n",
    "estrategia = EstrategiaParticionado.ValidacionSimple(porcentaje_particion=50)\n",
    "\n",
    "# Elegimos el clasificador\n",
    "clasificador = Clasificador.ClasificadorAlgoritmoGenetico(tam_poblacion=100, num_epocas=100,\n",
    "                                                          num_reglas_individuo=5,\n",
    "                                                          prob_cruce=85, prob_mutacion=10,\n",
    "                                                          prob_elitismo=5,no_mejora=100)\n",
    "# Calculamos el error y la desviación tipica\n",
    "error_media, error_std = clasificador.validacion(estrategia, dataset, clasificador)\n",
    "\n",
    "lista_resultados_tictactoe.append(error_media)\n",
    "lista_indices_tictactoe.append(1)\n",
    "lista_num_pop_tictactoe.append(100)\n",
    "lista_epocas_tictactoe.append(100)\n",
    "\n",
    "print(\"Error:\")\n",
    "print(error_media)\n",
    "\n",
    "clasificador.mejor_individuo()\n",
    "\n",
    "ejemplo2_mejores_fitness = clasificador.mejores_fitness\n",
    "ejemplo2_medios_fitness = clasificador.medios_fitness"
   ]
  },
  {
   "cell_type": "markdown",
   "metadata": {},
   "source": [
    "Con 100 individuos y 300 épocas:"
   ]
  },
  {
   "cell_type": "code",
   "execution_count": 16,
   "metadata": {},
   "outputs": [
    {
     "name": "stdout",
     "output_type": "stream",
     "text": [
      "Error:\n",
      "0.0\n",
      "[[0, 1], [1, 1], 1]\n",
      "[[1, 0], [1, 1], 0]\n"
     ]
    },
    {
     "data": {
      "text/plain": [
       "[[[0, 1], [1, 1], 1], [[1, 0], [1, 1], 0]]"
      ]
     },
     "execution_count": 16,
     "metadata": {},
     "output_type": "execute_result"
    }
   ],
   "source": [
    "# Elegimos la estrategia de particionado\n",
    "estrategia = EstrategiaParticionado.ValidacionSimple(porcentaje_particion=50)\n",
    "\n",
    "# Elegimos el clasificador\n",
    "clasificador = Clasificador.ClasificadorAlgoritmoGenetico(tam_poblacion=100, num_epocas=300,\n",
    "                                                          num_reglas_individuo=5,\n",
    "                                                          prob_cruce=85, prob_mutacion=10,\n",
    "                                                          prob_elitismo=5,no_mejora=300)\n",
    "# Calculamos el error y la desviación tipica\n",
    "error_media, error_std = clasificador.validacion(estrategia, dataset, clasificador)\n",
    "\n",
    "lista_resultados_tictactoe.append(error_media)\n",
    "lista_indices_tictactoe.append(2)\n",
    "lista_num_pop_tictactoe.append(100)\n",
    "lista_epocas_tictactoe.append(300)\n",
    "\n",
    "print(\"Error:\")\n",
    "print(error_media)\n",
    "\n",
    "clasificador.mejor_individuo()"
   ]
  },
  {
   "cell_type": "markdown",
   "metadata": {},
   "source": [
    "Con 200 individuos y 100 épocas:"
   ]
  },
  {
   "cell_type": "code",
   "execution_count": 17,
   "metadata": {},
   "outputs": [
    {
     "name": "stdout",
     "output_type": "stream",
     "text": [
      "Error:\n",
      "0.0\n",
      "[[1, 1], [1, 1], 1]\n",
      "[[1, 0], [1, 1], 0]\n",
      "[[1, 0], [1, 1], 0]\n"
     ]
    },
    {
     "data": {
      "text/plain": [
       "[[[1, 1], [1, 1], 1], [[1, 0], [1, 1], 0], [[1, 0], [1, 1], 0]]"
      ]
     },
     "execution_count": 17,
     "metadata": {},
     "output_type": "execute_result"
    }
   ],
   "source": [
    "# Elegimos la estrategia de particionado\n",
    "estrategia = EstrategiaParticionado.ValidacionSimple(porcentaje_particion=50)\n",
    "\n",
    "# Elegimos el clasificador\n",
    "clasificador = Clasificador.ClasificadorAlgoritmoGenetico(tam_poblacion=200, num_epocas=100,\n",
    "                                                          num_reglas_individuo=5,\n",
    "                                                          prob_cruce=85, prob_mutacion=10,\n",
    "                                                          prob_elitismo=5,no_mejora=100)\n",
    "# Calculamos el error y la desviación tipica\n",
    "error_media, error_std = clasificador.validacion(estrategia, dataset, clasificador)\n",
    "\n",
    "lista_resultados_tictactoe.append(error_media)\n",
    "lista_indices_tictactoe.append(3)\n",
    "lista_num_pop_tictactoe.append(200)\n",
    "lista_epocas_tictactoe.append(100)\n",
    "\n",
    "print(\"Error:\")\n",
    "print(error_media)\n",
    "\n",
    "clasificador.mejor_individuo()"
   ]
  },
  {
   "cell_type": "markdown",
   "metadata": {},
   "source": [
    "Con 200 individuos y 300 épocas:"
   ]
  },
  {
   "cell_type": "code",
   "execution_count": 18,
   "metadata": {},
   "outputs": [
    {
     "name": "stdout",
     "output_type": "stream",
     "text": [
      "Error:\n",
      "0.0\n",
      "[[1, 0], [1, 1], 0]\n",
      "[[0, 1], [1, 1], 1]\n"
     ]
    },
    {
     "data": {
      "text/plain": [
       "[[[1, 0], [1, 1], 0], [[0, 1], [1, 1], 1]]"
      ]
     },
     "execution_count": 18,
     "metadata": {},
     "output_type": "execute_result"
    }
   ],
   "source": [
    "# Elegimos la estrategia de particionado\n",
    "estrategia = EstrategiaParticionado.ValidacionSimple(porcentaje_particion=50)\n",
    "\n",
    "# Elegimos el clasificador\n",
    "clasificador = Clasificador.ClasificadorAlgoritmoGenetico(tam_poblacion=200, num_epocas=300,\n",
    "                                                          num_reglas_individuo=5,\n",
    "                                                          prob_cruce=85, prob_mutacion=10,\n",
    "                                                          prob_elitismo=5,no_mejora=300)\n",
    "# Calculamos el error y la desviación tipica\n",
    "error_media, error_std = clasificador.validacion(estrategia, dataset, clasificador)\n",
    "\n",
    "lista_resultados_tictactoe.append(error_media)\n",
    "lista_indices_tictactoe.append(4)\n",
    "lista_num_pop_tictactoe.append(200)\n",
    "lista_epocas_tictactoe.append(300)\n",
    "\n",
    "print(\"Error:\")\n",
    "print(error_media)\n",
    "\n",
    "clasificador.mejor_individuo()"
   ]
  },
  {
   "cell_type": "code",
   "execution_count": 19,
   "metadata": {},
   "outputs": [
    {
     "data": {
      "text/html": [
       "<style  type=\"text/css\" >\n",
       "</style><table id=\"T_01f6c08c_2293_11ea_bc7b_37ca7fec546a\" ><thead>    <tr>        <th class=\"col_heading level0 col0\" >Número</th>        <th class=\"col_heading level0 col1\" >Tasa error (%)</th>        <th class=\"col_heading level0 col2\" >Tamaño de la población</th>        <th class=\"col_heading level0 col3\" >Número de épocas</th>    </tr></thead><tbody>\n",
       "                <tr>\n",
       "                                <td id=\"T_01f6c08c_2293_11ea_bc7b_37ca7fec546arow0_col0\" class=\"data row0 col0\" >1</td>\n",
       "                        <td id=\"T_01f6c08c_2293_11ea_bc7b_37ca7fec546arow0_col1\" class=\"data row0 col1\" >0</td>\n",
       "                        <td id=\"T_01f6c08c_2293_11ea_bc7b_37ca7fec546arow0_col2\" class=\"data row0 col2\" >100</td>\n",
       "                        <td id=\"T_01f6c08c_2293_11ea_bc7b_37ca7fec546arow0_col3\" class=\"data row0 col3\" >100</td>\n",
       "            </tr>\n",
       "            <tr>\n",
       "                                <td id=\"T_01f6c08c_2293_11ea_bc7b_37ca7fec546arow1_col0\" class=\"data row1 col0\" >2</td>\n",
       "                        <td id=\"T_01f6c08c_2293_11ea_bc7b_37ca7fec546arow1_col1\" class=\"data row1 col1\" >0</td>\n",
       "                        <td id=\"T_01f6c08c_2293_11ea_bc7b_37ca7fec546arow1_col2\" class=\"data row1 col2\" >100</td>\n",
       "                        <td id=\"T_01f6c08c_2293_11ea_bc7b_37ca7fec546arow1_col3\" class=\"data row1 col3\" >300</td>\n",
       "            </tr>\n",
       "            <tr>\n",
       "                                <td id=\"T_01f6c08c_2293_11ea_bc7b_37ca7fec546arow2_col0\" class=\"data row2 col0\" >3</td>\n",
       "                        <td id=\"T_01f6c08c_2293_11ea_bc7b_37ca7fec546arow2_col1\" class=\"data row2 col1\" >0</td>\n",
       "                        <td id=\"T_01f6c08c_2293_11ea_bc7b_37ca7fec546arow2_col2\" class=\"data row2 col2\" >200</td>\n",
       "                        <td id=\"T_01f6c08c_2293_11ea_bc7b_37ca7fec546arow2_col3\" class=\"data row2 col3\" >100</td>\n",
       "            </tr>\n",
       "            <tr>\n",
       "                                <td id=\"T_01f6c08c_2293_11ea_bc7b_37ca7fec546arow3_col0\" class=\"data row3 col0\" >4</td>\n",
       "                        <td id=\"T_01f6c08c_2293_11ea_bc7b_37ca7fec546arow3_col1\" class=\"data row3 col1\" >0</td>\n",
       "                        <td id=\"T_01f6c08c_2293_11ea_bc7b_37ca7fec546arow3_col2\" class=\"data row3 col2\" >200</td>\n",
       "                        <td id=\"T_01f6c08c_2293_11ea_bc7b_37ca7fec546arow3_col3\" class=\"data row3 col3\" >300</td>\n",
       "            </tr>\n",
       "    </tbody></table>"
      ],
      "text/plain": [
       "<pandas.io.formats.style.Styler at 0x7f0a111f8350>"
      ]
     },
     "metadata": {},
     "output_type": "display_data"
    }
   ],
   "source": [
    "dataFrame = zip(lista_indices_tictactoe, lista_resultados_tictactoe, lista_num_pop_tictactoe, lista_epocas_tictactoe)\n",
    "tabla1 = pd.DataFrame(dataFrame, columns=[\"Número\", \"Tasa error (%)\", \"Tamaño de la población\", \"Número de épocas\"]).style.hide_index()\n",
    "display(tabla1)"
   ]
  },
  {
   "cell_type": "markdown",
   "metadata": {},
   "source": [
    "### Breve Análisis de los Resultados Anteriores"
   ]
  },
  {
   "cell_type": "markdown",
   "metadata": {},
   "source": [
    "Podemos observar que encontramos una solución completa repetidas veces con un individuo.\n",
    "\n",
    "Este individuo es el:\n",
    "\n",
    "[[1, 0], [1, 1], 0]\n",
    "\n",
    "[[0, 1], [1, 1], 1]\n",
    "\n",
    "o el mismo individuo con sus reglas invertidas:\n",
    "\n",
    "[[0, 1], [1, 1], 1]\n",
    "\n",
    "[[1, 0], [1, 1], 0]\n",
    "\n",
    "Este individuo consigue clasificar correctamente todos los resultados (al menos en el número de ejecuciones que hemos realizado), lo cual indica que es una solución al problema."
   ]
  },
  {
   "cell_type": "markdown",
   "metadata": {},
   "source": [
    "### Comentario:"
   ]
  },
  {
   "cell_type": "markdown",
   "metadata": {},
   "source": [
    "Hemos utilizado la estrategia de particionado 'Validación Simple' en esta práctica, ya que no afecta a la ejecución el tipo de particionado según nuestras ejecuciones, y puesto que la práctica tarda en ejecutarse, hemos elegido la estrategia de menor coste computacional."
   ]
  },
  {
   "cell_type": "markdown",
   "metadata": {},
   "source": [
    "## Apartado 3 "
   ]
  },
  {
   "cell_type": "markdown",
   "metadata": {},
   "source": [
    "Aunque hemos realizado un análisis de los resultados para cada conjunto, vamos a sintetizar toda esa información en este apartado:\n",
    "\n",
    "Hemos podido comprobar que aún estableciendo un número de reglas máximo de 5 reglas para todos los casos, los mejores individuos tienden a tener pocas reglas (1 ó 2), y concluimos que esto se debe a que cuanto mayor es el número de reglas, más discrepancia y varación existe dentro del individuo, implicando que clasifique peor.\n",
    "\n",
    "El tamaño de la población es un parámetro que no ha implicado mucha diferencia, hemos podido notar que aún aumentando el tamaño, el tiempo de ejecución del clasificador no ha variado mucho, lo cual nos da a entender que simplemente con un número mayor de individuos tiende a encontrar un individuo mejor más rápido, pero debido al número de generaciones que hay, al final siempre se encuentran individuos similares.\n",
    "\n",
    "Y el parámetro de generaciones actua de forma similar: Hemos coartado las generaciones utilizando el parametro 'no_mejora', con distintas limitaciones y hemos obtenido siempre resultados similares.\n",
    "\n",
    "Respecto a la tasa de mutación y de cruce, hemos observado que en poblaciones grandes y un número acotado de generaciones tiene un impacto mayor que con un número alto de generaciones. De todas formas, los resultados finales están condicionados sobre todo por la posibilidad del elitismo, dejando al cruce y la mutación en segundo plano."
   ]
  },
  {
   "cell_type": "markdown",
   "metadata": {},
   "source": [
    "## Apartado 4"
   ]
  },
  {
   "cell_type": "markdown",
   "metadata": {},
   "source": [
    "### Conjunto de datos 'tic-tac-toe.data'"
   ]
  },
  {
   "cell_type": "code",
   "execution_count": 20,
   "metadata": {
    "scrolled": true
   },
   "outputs": [
    {
     "data": {
      "text/plain": [
       "[<matplotlib.lines.Line2D at 0x7f0a12e01410>]"
      ]
     },
     "execution_count": 20,
     "metadata": {},
     "output_type": "execute_result"
    },
    {
     "data": {
      "image/png": "[encoded data removed]",
      "text/plain": [
       "<Figure size 720x720 with 1 Axes>"
      ]
     },
     "metadata": {
      "needs_background": "light"
     },
     "output_type": "display_data"
    }
   ],
   "source": [
    "fig = plt.figure(figsize = (10,10))\n",
    "plt.ylim(0.0, 1.0)\n",
    "plt.plot(range(0, 100), tic_tac_toe_mejores_fitness)\n"
   ]
  },
  {
   "cell_type": "code",
   "execution_count": 21,
   "metadata": {
    "scrolled": false
   },
   "outputs": [
    {
     "data": {
      "text/plain": [
       "[<matplotlib.lines.Line2D at 0x7f0a0f13b7d0>]"
      ]
     },
     "execution_count": 21,
     "metadata": {},
     "output_type": "execute_result"
    },
    {
     "data": {
      "image/png": "[encoded data removed]",
      "text/plain": [
       "<Figure size 720x720 with 1 Axes>"
      ]
     },
     "metadata": {
      "needs_background": "light"
     },
     "output_type": "display_data"
    }
   ],
   "source": [
    "fig = plt.figure(figsize = (10,10))\n",
    "plt.ylim(0.0, 1.0)\n",
    "plt.plot(range(0, 100), tic_tac_toe_medios_fitness)"
   ]
  },
  {
   "cell_type": "markdown",
   "metadata": {},
   "source": [
    "Podemos observar en el conjunto de datos de 'tic-tac-toe.data' que tanto el mejor individuo como la población en general van mejorando hasta cierto punto donde se estancan. Esto ocurre debido a nuestra implementación del cruce total (cruce bit a bit) que genera un individuo con todos o casi todos los valores a 1, y de ahí no mejora. Aun así obtenemos unos resultados aceptables."
   ]
  },
  {
   "cell_type": "markdown",
   "metadata": {},
   "source": [
    "### Conjunto de datos 'ejemplo1.data'"
   ]
  },
  {
   "cell_type": "code",
   "execution_count": 26,
   "metadata": {},
   "outputs": [
    {
     "data": {
      "text/plain": [
       "[<matplotlib.lines.Line2D at 0x7f0a0e909210>]"
      ]
     },
     "execution_count": 26,
     "metadata": {},
     "output_type": "execute_result"
    },
    {
     "data": {
      "image/png": "[encoded data removed]",
      "text/plain": [
       "<Figure size 720x720 with 1 Axes>"
      ]
     },
     "metadata": {
      "needs_background": "light"
     },
     "output_type": "display_data"
    }
   ],
   "source": [
    "fig = plt.figure(figsize = (10,10))\n",
    "#plt.ylim(0.0, 1.0)\n",
    "plt.plot(range(0, 100), ejemplo1_mejores_fitness)\n"
   ]
  },
  {
   "cell_type": "code",
   "execution_count": 23,
   "metadata": {
    "scrolled": false
   },
   "outputs": [
    {
     "data": {
      "text/plain": [
       "[<matplotlib.lines.Line2D at 0x7f0a0f0dafd0>]"
      ]
     },
     "execution_count": 23,
     "metadata": {},
     "output_type": "execute_result"
    },
    {
     "data": {
      "image/png": "[encoded data removed]",
      "text/plain": [
       "<Figure size 720x720 with 1 Axes>"
      ]
     },
     "metadata": {
      "needs_background": "light"
     },
     "output_type": "display_data"
    }
   ],
   "source": [
    "fig = plt.figure(figsize = (10,10))\n",
    "plt.ylim(0.0, 1.0)\n",
    "plt.plot(range(0, 100), ejemplo1_medios_fitness)"
   ]
  },
  {
   "cell_type": "markdown",
   "metadata": {},
   "source": [
    "Aquí vemos que uno de los individuos alcanza la solución correcta (coloquialmente podríamos decir, que \"da en el blanco\") obteniendo el conjunto de reglas que da solución al conjunto de datos. Se puede observar una ligera mejoría en la media de la población con el paso del tiempo. "
   ]
  },
  {
   "cell_type": "markdown",
   "metadata": {},
   "source": [
    "### Conjunto de datos 'ejemplo2.data'"
   ]
  },
  {
   "cell_type": "code",
   "execution_count": 24,
   "metadata": {},
   "outputs": [
    {
     "data": {
      "text/plain": [
       "[<matplotlib.lines.Line2D at 0x7f0a0efe97d0>]"
      ]
     },
     "execution_count": 24,
     "metadata": {},
     "output_type": "execute_result"
    },
    {
     "data": {
      "image/png": "[encoded data removed]",
      "text/plain": [
       "<Figure size 720x720 with 1 Axes>"
      ]
     },
     "metadata": {
      "needs_background": "light"
     },
     "output_type": "display_data"
    }
   ],
   "source": [
    "fig = plt.figure(figsize = (10,10))\n",
    "# plt.ylim(0.0, 1.0)\n",
    "plt.plot(range(0, 100), ejemplo2_mejores_fitness)\n"
   ]
  },
  {
   "cell_type": "code",
   "execution_count": 25,
   "metadata": {
    "scrolled": true
   },
   "outputs": [
    {
     "data": {
      "text/plain": [
       "[<matplotlib.lines.Line2D at 0x7f0a0ef9bd10>]"
      ]
     },
     "execution_count": 25,
     "metadata": {},
     "output_type": "execute_result"
    },
    {
     "data": {
      "image/png": "[encoded data removed]",
      "text/plain": [
       "<Figure size 720x720 with 1 Axes>"
      ]
     },
     "metadata": {
      "needs_background": "light"
     },
     "output_type": "display_data"
    }
   ],
   "source": [
    "fig = plt.figure(figsize = (10,10))\n",
    "plt.ylim(0.0, 1.0)\n",
    "plt.plot(range(0, 100), ejemplo2_medios_fitness)"
   ]
  },
  {
   "cell_type": "markdown",
   "metadata": {},
   "source": [
    "En estas últimas graficas observamos que un individuo alcanza la solución rapidamente (alrededor de la generación 18). El resto de individuos mejora su fitness hasta cierto punto donde se estanca."
   ]
  },
  {
   "cell_type": "code",
   "execution_count": null,
   "metadata": {},
   "outputs": [],
   "source": []
  }
 ],
 "metadata": {
  "kernelspec": {
   "display_name": "Python 3",
   "language": "python",
   "name": "python3"
  },
  "language_info": {
   "codemirror_mode": {
    "name": "ipython",
    "version": 3
   },
   "file_extension": ".py",
   "mimetype": "text/x-python",
   "name": "python",
   "nbconvert_exporter": "python",
   "pygments_lexer": "ipython3",
   "version": "3.7.5"
  }
 },
 "nbformat": 4,
 "nbformat_minor": 2
}
